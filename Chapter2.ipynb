{
 "cells": [
  {
   "cell_type": "code",
   "execution_count": 3,
   "id": "00e89e8f-bb42-49fd-ac45-8f2ad0bd5df1",
   "metadata": {},
   "outputs": [
    {
     "name": "stdin",
     "output_type": "stream",
     "text": [
      "Enter Days:  398\n"
     ]
    },
    {
     "name": "stdout",
     "output_type": "stream",
     "text": [
      "1 years 1 months 3 days\n"
     ]
    }
   ],
   "source": [
    "#Convert days into year, months and days\n",
    "days=int(input(\"Enter Days: \"))\n",
    "years=days//365\n",
    "months=(days%365)//30\n",
    "days=(days%365%30)\n",
    "print(f\"{years} years {months} months {days} days\")"
   ]
  },
  {
   "cell_type": "code",
   "execution_count": 11,
   "id": "79dd4495-d23d-4354-bc02-866a8c04ebf6",
   "metadata": {},
   "outputs": [
    {
     "name": "stdin",
     "output_type": "stream",
     "text": [
      "Enter Seconds:  100000\n"
     ]
    },
    {
     "name": "stdout",
     "output_type": "stream",
     "text": [
      "1:3:46:40\n"
     ]
    }
   ],
   "source": [
    "#Convert Seconds into days,hours,minutes and seconds\n",
    "seconds=int(input('Enter Seconds: '))\n",
    "days=seconds//(24*3600)\n",
    "hours=seconds%(24*3600)//3600\n",
    "minutes=seconds%(24*3600)%3600//60\n",
    "seconds=seconds%(24*3600)%60%60\n",
    "print(f'{days}:{hours}:{minutes}:{seconds}')"
   ]
  },
  {
   "cell_type": "code",
   "execution_count": 1,
   "id": "b9dcdbe7-8ac7-4fdb-89b2-fd970fa87795",
   "metadata": {},
   "outputs": [
    {
     "name": "stdin",
     "output_type": "stream",
     "text": [
      "Enter time (1-12):  8\n"
     ]
    },
    {
     "name": "stdout",
     "output_type": "stream",
     "text": [
      "\n",
      "    1 - AM\n",
      "    2 - PM\n",
      "    \n"
     ]
    },
    {
     "name": "stdin",
     "output_type": "stream",
     "text": [
      "Enter choice:  1\n"
     ]
    },
    {
     "name": "stdout",
     "output_type": "stream",
     "text": [
      "8 AM\n"
     ]
    },
    {
     "name": "stdin",
     "output_type": "stream",
     "text": [
      "Enter hours to increment:  37\n"
     ]
    },
    {
     "name": "stdout",
     "output_type": "stream",
     "text": [
      "9 PM\n"
     ]
    }
   ],
   "source": [
    "while True:\n",
    "    hour = int(input('Enter time (1-12): '))\n",
    "    if hour < 1 or hour > 12:\n",
    "        print('Enter valid hour input')\n",
    "        continue\n",
    "\n",
    "    print('''\n",
    "    1 - AM\n",
    "    2 - PM\n",
    "    ''')\n",
    "    ch = int(input('Enter choice: '))\n",
    "    if ch == 1:\n",
    "        time = 'AM'\n",
    "    elif ch == 2:\n",
    "        time = 'PM'\n",
    "    else:\n",
    "        print('Enter valid input')\n",
    "        continue\n",
    "\n",
    "    print(f'{hour} {time}')\n",
    "    inc = int(input('Enter hours to increment: '))\n",
    "    \n",
    "    # Calculating new hour\n",
    "    ft = hour + inc\n",
    "    cycles = ft // 12  # Number of 12-hour cycles\n",
    "    ft = ft % 12\n",
    "    if ft == 0:\n",
    "        ft = 12\n",
    "\n",
    "    # Toggle AM/PM based on cycles\n",
    "    if cycles % 2 == 1:\n",
    "        if time == 'AM':\n",
    "            ft_time = 'PM'\n",
    "        else:\n",
    "            ft_time = 'AM'\n",
    "    else:\n",
    "        ft_time = time\n",
    "\n",
    "    print(f'{ft} {ft_time}')\n",
    "    break\n"
   ]
  },
  {
   "cell_type": "code",
   "execution_count": 5,
   "id": "7947d8e6-8c47-4578-83d3-5d6e24215bac",
   "metadata": {},
   "outputs": [
    {
     "name": "stdin",
     "output_type": "stream",
     "text": [
      "Enter range of numbers strating from 1:  18\n"
     ]
    },
    {
     "name": "stdout",
     "output_type": "stream",
     "text": [
      "0\n",
      "0\n",
      "1\n",
      "1\n",
      "2\n",
      "4\n",
      "7\n",
      "13\n",
      "24\n",
      "44\n",
      "81\n",
      "149\n",
      "274\n",
      "504\n",
      "927\n",
      "1705\n",
      "3136\n",
      "5768\n"
     ]
    }
   ],
   "source": [
    "#Tribonacci Numbers\n",
    "n=int(input('Enter range of numbers strating from 1: '))\n",
    "a,b,c=0,0,1\n",
    "for i in range(1,n+1):\n",
    "    print(a)\n",
    "    sum=a+b+c\n",
    "    a=b\n",
    "    b=c\n",
    "    c=sum"
   ]
  },
  {
   "cell_type": "code",
   "execution_count": 39,
   "id": "cb3c456b-f5a7-457e-886a-f9e1994a6640",
   "metadata": {},
   "outputs": [
    {
     "name": "stdout",
     "output_type": "stream",
     "text": [
      "(1,12)\n",
      "(9,10)\n",
      "(10,9)\n",
      "(12,1)\n"
     ]
    }
   ],
   "source": [
    "#Shree Ramanujan Number - 1729\n",
    "#To find pairs\n",
    "num=1729\n",
    "for i in range(1,100):\n",
    "    for j in range(1,100):\n",
    "        a=i**3\n",
    "        b=j**3\n",
    "        sum=a+b\n",
    "        if sum==num:print(f'({i},{j})')"
   ]
  },
  {
   "cell_type": "code",
   "execution_count": 57,
   "id": "0576fd54-02e3-45fb-a332-3502a358194b",
   "metadata": {},
   "outputs": [
    {
     "name": "stdout",
     "output_type": "stream",
     "text": [
      "1729\n",
      "4104\n",
      "13832\n",
      "39312\n",
      "46683\n",
      "32832\n",
      "110656\n",
      "110808\n",
      "40033\n",
      "20683\n",
      "65728\n",
      "64232\n"
     ]
    }
   ],
   "source": [
    "#To find numbers\n",
    "lm=50\n",
    "ls=[]\n",
    "for a in range(1,lm):\n",
    "    for b in range(a,lm):\n",
    "        for c in range(a,lm):\n",
    "            for d in range(c,lm):\n",
    "                if a!=c:\n",
    "                    x=a**3+b**3\n",
    "                    y=c**3+d**3\n",
    "                if x==y:\n",
    "                    print(x)"
   ]
  },
  {
   "cell_type": "code",
   "execution_count": 71,
   "id": "862beece-1415-4580-ad5c-03c6b034b90c",
   "metadata": {},
   "outputs": [
    {
     "name": "stdout",
     "output_type": "stream",
     "text": [
      "1729 -> (9,10) (1,12) \n",
      "4104 -> (2,16) (9,15) \n",
      "13832 -> (2,24) (18,20) \n",
      "39312 -> (2,34) (15,33) \n",
      "46683 -> (27,30) (3,36) \n",
      "32832 -> (18,30) (4,32) \n",
      "40033 -> (9,34) (16,33) \n",
      "20683 -> (19,24) (10,27) \n",
      "64232 -> (17,39) (26,36) \n"
     ]
    }
   ],
   "source": [
    "#Mix Program\n",
    "def find_Shree_Ramanujan_Numbers(lm=20):\n",
    "    x,y=0,1\n",
    "    for a in range(1,lm):\n",
    "        for b in range(a,lm):\n",
    "            for c in range(a,lm):\n",
    "                for d in range(c,lm):\n",
    "                    if a!=c:\n",
    "                        x=a**3+b**3\n",
    "                        y=c**3+d**3\n",
    "                    if x==y:\n",
    "                        print(x,'->',end=' ')\n",
    "                        find_Pairs(x)\n",
    "def find_Pairs(num,lm=100):\n",
    "    num_ls=[]\n",
    "    for i in range(1,lm):\n",
    "        for j in range(1,lm):\n",
    "            if i<j:\n",
    "                a=i**3\n",
    "                b=j**3\n",
    "                sum=a+b\n",
    "                if sum==num:\n",
    "                    num_ls.append(f'({i},{j})')\n",
    "    for x in set(num_ls):\n",
    "        print(x,end=' ')\n",
    "    else:print()\n",
    "\n",
    "find_Shree_Ramanujan_Numbers(40)"
   ]
  },
  {
   "cell_type": "code",
   "execution_count": 73,
   "id": "5866b68b-2e47-402a-a468-20e239639e8d",
   "metadata": {},
   "outputs": [
    {
     "name": "stdin",
     "output_type": "stream",
     "text": [
      "Enter a number:  9\n"
     ]
    },
    {
     "name": "stdout",
     "output_type": "stream",
     "text": [
      "11106\n"
     ]
    }
   ],
   "source": [
    "#a+aa+aaa+aaaa+....\n",
    "n=int(input('Enter a number: '))\n",
    "print(int(f'{n}')+int(f'{n}'*2)+int(f'{n}'*3)+int(f'{n}'*4))"
   ]
  },
  {
   "cell_type": "code",
   "execution_count": 75,
   "id": "798e84df-4108-4570-95d8-f96d33d22956",
   "metadata": {},
   "outputs": [
    {
     "name": "stdout",
     "output_type": "stream",
     "text": [
      "-1000\n"
     ]
    }
   ],
   "source": [
    "#1-2+3-4+5-6+..+2000\n",
    "lm=2000\n",
    "sum=0\n",
    "for i in range(1,lm+1):\n",
    "    if i%2==0:sum-=i\n",
    "    else:sum+=i\n",
    "print(sum)"
   ]
  },
  {
   "cell_type": "code",
   "execution_count": 81,
   "id": "4076b548-1904-41d6-be10-333f40dd71b6",
   "metadata": {},
   "outputs": [
    {
     "name": "stdin",
     "output_type": "stream",
     "text": [
      "Enter a number:  17\n"
     ]
    },
    {
     "name": "stdout",
     "output_type": "stream",
     "text": [
      "75\n"
     ]
    }
   ],
   "source": [
    "#Bank\n",
    "n=int(input('Enter a number: '))\n",
    "count=1\n",
    "temp=count\n",
    "sum=0\n",
    "for i in range(1,n+1):\n",
    "    sum+=temp\n",
    "    temp+=1\n",
    "    if i%7==0:\n",
    "        count+=1\n",
    "        temp=count\n",
    "print(sum)"
   ]
  },
  {
   "cell_type": "code",
   "execution_count": 171,
   "id": "2a4146ec-6617-4318-bfe3-91d92595efd8",
   "metadata": {},
   "outputs": [
    {
     "name": "stdin",
     "output_type": "stream",
     "text": [
      "Enter a number:  1726354\n"
     ]
    },
    {
     "name": "stdout",
     "output_type": "stream",
     "text": [
      "1 4\n",
      "4726351\n"
     ]
    }
   ],
   "source": [
    "#Swap First and Last digits\n",
    "n=int(input('Enter a number: '))\n",
    "ld=n%10\n",
    "count,temp=0,n\n",
    "while temp>0:\n",
    "    count+=1\n",
    "    temp//=10\n",
    "if n>=0 and n<10:\n",
    "    fd=0\n",
    "else:\n",
    "    fd=n//(10**(count-1))\n",
    "# print(fd,ld)\n",
    "n//=10\n",
    "n=(n*(10)+fd)%(10**(count-1))+((10**(count-1))*ld)\n",
    "print(n)"
   ]
  },
  {
   "cell_type": "code",
   "execution_count": 1,
   "id": "9c4a85ea-1b39-4ed0-9bef-2fc4498bd8d6",
   "metadata": {},
   "outputs": [
    {
     "name": "stdout",
     "output_type": "stream",
     "text": [
      "1\n",
      "2\n",
      "3\n",
      "4\n",
      "5\n",
      "6\n",
      "7\n",
      "8\n",
      "9\n",
      "89\n",
      "135\n",
      "175\n",
      "518\n",
      "598\n",
      "1306\n",
      "1676\n",
      "2427\n"
     ]
    }
   ],
   "source": [
    "#Disarium Number\n",
    "print('Disarium Number: ')\n",
    "for i in range(1,100000):\n",
    "    num=i\n",
    "    count=0\n",
    "    while num>0:\n",
    "        count+=1\n",
    "        num//=10\n",
    "    temp=i\n",
    "    ans=0\n",
    "    while temp>0:\n",
    "        ans+=(temp%10)**count\n",
    "        count-=1\n",
    "        temp//=10\n",
    "    if ans==i:print(i)"
   ]
  },
  {
   "cell_type": "code",
   "execution_count": 13,
   "id": "60c99f7d-7bf0-4d14-8663-9a82af2f3e3f",
   "metadata": {},
   "outputs": [
    {
     "name": "stdin",
     "output_type": "stream",
     "text": [
      "Enter a number:  35\n"
     ]
    },
    {
     "name": "stdout",
     "output_type": "stream",
     "text": [
      "Square Free\n"
     ]
    }
   ],
   "source": [
    "#Square Free Number\n",
    "n=int(input('Enter a number: '))\n",
    "for j in range(2,n+1):\n",
    "    if (n%j==0):\n",
    "        num=int(j**(1/2))        \n",
    "        if num**2==j:\n",
    "            print('Not Square Free')\n",
    "            break\n",
    "else:print('Square Free')"
   ]
  },
  {
   "cell_type": "code",
   "execution_count": 20,
   "id": "b055a8d0-49d3-4b82-b882-12d7e2052d63",
   "metadata": {},
   "outputs": [
    {
     "name": "stdout",
     "output_type": "stream",
     "text": [
      "(220 , 284)\n",
      "(284 , 220)\n"
     ]
    }
   ],
   "source": [
    "#Amicable Number\n",
    "for i in range(1,301):\n",
    "    sum1=0\n",
    "    for k in range(1,i):\n",
    "        if i%k==0:sum1+=k\n",
    "    for j in range(1,301):\n",
    "        sum2=0\n",
    "        for l in range(1,j):\n",
    "            if j%l==0:sum2+=l\n",
    "        if sum1==j and sum2==i and i!=j:\n",
    "            print(f'({i} , {j})')"
   ]
  },
  {
   "cell_type": "code",
   "execution_count": 1,
   "id": "f3b06020-9062-46d4-b0e5-b9d6589e4673",
   "metadata": {},
   "outputs": [
    {
     "name": "stdin",
     "output_type": "stream",
     "text": [
      "Enter number#1:  1\n",
      "Enter number#2:  2\n",
      "Enter number#3:  3\n",
      "Enter number#4:  4\n",
      "Enter number#5:  5\n",
      "Enter number#6:  6\n",
      "Enter number#7:  7\n",
      "Enter number#8:  8\n",
      "Enter number#9:  9\n",
      "Enter number#10:  10\n"
     ]
    },
    {
     "name": "stdout",
     "output_type": "stream",
     "text": [
      "55\n",
      "10\n",
      "1\n",
      "9\n",
      "0\n"
     ]
    }
   ],
   "source": [
    "sum=0\n",
    "max1=0\n",
    "min1=0\n",
    "max2=0\n",
    "min2=0\n",
    "for i in range(1,11):\n",
    "    num=int(input(f'Enter number#{i}: '))\n",
    "    sum+=num\n",
    "    if i==1:\n",
    "        max1=num\n",
    "        min1=num\n",
    "    if num>max1:\n",
    "        max2=max1\n",
    "        max1=num\n",
    "    elif num>max2:\n",
    "        max2=num\n",
    "    if num<min1:\n",
    "        min2=min1\n",
    "        min1=num\n",
    "    elif num<min2:\n",
    "        min2=num\n",
    "print(sum)\n",
    "print(max1)\n",
    "print(min1)\n",
    "print(max2)\n",
    "print(min2)"
   ]
  },
  {
   "cell_type": "code",
   "execution_count": 5,
   "id": "060fcc5f-802c-4c1d-a670-056003190e79",
   "metadata": {},
   "outputs": [
    {
     "name": "stdin",
     "output_type": "stream",
     "text": [
      "Enter:  5\n"
     ]
    },
    {
     "name": "stdout",
     "output_type": "stream",
     "text": [
      "    1 \n",
      "   1 1 \n",
      "  1 2 1 \n",
      " 1 3 3 1 \n",
      "1 4 6 4 1 \n"
     ]
    }
   ],
   "source": [
    "#Pascal's Triangle\n",
    "n=int(input('Enter: '))\n",
    "for i in range(1,n+1):\n",
    "    for k in range(n,i,-1):\n",
    "        print(end=' ')\n",
    "    c=1\n",
    "    for j in range(1,i+1):\n",
    "        print(c,end=' ')\n",
    "        c=int(c*(i-j)/j)\n",
    "    print()"
   ]
  },
  {
   "cell_type": "code",
   "execution_count": 6,
   "id": "2485532e-cc88-4eca-b38e-8847c1bb761f",
   "metadata": {},
   "outputs": [
    {
     "name": "stdout",
     "output_type": "stream",
     "text": [
      "Variable   Type    Data/Info\n",
      "----------------------------\n",
      "c          int     0\n",
      "i          int     5\n",
      "j          int     5\n",
      "k          int     5\n",
      "max1       int     10\n",
      "max2       int     9\n",
      "min1       int     1\n",
      "min2       int     0\n",
      "n          int     5\n",
      "num        int     10\n",
      "sum        int     55\n"
     ]
    }
   ],
   "source": [
    "whos"
   ]
  },
  {
   "cell_type": "code",
   "execution_count": 8,
   "id": "174cd9f1-0b3f-40f1-ada4-ce14e4d7674c",
   "metadata": {},
   "outputs": [
    {
     "name": "stdout",
     "output_type": "stream",
     "text": [
      "2520\n"
     ]
    }
   ],
   "source": [
    "#WAP to find a number which is smallest to be divided from 1 to 10\n",
    "i=1\n",
    "while True:\n",
    "    j=1\n",
    "    while j<=10:\n",
    "        if i%j!=0:break\n",
    "        j+=1\n",
    "    else:\n",
    "        print(i)\n",
    "        break\n",
    "    i+=1"
   ]
  },
  {
   "cell_type": "code",
   "execution_count": 64,
   "id": "055f3376-0742-4b1d-a257-65c226a4fa22",
   "metadata": {},
   "outputs": [],
   "source": [
    "#Happy Number\n",
    "def check_happy_number(n):\n",
    "    i=1\n",
    "    sum=n*n\n",
    "    while True:\n",
    "        if i==n:return False\n",
    "        ans=sum\n",
    "        sum=0\n",
    "        while ans>0:\n",
    "            sum+=((ans%10)**2)\n",
    "            ans//=10\n",
    "        if sum==1:return True\n",
    "        i+=1"
   ]
  },
  {
   "cell_type": "code",
   "execution_count": 65,
   "id": "64989581-59fe-4dd6-bb71-1bd24c3165e3",
   "metadata": {},
   "outputs": [
    {
     "name": "stdout",
     "output_type": "stream",
     "text": [
      "False\n"
     ]
    }
   ],
   "source": [
    "print(check_happy_number(19))"
   ]
  },
  {
   "cell_type": "code",
   "execution_count": 66,
   "id": "18d25676-311c-46cc-a862-90afab2afd94",
   "metadata": {},
   "outputs": [
    {
     "name": "stdout",
     "output_type": "stream",
     "text": [
      "7\n",
      "10\n",
      "28\n",
      "38\n",
      "39\n",
      "58\n",
      "64\n",
      "65\n",
      "66\n",
      "70\n",
      "85\n",
      "88\n",
      "91\n",
      "98\n",
      "100\n"
     ]
    }
   ],
   "source": [
    "for i in range(1,101):\n",
    "    if check_happy_number(i):print(i)"
   ]
  },
  {
   "cell_type": "code",
   "execution_count": 3,
   "id": "6f7c5733-bb51-4220-b6db-529bd9c9a306",
   "metadata": {},
   "outputs": [
    {
     "name": "stdin",
     "output_type": "stream",
     "text": [
      "Enter a number:  1\n"
     ]
    },
    {
     "name": "stdout",
     "output_type": "stream",
     "text": [
      "1 is a happy number!\n"
     ]
    }
   ],
   "source": [
    "def is_happy_number(n):\n",
    "    def get_next(num):\n",
    "        total_sum = 0\n",
    "        while num > 0:\n",
    "            digit = num % 10\n",
    "            total_sum += digit ** 2\n",
    "            num //= 10\n",
    "        return total_sum\n",
    "\n",
    "    seen = set()\n",
    "    while n != 1 and n not in seen:\n",
    "        seen.add(n)\n",
    "        n = get_next(n)\n",
    "\n",
    "    return n == 1\n",
    "\n",
    "# Test the function\n",
    "number = int(input(\"Enter a number: \"))\n",
    "if is_happy_number(number):\n",
    "    print(f\"{number} is a happy number!\")\n",
    "else:\n",
    "    print(f\"{number} is not a happy number.\")\n"
   ]
  },
  {
   "cell_type": "code",
   "execution_count": 5,
   "id": "1ebde725-72ba-435f-a7a1-a52049349f6b",
   "metadata": {},
   "outputs": [
    {
     "name": "stdout",
     "output_type": "stream",
     "text": [
      "1, 7, 10, 13, 19, 23, 28, 31, 32, 44, 49, 68, 70, 79, 82, 86, 91, 94, 97, 100, "
     ]
    }
   ],
   "source": [
    "for i in range(1,101):\n",
    "    if is_happy_number(i):print(i,end=', ')"
   ]
  },
  {
   "cell_type": "code",
   "execution_count": 7,
   "id": "57c0b05b-29d3-4db0-940a-1d5468221fc7",
   "metadata": {},
   "outputs": [
    {
     "name": "stdout",
     "output_type": "stream",
     "text": [
      "2\n",
      "6\n",
      "12\n",
      "20\n",
      "30\n",
      "42\n",
      "56\n",
      "72\n",
      "90\n"
     ]
    }
   ],
   "source": [
    "#Pronic Numbers from 1 to 100\n",
    "i=1\n",
    "while i*(i+1)<=100:\n",
    "    print(i*(i+1))\n",
    "    i+=1"
   ]
  },
  {
   "cell_type": "code",
   "execution_count": 27,
   "id": "46247c06-d0c8-463e-8983-bb44c68006c3",
   "metadata": {},
   "outputs": [
    {
     "name": "stdin",
     "output_type": "stream",
     "text": [
      "Enter a Number:  12\n"
     ]
    },
    {
     "name": "stdout",
     "output_type": "stream",
     "text": [
      "111126\n",
      "111134\n",
      "111143\n",
      "111162\n",
      "111216\n",
      "111223\n",
      "111232\n",
      "111261\n",
      "111314\n",
      "111322\n",
      "111341\n",
      "111413\n",
      "111431\n",
      "111612\n",
      "111621\n",
      "112116\n",
      "112123\n",
      "112132\n",
      "112161\n",
      "112213\n",
      "112231\n",
      "112312\n",
      "112321\n",
      "112611\n",
      "113114\n",
      "113122\n",
      "113141\n",
      "113212\n",
      "113221\n",
      "113411\n",
      "114113\n",
      "114131\n",
      "114311\n",
      "116112\n",
      "116121\n",
      "116211\n",
      "121116\n",
      "121123\n",
      "121132\n",
      "121161\n",
      "121213\n",
      "121231\n",
      "121312\n",
      "121321\n",
      "121611\n",
      "122113\n",
      "122131\n",
      "122311\n",
      "123112\n",
      "123121\n",
      "123211\n",
      "126111\n",
      "131114\n",
      "131122\n",
      "131141\n",
      "131212\n",
      "131221\n",
      "131411\n",
      "132112\n",
      "132121\n",
      "132211\n",
      "134111\n",
      "141113\n",
      "141131\n",
      "141311\n",
      "143111\n",
      "161112\n",
      "161121\n",
      "161211\n",
      "162111\n",
      "211116\n",
      "211123\n",
      "211132\n",
      "211161\n",
      "211213\n",
      "211231\n",
      "211312\n",
      "211321\n",
      "211611\n",
      "212113\n",
      "212131\n",
      "212311\n",
      "213112\n",
      "213121\n",
      "213211\n",
      "216111\n",
      "221113\n",
      "221131\n",
      "221311\n",
      "223111\n",
      "231112\n",
      "231121\n",
      "231211\n",
      "232111\n",
      "261111\n",
      "311114\n",
      "311122\n",
      "311141\n",
      "311212\n",
      "311221\n",
      "311411\n",
      "312112\n",
      "312121\n",
      "312211\n",
      "314111\n",
      "321112\n",
      "321121\n",
      "321211\n",
      "322111\n",
      "341111\n",
      "411113\n",
      "411131\n",
      "411311\n",
      "413111\n",
      "431111\n",
      "611112\n",
      "611121\n",
      "611211\n",
      "612111\n",
      "621111\n",
      "No. of possible combinations: 120\n"
     ]
    }
   ],
   "source": [
    "#WAP that enters single digit integer and produces all possible 6 digit combinations for which the product of that digits\n",
    "#is equals to the number\n",
    "n=int(input('Enter a Number: '))\n",
    "count=0\n",
    "for i in range(111111,1000000):    \n",
    "    temp=i\n",
    "    mul=1\n",
    "    while temp>0:\n",
    "        mul*=(temp%10)\n",
    "        temp//=10\n",
    "    if mul==n:\n",
    "        print(i)\n",
    "        count+=1\n",
    "else:print('No. of possible combinations:',count)"
   ]
  },
  {
   "cell_type": "code",
   "execution_count": 29,
   "id": "f7b84635-752f-4241-8760-d439a9b4c246",
   "metadata": {},
   "outputs": [
    {
     "name": "stdin",
     "output_type": "stream",
     "text": [
      "Enter Number:  10\n"
     ]
    },
    {
     "name": "stdout",
     "output_type": "stream",
     "text": [
      "No.of steps: 5\n"
     ]
    }
   ],
   "source": [
    "#Given an integer number written the number of steps to reduced it to 0 if the current number is even you dividing by 2 \n",
    "#otherwise subtract it by 1\n",
    "n=int(input('Enter Number: '))\n",
    "count=0\n",
    "i=n\n",
    "while i!=0:\n",
    "    if i%2==0:i//=2\n",
    "    else:i-=1\n",
    "    count+=1\n",
    "else:\n",
    "    print('No.of steps:',count)"
   ]
  },
  {
   "cell_type": "code",
   "execution_count": 31,
   "id": "c27a400c-be68-4858-b338-c34eca2b56ba",
   "metadata": {},
   "outputs": [],
   "source": [
    "#Collatz Conjecture:- A collatz sequence is generated by applying follo.rules in turns\n",
    "#If even -divide by 2\n",
    "#If odd - multiply by 3 and add 1\n",
    "#The algorithm says that it always reaches 1 for all positive intgeres\n",
    "#Create a function for two positive intgeres a and b and returns a if integer a took fewer steps to reach 1 than b\n",
    "def collatz_conjecture(n):\n",
    "    i=n\n",
    "    count=0\n",
    "    while i!=1:\n",
    "        if i%2==0:i//=2\n",
    "        else:\n",
    "            i*=3\n",
    "            i+=1\n",
    "        count+=1\n",
    "    else:\n",
    "        return count\n",
    "\n",
    "def check_collatz_conjecture(a,b):\n",
    "    count1=collatz_conjecture(a)\n",
    "    count2=collatz_conjecture(b)\n",
    "    if count1<count2:return a\n",
    "    else:return b"
   ]
  },
  {
   "cell_type": "code",
   "execution_count": 35,
   "id": "e94ae767-772c-4876-b738-749c687124ae",
   "metadata": {},
   "outputs": [
    {
     "name": "stdout",
     "output_type": "stream",
     "text": [
      "5\n"
     ]
    }
   ],
   "source": [
    "print(check_collatz_conjecture(6,5))"
   ]
  },
  {
   "cell_type": "code",
   "execution_count": 37,
   "id": "fdc270bf-5d42-44cd-becb-35b8a8106a6b",
   "metadata": {},
   "outputs": [
    {
     "name": "stdout",
     "output_type": "stream",
     "text": [
      "19\n",
      "29\n",
      "39\n",
      "49\n",
      "59\n",
      "69\n",
      "79\n",
      "89\n",
      "99\n"
     ]
    }
   ],
   "source": [
    "for i in range(1,10000):\n",
    "    temp=i\n",
    "    sum=0\n",
    "    mul=1\n",
    "    while temp>0:\n",
    "        sum+=temp%10\n",
    "        mul*=temp%10\n",
    "        temp//=10\n",
    "    if sum+mul==i:print(i)"
   ]
  },
  {
   "cell_type": "code",
   "execution_count": 39,
   "id": "0f413daf-8c27-44ba-8650-060fb860b4b5",
   "metadata": {},
   "outputs": [
    {
     "name": "stdout",
     "output_type": "stream",
     "text": [
      "1\n",
      "8\n",
      "11\n",
      "69\n",
      "88\n",
      "96\n",
      "101\n",
      "111\n",
      "181\n",
      "609\n",
      "619\n",
      "689\n",
      "808\n",
      "818\n",
      "888\n",
      "906\n",
      "916\n",
      "986\n",
      "1001\n",
      "1111\n",
      "1691\n",
      "1881\n",
      "1961\n",
      "6009\n",
      "6119\n",
      "6699\n",
      "6889\n",
      "6969\n",
      "8008\n",
      "8118\n",
      "8698\n",
      "8888\n",
      "8968\n",
      "9006\n",
      "9116\n",
      "9696\n",
      "9886\n",
      "9966\n",
      "10001\n",
      "10101\n",
      "10801\n",
      "11011\n",
      "11111\n",
      "11811\n",
      "16091\n",
      "16191\n",
      "16891\n",
      "18081\n",
      "18181\n",
      "18881\n",
      "19061\n",
      "19161\n",
      "19861\n",
      "60009\n",
      "60109\n",
      "60809\n",
      "61019\n",
      "61119\n",
      "61819\n",
      "66099\n",
      "66199\n",
      "66899\n",
      "68089\n",
      "68189\n",
      "68889\n",
      "69069\n",
      "69169\n",
      "69869\n",
      "80008\n",
      "80108\n",
      "80808\n",
      "81018\n",
      "81118\n",
      "81818\n",
      "86098\n",
      "86198\n",
      "86898\n",
      "88088\n",
      "88188\n",
      "88888\n",
      "89068\n",
      "89168\n",
      "89868\n",
      "90006\n",
      "90106\n",
      "90806\n",
      "91016\n",
      "91116\n",
      "91816\n",
      "96096\n",
      "96196\n",
      "96896\n",
      "98086\n",
      "98186\n",
      "98886\n",
      "99066\n",
      "99166\n",
      "99866\n"
     ]
    }
   ],
   "source": [
    "for i in range(1,100001):\n",
    "    temp=i\n",
    "    rev=0\n",
    "    while temp>0:\n",
    "        r=temp%10\n",
    "        if r==2 or r==3 or r==4 or r==5 or r==7:break\n",
    "        if r==9:r=6\n",
    "        elif r==6:r=9\n",
    "        rev=rev*10+r\n",
    "        temp//=10\n",
    "    else: \n",
    "        if rev==i:print(i)"
   ]
  },
  {
   "cell_type": "code",
   "execution_count": 49,
   "id": "3a3d7bc6-4183-411b-b690-8c513e4e42b3",
   "metadata": {},
   "outputs": [
    {
     "name": "stdout",
     "output_type": "stream",
     "text": [
      "1 \n",
      "3 2 \n",
      "6 5 4 \n",
      "10 9 8 7 \n",
      "15 14 13 12 11 \n"
     ]
    }
   ],
   "source": [
    "count=0\n",
    "n=5\n",
    "for i in range(1,n+1):\n",
    "    count+=i*2-1\n",
    "    for j in range(1,i+1):\n",
    "        print(count,end=' ')\n",
    "        count-=1\n",
    "    print()"
   ]
  }
 ],
 "metadata": {
  "kernelspec": {
   "display_name": "Python 3 (ipykernel)",
   "language": "python",
   "name": "python3"
  },
  "language_info": {
   "codemirror_mode": {
    "name": "ipython",
    "version": 3
   },
   "file_extension": ".py",
   "mimetype": "text/x-python",
   "name": "python",
   "nbconvert_exporter": "python",
   "pygments_lexer": "ipython3",
   "version": "3.12.4"
  }
 },
 "nbformat": 4,
 "nbformat_minor": 5
}
