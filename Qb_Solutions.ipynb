{
 "cells": [
  {
   "cell_type": "code",
   "execution_count": 1,
   "id": "8ceec77e-701d-45a6-ac06-dcd3045bb035",
   "metadata": {},
   "outputs": [
    {
     "name": "stdin",
     "output_type": "stream",
     "text": [
      "Enter Number:  5\n"
     ]
    },
    {
     "name": "stdout",
     "output_type": "stream",
     "text": [
      "* \n",
      "* * \n",
      "* * * \n",
      "* * * * \n",
      "* * * * * \n"
     ]
    }
   ],
   "source": [
    "#Qb 168\n",
    "n=int(input('Enter Number: '))\n",
    "for i in range(1,n+1):\n",
    "    for j in range(1,i+1):\n",
    "        print('*',end=' ')\n",
    "    print()"
   ]
  },
  {
   "cell_type": "code",
   "execution_count": 13,
   "id": "ca204dea-85b8-4905-9a2e-aba01d6756fc",
   "metadata": {},
   "outputs": [
    {
     "name": "stdout",
     "output_type": "stream",
     "text": [
      "* * * * * \n",
      "  * * * * \n",
      "    * * * \n",
      "      * * \n",
      "        * \n"
     ]
    }
   ],
   "source": [
    "#Qb 169\n",
    "for i in range(1,n+1):\n",
    "    print('  ' * (i-1),end='')\n",
    "    print('* ' * (n-i+1))"
   ]
  },
  {
   "cell_type": "code",
   "execution_count": 19,
   "id": "b4f29f62-7ef0-4e94-93e9-37c5d44f228f",
   "metadata": {},
   "outputs": [
    {
     "name": "stdout",
     "output_type": "stream",
     "text": [
      "    * \n",
      "   * * \n",
      "  * * * \n",
      " * * * * \n",
      "* * * * * \n"
     ]
    }
   ],
   "source": [
    "#Qb 170\n",
    "for i in range(1,n+1):\n",
    "    print(' ' * (n-i),end='')\n",
    "    print('* ' * (i))"
   ]
  },
  {
   "cell_type": "code",
   "execution_count": 21,
   "id": "1c107cd4-1492-4424-9828-ab1493f99c60",
   "metadata": {},
   "outputs": [
    {
     "name": "stdout",
     "output_type": "stream",
     "text": [
      "* * * * * \n",
      "* * * * \n",
      "* * * \n",
      "* * \n",
      "* \n"
     ]
    }
   ],
   "source": [
    "#Qb 171\n",
    "for i in range(1,n+1):\n",
    "    print('* ' * (n-i+1))"
   ]
  },
  {
   "cell_type": "code",
   "execution_count": 25,
   "id": "e2bb6ce7-5472-4440-aacf-162d7bc618b1",
   "metadata": {},
   "outputs": [
    {
     "name": "stdout",
     "output_type": "stream",
     "text": [
      "1 2 3 4 5 \n",
      "1 2 3 4 \n",
      "1 2 3 \n",
      "1 2 \n",
      "1 \n"
     ]
    }
   ],
   "source": [
    "#Qb 172\n",
    "for i in range(n,0,-1):\n",
    "    for j in range(1,i+1):\n",
    "        print(j,end=' ')\n",
    "    print()"
   ]
  },
  {
   "cell_type": "code",
   "execution_count": 27,
   "id": "ea59e214-d8dc-4f1f-8d75-e9cddc9f0038",
   "metadata": {},
   "outputs": [
    {
     "name": "stdout",
     "output_type": "stream",
     "text": [
      "1 \n",
      "1 2 \n",
      "1 2 3 \n",
      "1 2 3 4 \n",
      "1 2 3 4 5 \n"
     ]
    }
   ],
   "source": [
    "#Qb 173\n",
    "for i in range(1,n+1):\n",
    "    for j in range(1,i+1):print(j,end=' ')\n",
    "    print()"
   ]
  },
  {
   "cell_type": "code",
   "execution_count": 29,
   "id": "715f4278-a7a7-4182-ab27-a92759066468",
   "metadata": {},
   "outputs": [
    {
     "name": "stdout",
     "output_type": "stream",
     "text": [
      "1 \n",
      "2 2 \n",
      "3 3 3 \n",
      "4 4 4 4 \n",
      "5 5 5 5 5 \n"
     ]
    }
   ],
   "source": [
    "#Qb 174\n",
    "for i in range(1,n+1):\n",
    "    for j in range(1,i+1):print(i,end=' ')\n",
    "    print()"
   ]
  },
  {
   "cell_type": "code",
   "execution_count": 33,
   "id": "bc2c6679-eb03-433c-b8c6-a4d906754d96",
   "metadata": {},
   "outputs": [
    {
     "name": "stdout",
     "output_type": "stream",
     "text": [
      "* \n",
      "# # \n",
      "* * * \n",
      "# # # # \n",
      "* * * * * \n"
     ]
    }
   ],
   "source": [
    "#Qb 175\n",
    "for i in range(1,n+1):\n",
    "    if i%2==0:print('# '*(i))\n",
    "    else:print('* '*(i))"
   ]
  },
  {
   "cell_type": "code",
   "execution_count": 55,
   "id": "c3bce559-3e3e-40d5-a1dc-135dc4ab8979",
   "metadata": {},
   "outputs": [
    {
     "name": "stdout",
     "output_type": "stream",
     "text": [
      "1 \n",
      "0 1 \n",
      "1 0 1 \n",
      "0 1 0 1 \n",
      "1 0 1 0 1 \n"
     ]
    }
   ],
   "source": [
    "#Qb 176\n",
    "for i in range(1,n+1):\n",
    "    for j in range(1,i+1):\n",
    "        if (i+j)%2==0:print('1',end=' ')\n",
    "        else:print('0',end=' ')\n",
    "    print()"
   ]
  },
  {
   "cell_type": "code",
   "execution_count": 41,
   "id": "3932bfc5-931f-42ca-94ee-f50392851da0",
   "metadata": {},
   "outputs": [
    {
     "name": "stdout",
     "output_type": "stream",
     "text": [
      "    1 \n",
      "   1 2 \n",
      "  1 2 3 \n",
      " 1 2 3 4 \n",
      "1 2 3 4 5 \n"
     ]
    }
   ],
   "source": [
    "#Qb 177\n",
    "for i in range(1,n+1):\n",
    "    print(' '*(n-i),end='')\n",
    "    for j in range(1,i+1):print(j,end=' ')\n",
    "    print()"
   ]
  },
  {
   "cell_type": "code",
   "execution_count": 47,
   "id": "39ae2b35-a235-4f25-bd26-d3a9002637a3",
   "metadata": {},
   "outputs": [
    {
     "name": "stdout",
     "output_type": "stream",
     "text": [
      "    1 \n",
      "   2 2 \n",
      "  3 3 3 \n",
      " 4 4 4 4 \n",
      "5 5 5 5 5 \n"
     ]
    }
   ],
   "source": [
    "#Qb 178\n",
    "for i in range(1,n+1):\n",
    "    print(' '*(n-i),end='')\n",
    "    print(f'{i} '*i)"
   ]
  },
  {
   "cell_type": "code",
   "execution_count": 49,
   "id": "6bc3819c-a1e7-4674-b0e9-bb3b7406b91d",
   "metadata": {},
   "outputs": [
    {
     "name": "stdout",
     "output_type": "stream",
     "text": [
      "    * \n",
      "   # # \n",
      "  * * * \n",
      " # # # # \n",
      "* * * * * \n"
     ]
    }
   ],
   "source": [
    "#Qb 179\n",
    "for i in range(1,n+1):\n",
    "    print(' '*(n-i),end='')\n",
    "    if i%2==0:print('# '*(i))\n",
    "    else:print('* '*(i))"
   ]
  },
  {
   "cell_type": "code",
   "execution_count": 65,
   "id": "e1eb7410-7ff0-4e02-860b-04462c777c9a",
   "metadata": {},
   "outputs": [
    {
     "name": "stdout",
     "output_type": "stream",
     "text": [
      "1\n",
      "2\n",
      "3\n",
      "4\n",
      "5\n",
      "6\n",
      "7\n",
      "8\n",
      "9\n"
     ]
    }
   ],
   "source": [
    "#Qb 181\n",
    "#Checking Disarium Number\n",
    "def check_disarium_number(n:int)->bool:\n",
    "    temp=n\n",
    "    count=0\n",
    "    while temp>0:\n",
    "        count+=1\n",
    "        temp//=10\n",
    "    temp1=n\n",
    "    ans=0\n",
    "    while temp1>0:\n",
    "        ans+=(temp1%10)*count\n",
    "        count-=1\n",
    "        temp1//=10\n",
    "    if ans==n:return True\n",
    "    else: return False\n",
    "#Checking Harshed Number\n",
    "def check_harshed_number(n:int)->bool:\n",
    "    temp=n\n",
    "    sum=0\n",
    "    while temp>0:\n",
    "        sum+=(temp%10)\n",
    "        temp//=10\n",
    "    if n%sum==0:return True\n",
    "    else:return False\n",
    "\n",
    "#Filtering Numbers between 1 to 100 are both disarium and harshed\n",
    "for i in range(1,101):\n",
    "    if check_disarium_number(i)==True and check_harshed_number(i)==True:\n",
    "        print(i)"
   ]
  },
  {
   "cell_type": "code",
   "execution_count": 57,
   "id": "cc3bb31e-38bb-400c-b2c3-e5c32d4a6916",
   "metadata": {},
   "outputs": [
    {
     "name": "stdin",
     "output_type": "stream",
     "text": [
      "Enter Number:  2\n"
     ]
    },
    {
     "name": "stdout",
     "output_type": "stream",
     "text": [
      "111112\n",
      "111121\n",
      "111211\n",
      "112111\n",
      "121111\n",
      "211111\n"
     ]
    }
   ],
   "source": [
    "#Qb 190\n",
    "# Write a program that enters a single digit integer number and produces all possible 6-digit numbers for which the product\n",
    "# of their digits is equal to the entered number.\n",
    "# Example: \"number\" → 2\n",
    "# •\t111112 → 1 * 1 * 1 * 1 * 1 * 2 = 2\n",
    "# •\t111121 → 1 * 1 * 1 * 1 * 2 * 1 = 2\n",
    "# •\t111211 → 1 * 1 * 1 * 2 * 1 * 1 = 2\n",
    "# •\t112111 → 1 * 1 * 2 * 1 * 1 * 1 = 2\n",
    "# •\t121111 → 1 * 2 * 1 * 1 * 1 * 1 = 2\n",
    "# •\t211111 → 2 * 1 * 1 * 1 * 1 * 1 = 2\n",
    "n=int(input('Enter Number: '))\n",
    "for i in range(111111,1000000):\n",
    "    temp=i\n",
    "    mul=1\n",
    "    while temp>0:\n",
    "        mul*=(temp%10)\n",
    "        temp//=10\n",
    "    if mul==n:print(i)"
   ]
  },
  {
   "cell_type": "code",
   "execution_count": 32,
   "id": "2857404f-b59d-435b-b5fe-185150db7fc2",
   "metadata": {},
   "outputs": [
    {
     "name": "stdin",
     "output_type": "stream",
     "text": [
      "Enter a number:  16253\n"
     ]
    },
    {
     "name": "stdout",
     "output_type": "stream",
     "text": [
      "36251\n"
     ]
    }
   ],
   "source": [
    "# Qb 184\n",
    "# Write a python program to swap first and last digits of a number using loop.\n",
    "# (for example: input = 123456 then output=623451)\n",
    "num=int(input('Enter a number: '))\n",
    "temp=num\n",
    "count=0\n",
    "while temp>0:\n",
    "    count+=1\n",
    "    temp//=10\n",
    "fd=num//10**(count-1)\n",
    "ld=num%10\n",
    "ans=((num//10)*10+fd)%(10**(count-1))+(ld*10**(count-1))\n",
    "print(ans)"
   ]
  },
  {
   "cell_type": "code",
   "execution_count": 86,
   "id": "723508d5-3bbd-4fa9-bbad-340e98935f09",
   "metadata": {},
   "outputs": [
    {
     "name": "stdin",
     "output_type": "stream",
     "text": [
      "Enter a number:  5\n"
     ]
    },
    {
     "name": "stdout",
     "output_type": "stream",
     "text": [
      "*                 * \n",
      "* *             * * \n",
      "* * *         * * * \n",
      "* * * *     * * * * \n",
      "* * * * * * * * * * \n",
      "* * * *     * * * * \n",
      "* * *         * * * \n",
      "* *             * * \n",
      "*                 * \n"
     ]
    }
   ],
   "source": [
    "# Qb 185\n",
    "n=int(input('Enter a number: '))\n",
    "for i in range(1,n+1):\n",
    "    for j in range(1,i+1):print('*',end=' ')\n",
    "    for k in range(n,i,-1):print(' '*4,end='')\n",
    "    for j in range(i,0,-1):print('*',end=' ')\n",
    "    print()\n",
    "for i in range(n-1,0,-1):\n",
    "    for j in range(1,i+1):print('*',end=' ')\n",
    "    for k in range(n,i,-1):print(' '*4,end='')\n",
    "    for j in range(i,0,-1):print('*',end=' ')\n",
    "    print()"
   ]
  },
  {
   "cell_type": "code",
   "execution_count": 87,
   "id": "b07f1df4-7683-4158-af6e-eb27afd6caa1",
   "metadata": {},
   "outputs": [
    {
     "name": "stdout",
     "output_type": "stream",
     "text": [
      "True\n"
     ]
    }
   ],
   "source": [
    "#Qb 224\n",
    "# Write a Python function to check whether a number is in a given range.\n",
    "def check_in_range(n:int,a:int,b:int)->bool:\n",
    "    return n in range(a,b+1)\n",
    "print(check_in_range(0,-5,10))"
   ]
  },
  {
   "cell_type": "code",
   "execution_count": null,
   "id": "47986788-c402-4e6d-8620-eab8cb474f93",
   "metadata": {},
   "outputs": [],
   "source": []
  }
 ],
 "metadata": {
  "kernelspec": {
   "display_name": "Python 3 (ipykernel)",
   "language": "python",
   "name": "python3"
  },
  "language_info": {
   "codemirror_mode": {
    "name": "ipython",
    "version": 3
   },
   "file_extension": ".py",
   "mimetype": "text/x-python",
   "name": "python",
   "nbconvert_exporter": "python",
   "pygments_lexer": "ipython3",
   "version": "3.12.4"
  }
 },
 "nbformat": 4,
 "nbformat_minor": 5
}
