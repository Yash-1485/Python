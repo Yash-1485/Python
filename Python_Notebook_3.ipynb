{
 "cells": [
  {
   "cell_type": "code",
   "execution_count": 11,
   "id": "592d67c4-e9d7-4a66-8a1e-ab2288fff331",
   "metadata": {},
   "outputs": [
    {
     "name": "stdout",
     "output_type": "stream",
     "text": [
      "1 2 3\n"
     ]
    }
   ],
   "source": [
    "tup=[(1,2,3)]\n",
    "for i,j,k in tup:print(i,j,k)"
   ]
  },
  {
   "cell_type": "code",
   "execution_count": 21,
   "id": "a7d0039f-8223-4d41-9f1f-70e4c046858c",
   "metadata": {},
   "outputs": [
    {
     "name": "stdout",
     "output_type": "stream",
     "text": [
      "[(range(0, 1), range(0, 1), range(0, 1))]\n"
     ]
    }
   ],
   "source": [
    "tup=[(i,j,k) for i,j,k in [(range(1),range(1),range(1))]]\n",
    "print(tup)"
   ]
  },
  {
   "cell_type": "code",
   "execution_count": 79,
   "id": "1b183fc9-9987-488f-964f-2a93e8206c33",
   "metadata": {},
   "outputs": [
    {
     "name": "stdin",
     "output_type": "stream",
     "text": [
      " 2\n",
      " 2\n",
      " 2\n",
      " 2\n"
     ]
    },
    {
     "name": "stdout",
     "output_type": "stream",
     "text": [
      "[[0, 0, 0], [0, 0, 1], [0, 1, 0], [0, 1, 2], [0, 2, 1], [0, 2, 2], [1, 0, 0], [1, 0, 2], [1, 1, 1], [1, 1, 2], [1, 2, 0], [1, 2, 1], [1, 2, 2], [2, 0, 1], [2, 0, 2], [2, 1, 0], [2, 1, 1], [2, 1, 2], [2, 2, 0], [2, 2, 1], [2, 2, 2]]\n"
     ]
    }
   ],
   "source": [
    "x = int(input())\n",
    "y = int(input())\n",
    "z = int(input())\n",
    "n = int(input())\n",
    "ls=[[i,j,k] for i in range(x+1) for j in range(y+1) for k in range(z+1) if i+j+k!=n]\n",
    "print(ls)"
   ]
  },
  {
   "cell_type": "code",
   "execution_count": 45,
   "id": "caf3ed47-8946-41ff-9f14-4271e74c9185",
   "metadata": {},
   "outputs": [
    {
     "name": "stdout",
     "output_type": "stream",
     "text": [
      "[[], 2, [], 4, [], 6, [], 8, []]\n"
     ]
    }
   ],
   "source": [
    "tup=[i if i%2==0 else [] for i in range(1,10)]\n",
    "print(tup)"
   ]
  },
  {
   "cell_type": "code",
   "execution_count": 65,
   "id": "2be31f2a-e0fc-40c8-961d-b4795d371c7e",
   "metadata": {},
   "outputs": [
    {
     "name": "stdout",
     "output_type": "stream",
     "text": [
      "[(0, 1), (0, 1)]\n"
     ]
    }
   ],
   "source": [
    "tup=[(i,j) for i,j in [[a for a in range(x+1)],[b for b in range(y+1)]]]\n",
    "print(tup)"
   ]
  },
  {
   "cell_type": "code",
   "execution_count": 83,
   "id": "84686819-5227-4060-8de2-42fc6bc7e5a6",
   "metadata": {},
   "outputs": [
    {
     "name": "stdout",
     "output_type": "stream",
     "text": [
      "0\n",
      "1\n"
     ]
    }
   ],
   "source": [
    "for i in range(2):print(i)"
   ]
  },
  {
   "cell_type": "code",
   "execution_count": 93,
   "id": "f7c310af-6b5f-47fa-a5ee-b395f15ae874",
   "metadata": {},
   "outputs": [
    {
     "name": "stdin",
     "output_type": "stream",
     "text": [
      " 2\n",
      " 12\n"
     ]
    },
    {
     "name": "stdout",
     "output_type": "stream",
     "text": [
      "137780931485\n"
     ]
    }
   ],
   "source": [
    "n = int(input())\n",
    "integer_list = map(int, input().split())\n",
    "print(hash((integer_list)))"
   ]
  },
  {
   "cell_type": "code",
   "execution_count": 161,
   "id": "0bb5a011-8879-4a88-a440-e028341f9607",
   "metadata": {},
   "outputs": [
    {
     "name": "stdout",
     "output_type": "stream",
     "text": [
      "[]\n"
     ]
    }
   ],
   "source": [
    "def threeSum( nums) :\n",
    "    nums=list(set(nums))\n",
    "    ans=[]\n",
    "    for i in nums:\n",
    "        for j in nums:\n",
    "            for k in nums:\n",
    "                if i!=j and j!=k and i+j+k==0:\n",
    "                    if len(ans)!=0:\n",
    "                        l,m,n=ans[len(ans)-1]\n",
    "                        to=[i,j,k]\n",
    "                        if (l in to and m not in to and n not in to) or (l not in to and m in to and n not in to) or (l not in to and m not in to and n in to) or (l in to and m in to and n not in to) or (l not in to and m in to and n in to) or (l in to and m not in to and n in to):\n",
    "                            ans.append(to)\n",
    "                    else:\n",
    "                        ans.append([i,j,k])\n",
    "                        # print(ans)\n",
    "    print(ans)\n",
    "threeSum([0,1,1])"
   ]
  },
  {
   "cell_type": "code",
   "execution_count": null,
   "id": "85837780-39c7-46b5-b639-257a330e8c2d",
   "metadata": {},
   "outputs": [],
   "source": []
  }
 ],
 "metadata": {
  "kernelspec": {
   "display_name": "Python 3 (ipykernel)",
   "language": "python",
   "name": "python3"
  },
  "language_info": {
   "codemirror_mode": {
    "name": "ipython",
    "version": 3
   },
   "file_extension": ".py",
   "mimetype": "text/x-python",
   "name": "python",
   "nbconvert_exporter": "python",
   "pygments_lexer": "ipython3",
   "version": "3.12.4"
  }
 },
 "nbformat": 4,
 "nbformat_minor": 5
}
