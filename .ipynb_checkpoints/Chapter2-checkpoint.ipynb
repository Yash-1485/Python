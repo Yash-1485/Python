{
 "cells": [
  {
   "cell_type": "code",
   "execution_count": 3,
   "id": "00e89e8f-bb42-49fd-ac45-8f2ad0bd5df1",
   "metadata": {},
   "outputs": [
    {
     "name": "stdin",
     "output_type": "stream",
     "text": [
      "Enter Days:  398\n"
     ]
    },
    {
     "name": "stdout",
     "output_type": "stream",
     "text": [
      "1 years 1 months 3 days\n"
     ]
    }
   ],
   "source": [
    "#Convert days into year, months and days\n",
    "days=int(input(\"Enter Days: \"))\n",
    "years=days//365\n",
    "months=(days%365)//30\n",
    "days=(days%365%30)\n",
    "print(f\"{years} years {months} months {days} days\")"
   ]
  },
  {
   "cell_type": "code",
   "execution_count": 11,
   "id": "79dd4495-d23d-4354-bc02-866a8c04ebf6",
   "metadata": {},
   "outputs": [
    {
     "name": "stdin",
     "output_type": "stream",
     "text": [
      "Enter Seconds:  100000\n"
     ]
    },
    {
     "name": "stdout",
     "output_type": "stream",
     "text": [
      "1:3:46:40\n"
     ]
    }
   ],
   "source": [
    "#Convert Seconds into days,hours,minutes and seconds\n",
    "seconds=int(input('Enter Seconds: '))\n",
    "days=seconds//(24*3600)\n",
    "hours=seconds%(24*3600)//3600\n",
    "minutes=seconds%(24*3600)%3600//60\n",
    "seconds=seconds%(24*3600)%60%60\n",
    "print(f'{days}:{hours}:{minutes}:{seconds}')"
   ]
  },
  {
   "cell_type": "code",
   "execution_count": 5,
   "id": "b9dcdbe7-8ac7-4fdb-89b2-fd970fa87795",
   "metadata": {},
   "outputs": [
    {
     "name": "stdin",
     "output_type": "stream",
     "text": [
      "Enter time (1-12):  8\n"
     ]
    },
    {
     "name": "stdout",
     "output_type": "stream",
     "text": [
      "\n",
      "    1 - AM\n",
      "    2 - PM\n",
      "    \n"
     ]
    },
    {
     "name": "stdin",
     "output_type": "stream",
     "text": [
      "Enter choice:  1\n"
     ]
    },
    {
     "name": "stdout",
     "output_type": "stream",
     "text": [
      "8 AM\n"
     ]
    },
    {
     "name": "stdin",
     "output_type": "stream",
     "text": [
      "Enter hours to increment:  36\n"
     ]
    },
    {
     "name": "stdout",
     "output_type": "stream",
     "text": [
      "8 PM\n"
     ]
    }
   ],
   "source": [
    "while True:\n",
    "    hour = int(input('Enter time (1-12): '))\n",
    "    if hour < 1 or hour > 12:\n",
    "        print('Enter valid hour input')\n",
    "        continue\n",
    "\n",
    "    print('''\n",
    "    1 - AM\n",
    "    2 - PM\n",
    "    ''')\n",
    "    ch = int(input('Enter choice: '))\n",
    "    if ch == 1:\n",
    "        time = 'AM'\n",
    "    elif ch == 2:\n",
    "        time = 'PM'\n",
    "    else:\n",
    "        print('Enter valid input')\n",
    "        continue\n",
    "\n",
    "    print(f'{hour} {time}')\n",
    "    inc = int(input('Enter hours to increment: '))\n",
    "    \n",
    "    # Calculating new hour\n",
    "    ft = hour + inc\n",
    "    cycles = ft // 12  # Number of 12-hour cycles\n",
    "    ft = ft % 12\n",
    "    if ft == 0:\n",
    "        ft = 12\n",
    "\n",
    "    # Toggle AM/PM based on cycles\n",
    "    if cycles % 2 == 1:\n",
    "        if time == 'AM':\n",
    "            ft_time = 'PM'\n",
    "        else:\n",
    "            ft_time = 'AM'\n",
    "    else:\n",
    "        ft_time = time\n",
    "\n",
    "    print(f'{ft} {ft_time}')\n",
    "    break\n"
   ]
  },
  {
   "cell_type": "code",
   "execution_count": null,
   "id": "7947d8e6-8c47-4578-83d3-5d6e24215bac",
   "metadata": {},
   "outputs": [],
   "source": []
  }
 ],
 "metadata": {
  "kernelspec": {
   "display_name": "Python 3 (ipykernel)",
   "language": "python",
   "name": "python3"
  },
  "language_info": {
   "codemirror_mode": {
    "name": "ipython",
    "version": 3
   },
   "file_extension": ".py",
   "mimetype": "text/x-python",
   "name": "python",
   "nbconvert_exporter": "python",
   "pygments_lexer": "ipython3",
   "version": "3.12.4"
  }
 },
 "nbformat": 4,
 "nbformat_minor": 5
}
