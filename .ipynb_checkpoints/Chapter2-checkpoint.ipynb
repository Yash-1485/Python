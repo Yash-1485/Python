{
 "cells": [
  {
   "cell_type": "code",
   "execution_count": 3,
   "id": "00e89e8f-bb42-49fd-ac45-8f2ad0bd5df1",
   "metadata": {},
   "outputs": [
    {
     "name": "stdin",
     "output_type": "stream",
     "text": [
      "Enter Days:  398\n"
     ]
    },
    {
     "name": "stdout",
     "output_type": "stream",
     "text": [
      "1 years 1 months 3 days\n"
     ]
    }
   ],
   "source": [
    "#Convert days into year, months and days\n",
    "days=int(input(\"Enter Days: \"))\n",
    "years=days//365\n",
    "months=(days%365)//30\n",
    "days=(days%365%30)\n",
    "print(f\"{years} years {months} months {days} days\")"
   ]
  },
  {
   "cell_type": "code",
   "execution_count": 11,
   "id": "79dd4495-d23d-4354-bc02-866a8c04ebf6",
   "metadata": {},
   "outputs": [
    {
     "name": "stdin",
     "output_type": "stream",
     "text": [
      "Enter Seconds:  100000\n"
     ]
    },
    {
     "name": "stdout",
     "output_type": "stream",
     "text": [
      "1:3:46:40\n"
     ]
    }
   ],
   "source": [
    "#Convert Seconds into days,hours,minutes and seconds\n",
    "seconds=int(input('Enter Seconds: '))\n",
    "days=seconds//(24*3600)\n",
    "hours=seconds%(24*3600)//3600\n",
    "minutes=seconds%(24*3600)%3600//60\n",
    "seconds=seconds%(24*3600)%60%60\n",
    "print(f'{days}:{hours}:{minutes}:{seconds}')"
   ]
  },
  {
   "cell_type": "code",
   "execution_count": 1,
   "id": "b9dcdbe7-8ac7-4fdb-89b2-fd970fa87795",
   "metadata": {},
   "outputs": [
    {
     "name": "stdin",
     "output_type": "stream",
     "text": [
      "Enter time (1-12):  8\n"
     ]
    },
    {
     "name": "stdout",
     "output_type": "stream",
     "text": [
      "\n",
      "    1 - AM\n",
      "    2 - PM\n",
      "    \n"
     ]
    },
    {
     "name": "stdin",
     "output_type": "stream",
     "text": [
      "Enter choice:  1\n"
     ]
    },
    {
     "name": "stdout",
     "output_type": "stream",
     "text": [
      "8 AM\n"
     ]
    },
    {
     "name": "stdin",
     "output_type": "stream",
     "text": [
      "Enter hours to increment:  37\n"
     ]
    },
    {
     "name": "stdout",
     "output_type": "stream",
     "text": [
      "9 PM\n"
     ]
    }
   ],
   "source": [
    "while True:\n",
    "    hour = int(input('Enter time (1-12): '))\n",
    "    if hour < 1 or hour > 12:\n",
    "        print('Enter valid hour input')\n",
    "        continue\n",
    "\n",
    "    print('''\n",
    "    1 - AM\n",
    "    2 - PM\n",
    "    ''')\n",
    "    ch = int(input('Enter choice: '))\n",
    "    if ch == 1:\n",
    "        time = 'AM'\n",
    "    elif ch == 2:\n",
    "        time = 'PM'\n",
    "    else:\n",
    "        print('Enter valid input')\n",
    "        continue\n",
    "\n",
    "    print(f'{hour} {time}')\n",
    "    inc = int(input('Enter hours to increment: '))\n",
    "    \n",
    "    # Calculating new hour\n",
    "    ft = hour + inc\n",
    "    cycles = ft // 12  # Number of 12-hour cycles\n",
    "    ft = ft % 12\n",
    "    if ft == 0:\n",
    "        ft = 12\n",
    "\n",
    "    # Toggle AM/PM based on cycles\n",
    "    if cycles % 2 == 1:\n",
    "        if time == 'AM':\n",
    "            ft_time = 'PM'\n",
    "        else:\n",
    "            ft_time = 'AM'\n",
    "    else:\n",
    "        ft_time = time\n",
    "\n",
    "    print(f'{ft} {ft_time}')\n",
    "    break\n"
   ]
  },
  {
   "cell_type": "code",
   "execution_count": 5,
   "id": "7947d8e6-8c47-4578-83d3-5d6e24215bac",
   "metadata": {},
   "outputs": [
    {
     "name": "stdin",
     "output_type": "stream",
     "text": [
      "Enter range of numbers strating from 1:  18\n"
     ]
    },
    {
     "name": "stdout",
     "output_type": "stream",
     "text": [
      "0\n",
      "0\n",
      "1\n",
      "1\n",
      "2\n",
      "4\n",
      "7\n",
      "13\n",
      "24\n",
      "44\n",
      "81\n",
      "149\n",
      "274\n",
      "504\n",
      "927\n",
      "1705\n",
      "3136\n",
      "5768\n"
     ]
    }
   ],
   "source": [
    "#Tribonacci Numbers\n",
    "n=int(input('Enter range of numbers strating from 1: '))\n",
    "a,b,c=0,0,1\n",
    "for i in range(1,n+1):\n",
    "    print(a)\n",
    "    sum=a+b+c\n",
    "    a=b\n",
    "    b=c\n",
    "    c=sum"
   ]
  },
  {
   "cell_type": "code",
   "execution_count": 39,
   "id": "cb3c456b-f5a7-457e-886a-f9e1994a6640",
   "metadata": {},
   "outputs": [
    {
     "name": "stdout",
     "output_type": "stream",
     "text": [
      "(1,12)\n",
      "(9,10)\n",
      "(10,9)\n",
      "(12,1)\n"
     ]
    }
   ],
   "source": [
    "#Shree Ramanujan Number - 1729\n",
    "#To find pairs\n",
    "num=1729\n",
    "for i in range(1,100):\n",
    "    for j in range(1,100):\n",
    "        a=i**3\n",
    "        b=j**3\n",
    "        sum=a+b\n",
    "        if sum==num:print(f'({i},{j})')"
   ]
  },
  {
   "cell_type": "code",
   "execution_count": 57,
   "id": "0576fd54-02e3-45fb-a332-3502a358194b",
   "metadata": {},
   "outputs": [
    {
     "name": "stdout",
     "output_type": "stream",
     "text": [
      "1729\n",
      "4104\n",
      "13832\n",
      "39312\n",
      "46683\n",
      "32832\n",
      "110656\n",
      "110808\n",
      "40033\n",
      "20683\n",
      "65728\n",
      "64232\n"
     ]
    }
   ],
   "source": [
    "#To find numbers\n",
    "lm=50\n",
    "ls=[]\n",
    "for a in range(1,lm):\n",
    "    for b in range(a,lm):\n",
    "        for c in range(a,lm):\n",
    "            for d in range(c,lm):\n",
    "                if a!=c:\n",
    "                    x=a**3+b**3\n",
    "                    y=c**3+d**3\n",
    "                if x==y:\n",
    "                    print(x)"
   ]
  },
  {
   "cell_type": "code",
   "execution_count": 71,
   "id": "862beece-1415-4580-ad5c-03c6b034b90c",
   "metadata": {},
   "outputs": [
    {
     "name": "stdout",
     "output_type": "stream",
     "text": [
      "1729 -> (9,10) (1,12) \n",
      "4104 -> (2,16) (9,15) \n",
      "13832 -> (2,24) (18,20) \n",
      "39312 -> (2,34) (15,33) \n",
      "46683 -> (27,30) (3,36) \n",
      "32832 -> (18,30) (4,32) \n",
      "40033 -> (9,34) (16,33) \n",
      "20683 -> (19,24) (10,27) \n",
      "64232 -> (17,39) (26,36) \n"
     ]
    }
   ],
   "source": [
    "#Mix Program\n",
    "def find_Shree_Ramanujan_Numbers(lm=20):\n",
    "    x,y=0,1\n",
    "    for a in range(1,lm):\n",
    "        for b in range(a,lm):\n",
    "            for c in range(a,lm):\n",
    "                for d in range(c,lm):\n",
    "                    if a!=c:\n",
    "                        x=a**3+b**3\n",
    "                        y=c**3+d**3\n",
    "                    if x==y:\n",
    "                        print(x,'->',end=' ')\n",
    "                        find_Pairs(x)\n",
    "def find_Pairs(num,lm=100):\n",
    "    num_ls=[]\n",
    "    for i in range(1,lm):\n",
    "        for j in range(1,lm):\n",
    "            if i<j:\n",
    "                a=i**3\n",
    "                b=j**3\n",
    "                sum=a+b\n",
    "                if sum==num:\n",
    "                    num_ls.append(f'({i},{j})')\n",
    "    for x in set(num_ls):\n",
    "        print(x,end=' ')\n",
    "    else:print()\n",
    "\n",
    "find_Shree_Ramanujan_Numbers(40)"
   ]
  },
  {
   "cell_type": "code",
   "execution_count": 73,
   "id": "5866b68b-2e47-402a-a468-20e239639e8d",
   "metadata": {},
   "outputs": [
    {
     "name": "stdin",
     "output_type": "stream",
     "text": [
      "Enter a number:  9\n"
     ]
    },
    {
     "name": "stdout",
     "output_type": "stream",
     "text": [
      "11106\n"
     ]
    }
   ],
   "source": [
    "#a+aa+aaa+aaaa+....\n",
    "n=int(input('Enter a number: '))\n",
    "print(int(f'{n}')+int(f'{n}'*2)+int(f'{n}'*3)+int(f'{n}'*4))"
   ]
  },
  {
   "cell_type": "code",
   "execution_count": 75,
   "id": "798e84df-4108-4570-95d8-f96d33d22956",
   "metadata": {},
   "outputs": [
    {
     "name": "stdout",
     "output_type": "stream",
     "text": [
      "-1000\n"
     ]
    }
   ],
   "source": [
    "#1-2+3-4+5-6+..+2000\n",
    "lm=2000\n",
    "sum=0\n",
    "for i in range(1,lm+1):\n",
    "    if i%2==0:sum-=i\n",
    "    else:sum+=i\n",
    "print(sum)"
   ]
  },
  {
   "cell_type": "code",
   "execution_count": 81,
   "id": "4076b548-1904-41d6-be10-333f40dd71b6",
   "metadata": {},
   "outputs": [
    {
     "name": "stdin",
     "output_type": "stream",
     "text": [
      "Enter a number:  17\n"
     ]
    },
    {
     "name": "stdout",
     "output_type": "stream",
     "text": [
      "75\n"
     ]
    }
   ],
   "source": [
    "#Bank\n",
    "n=int(input('Enter a number: '))\n",
    "count=1\n",
    "temp=count\n",
    "sum=0\n",
    "for i in range(1,n+1):\n",
    "    sum+=temp\n",
    "    temp+=1\n",
    "    if i%7==0:\n",
    "        count+=1\n",
    "        temp=count\n",
    "print(sum)"
   ]
  },
  {
   "cell_type": "code",
   "execution_count": 171,
   "id": "2a4146ec-6617-4318-bfe3-91d92595efd8",
   "metadata": {},
   "outputs": [
    {
     "name": "stdin",
     "output_type": "stream",
     "text": [
      "Enter a number:  1726354\n"
     ]
    },
    {
     "name": "stdout",
     "output_type": "stream",
     "text": [
      "1 4\n",
      "4726351\n"
     ]
    }
   ],
   "source": [
    "#Swap First and Last digits\n",
    "n=int(input('Enter a number: '))\n",
    "ld=n%10\n",
    "count,temp=0,n\n",
    "while temp>0:\n",
    "    count+=1\n",
    "    temp//=10\n",
    "if n>=0 and n<10:\n",
    "    fd=0\n",
    "else:\n",
    "    fd=n//(10**(count-1))\n",
    "# print(fd,ld)\n",
    "n//=10\n",
    "n=(n*(10)+fd)%(10**(count-1))+((10**(count-1))*ld)\n",
    "print(n)"
   ]
  },
  {
   "cell_type": "code",
   "execution_count": null,
   "id": "9c4a85ea-1b39-4ed0-9bef-2fc4498bd8d6",
   "metadata": {},
   "outputs": [],
   "source": []
  }
 ],
 "metadata": {
  "kernelspec": {
   "display_name": "Python 3 (ipykernel)",
   "language": "python",
   "name": "python3"
  },
  "language_info": {
   "codemirror_mode": {
    "name": "ipython",
    "version": 3
   },
   "file_extension": ".py",
   "mimetype": "text/x-python",
   "name": "python",
   "nbconvert_exporter": "python",
   "pygments_lexer": "ipython3",
   "version": "3.12.4"
  }
 },
 "nbformat": 4,
 "nbformat_minor": 5
}
