{
 "cells": [
  {
   "cell_type": "code",
   "execution_count": 4,
   "id": "26686acf-4ddb-4d24-9883-0f8929a8ab2c",
   "metadata": {},
   "outputs": [
    {
     "name": "stdout",
     "output_type": "stream",
     "text": [
      "[1 2 3]\n"
     ]
    }
   ],
   "source": [
    "import numpy as np\n",
    "print(np.array([1,2,3]))"
   ]
  },
  {
   "cell_type": "code",
   "execution_count": 26,
   "id": "2c76c53d-ef2f-4dbf-84fe-c3eaa5009b6f",
   "metadata": {},
   "outputs": [],
   "source": [
    "a=np.arange(1,25,dtype=np.float64)"
   ]
  },
  {
   "cell_type": "code",
   "execution_count": 28,
   "id": "b5738246-8770-40a3-aa82-d2f70cd253f2",
   "metadata": {},
   "outputs": [
    {
     "name": "stdout",
     "output_type": "stream",
     "text": [
      "[ 1.  2.  3.  4.  5.  6.  7.  8.  9. 10. 11. 12. 13. 14. 15. 16. 17. 18.\n",
      " 19. 20. 21. 22. 23. 24.]\n"
     ]
    }
   ],
   "source": [
    "print(a)"
   ]
  },
  {
   "cell_type": "code",
   "execution_count": 30,
   "id": "89a208ff-befa-497f-b13c-9deb6296a3f8",
   "metadata": {},
   "outputs": [
    {
     "data": {
      "text/plain": [
       "array([[ 1.,  2.,  3.,  4.],\n",
       "       [ 5.,  6.,  7.,  8.],\n",
       "       [ 9., 10., 11., 12.],\n",
       "       [13., 14., 15., 16.],\n",
       "       [17., 18., 19., 20.],\n",
       "       [21., 22., 23., 24.]])"
      ]
     },
     "execution_count": 30,
     "metadata": {},
     "output_type": "execute_result"
    }
   ],
   "source": [
    "a.reshape(6,4)"
   ]
  },
  {
   "cell_type": "code",
   "execution_count": 32,
   "id": "c9ad7360-8dca-4646-8b0b-5eaafab6cc54",
   "metadata": {},
   "outputs": [
    {
     "data": {
      "text/plain": [
       "array([ 1.,  2.,  3.,  4.,  5.,  6.,  7.,  8.,  9., 10., 11., 12., 13.,\n",
       "       14., 15., 16., 17., 18., 19., 20., 21., 22., 23., 24.])"
      ]
     },
     "execution_count": 32,
     "metadata": {},
     "output_type": "execute_result"
    }
   ],
   "source": [
    "a"
   ]
  },
  {
   "cell_type": "code",
   "execution_count": 36,
   "id": "5550298e-0951-4444-bc56-1a4df1d25583",
   "metadata": {},
   "outputs": [
    {
     "data": {
      "text/plain": [
       "array([[1, 2, 3],\n",
       "       [4, 5, 6]])"
      ]
     },
     "execution_count": 36,
     "metadata": {},
     "output_type": "execute_result"
    }
   ],
   "source": [
    "np.array([[1,2,3],[4,5,6]])"
   ]
  },
  {
   "cell_type": "code",
   "execution_count": 46,
   "id": "45af362e-3c75-49cf-b9b2-07f31b94d233",
   "metadata": {},
   "outputs": [
    {
     "data": {
      "text/plain": [
       "array([[101, 112, 123, 134, 145],\n",
       "       [156, 167, 178, 189, 200]])"
      ]
     },
     "execution_count": 46,
     "metadata": {},
     "output_type": "execute_result"
    }
   ],
   "source": [
    "np.linspace(101,200,10,dtype=int).reshape(2,5)"
   ]
  },
  {
   "cell_type": "code",
   "execution_count": 52,
   "id": "c737c12d-4e1e-40bc-b2a1-c3e3a48b6479",
   "metadata": {},
   "outputs": [
    {
     "data": {
      "text/plain": [
       "array([[[31, 88, 30],\n",
       "        [73, 80, 40],\n",
       "        [91, 90, 54]],\n",
       "\n",
       "       [[84,  5, 22],\n",
       "        [82, 95, 86],\n",
       "        [73, 12, 99]]])"
      ]
     },
     "execution_count": 52,
     "metadata": {},
     "output_type": "execute_result"
    }
   ],
   "source": [
    "np.random.randint(1,100,size=(2,3,3))"
   ]
  },
  {
   "cell_type": "code",
   "execution_count": 58,
   "id": "67d9ce85-16ce-4b52-9e3e-b87066e8b89c",
   "metadata": {},
   "outputs": [
    {
     "data": {
      "text/plain": [
       "4"
      ]
     },
     "execution_count": 58,
     "metadata": {},
     "output_type": "execute_result"
    }
   ],
   "source": [
    "a=np.arange(1,11,dtype=np.float32)\n",
    "a.itemsize"
   ]
  },
  {
   "cell_type": "code",
   "execution_count": 60,
   "id": "6e1e4854-6b0f-459a-9ee7-b66a3f47c57b",
   "metadata": {},
   "outputs": [
    {
     "data": {
      "text/plain": [
       "array([ 1.,  2.,  3.,  4.,  5.,  6.,  7.,  8.,  9., 10.], dtype=float32)"
      ]
     },
     "execution_count": 60,
     "metadata": {},
     "output_type": "execute_result"
    }
   ],
   "source": [
    "a"
   ]
  },
  {
   "cell_type": "code",
   "execution_count": 62,
   "id": "3d5ea596-4e38-4e58-a8c5-fcc290716a2d",
   "metadata": {},
   "outputs": [
    {
     "data": {
      "text/plain": [
       "dtype('float32')"
      ]
     },
     "execution_count": 62,
     "metadata": {},
     "output_type": "execute_result"
    }
   ],
   "source": [
    "a.dtype"
   ]
  },
  {
   "cell_type": "code",
   "execution_count": 64,
   "id": "fa550c8e-161f-4c13-ad4b-0d55f06b989c",
   "metadata": {},
   "outputs": [
    {
     "data": {
      "text/plain": [
       "array([ 1,  2,  3,  4,  5,  6,  7,  8,  9, 10])"
      ]
     },
     "execution_count": 64,
     "metadata": {},
     "output_type": "execute_result"
    }
   ],
   "source": [
    "a.astype(np.int32)"
   ]
  },
  {
   "cell_type": "code",
   "execution_count": 66,
   "id": "cddadf18-614c-45cb-a7d5-9b15abb06feb",
   "metadata": {},
   "outputs": [],
   "source": [
    "a=np.random.random((3,4))"
   ]
  },
  {
   "cell_type": "code",
   "execution_count": 68,
   "id": "897f2c9c-a9ac-4c46-b606-64aef8094a29",
   "metadata": {},
   "outputs": [
    {
     "name": "stdout",
     "output_type": "stream",
     "text": [
      "[[0.54518086 0.08588009 0.09327214 0.44299233]\n",
      " [0.34177611 0.14849031 0.3534907  0.75386147]\n",
      " [0.82030296 0.57247    0.77211381 0.30871154]]\n"
     ]
    }
   ],
   "source": [
    "print(a)"
   ]
  },
  {
   "cell_type": "code",
   "execution_count": 70,
   "id": "581f5a79-dfd6-4b78-8497-c93d3de3b5d3",
   "metadata": {},
   "outputs": [],
   "source": [
    "a=a*100"
   ]
  },
  {
   "cell_type": "code",
   "execution_count": 72,
   "id": "2e886a6f-9e44-4f19-a3b5-a9bb46f6dc1c",
   "metadata": {},
   "outputs": [
    {
     "data": {
      "text/plain": [
       "array([[54.51808558,  8.58800886,  9.32721392, 44.29923259],\n",
       "       [34.1776106 , 14.84903093, 35.34906979, 75.38614678],\n",
       "       [82.03029582, 57.24700014, 77.21138132, 30.8711538 ]])"
      ]
     },
     "execution_count": 72,
     "metadata": {},
     "output_type": "execute_result"
    }
   ],
   "source": [
    "a"
   ]
  },
  {
   "cell_type": "code",
   "execution_count": 74,
   "id": "9f2bc2c9-6af5-4169-9e57-a9ba45c3750e",
   "metadata": {},
   "outputs": [
    {
     "data": {
      "text/plain": [
       "array([[54.52,  8.59,  9.33, 44.3 ],\n",
       "       [34.18, 14.85, 35.35, 75.39],\n",
       "       [82.03, 57.25, 77.21, 30.87]])"
      ]
     },
     "execution_count": 74,
     "metadata": {},
     "output_type": "execute_result"
    }
   ],
   "source": [
    "a.round(2)"
   ]
  },
  {
   "cell_type": "code",
   "execution_count": 76,
   "id": "50ca2a7f-c029-4450-bd67-bb8239f56313",
   "metadata": {},
   "outputs": [
    {
     "data": {
      "text/plain": [
       "array([[54.51808558,  8.58800886,  9.32721392, 44.29923259],\n",
       "       [34.1776106 , 14.84903093, 35.34906979, 75.38614678],\n",
       "       [82.03029582, 57.24700014, 77.21138132, 30.8711538 ]])"
      ]
     },
     "execution_count": 76,
     "metadata": {},
     "output_type": "execute_result"
    }
   ],
   "source": [
    "a"
   ]
  },
  {
   "cell_type": "code",
   "execution_count": 78,
   "id": "b62c9fc5-d9e4-44f7-9dc4-ee3dc8b3cf5e",
   "metadata": {},
   "outputs": [
    {
     "data": {
      "text/plain": [
       "array([[55.,  9.,  9., 44.],\n",
       "       [34., 15., 35., 75.],\n",
       "       [82., 57., 77., 31.]])"
      ]
     },
     "execution_count": 78,
     "metadata": {},
     "output_type": "execute_result"
    }
   ],
   "source": [
    "a.round(0)"
   ]
  },
  {
   "cell_type": "code",
   "execution_count": 80,
   "id": "82170eb7-bc87-418e-a197-3405a96a0fed",
   "metadata": {},
   "outputs": [
    {
     "data": {
      "text/plain": [
       "array([[54.51808558,  8.58800886,  9.32721392, 44.29923259],\n",
       "       [34.1776106 , 14.84903093, 35.34906979, 75.38614678],\n",
       "       [82.03029582, 57.24700014, 77.21138132, 30.8711538 ]])"
      ]
     },
     "execution_count": 80,
     "metadata": {},
     "output_type": "execute_result"
    }
   ],
   "source": [
    "a"
   ]
  },
  {
   "cell_type": "code",
   "execution_count": 82,
   "id": "c958833a-7e18-43bf-bd24-ffdfa0dcef1e",
   "metadata": {},
   "outputs": [
    {
     "data": {
      "text/plain": [
       "array([[55,  9,  9, 44],\n",
       "       [34, 15, 35, 75],\n",
       "       [82, 57, 77, 31]])"
      ]
     },
     "execution_count": 82,
     "metadata": {},
     "output_type": "execute_result"
    }
   ],
   "source": [
    "a=a.round(0)\n",
    "a.astype(np.int32)"
   ]
  },
  {
   "cell_type": "code",
   "execution_count": 84,
   "id": "a5166272-0686-44eb-b26c-f9d6d948cd9c",
   "metadata": {},
   "outputs": [],
   "source": [
    "a.sort()"
   ]
  },
  {
   "cell_type": "code",
   "execution_count": 86,
   "id": "8e70b2b8-935d-48ac-96f0-d2ef91bdd749",
   "metadata": {},
   "outputs": [
    {
     "name": "stdout",
     "output_type": "stream",
     "text": [
      "[[ 9.  9. 44. 55.]\n",
      " [15. 34. 35. 75.]\n",
      " [31. 57. 77. 82.]]\n"
     ]
    }
   ],
   "source": [
    "print(a)"
   ]
  },
  {
   "cell_type": "code",
   "execution_count": 88,
   "id": "f55a7474-d106-4590-be1b-ea8c48ce36dd",
   "metadata": {},
   "outputs": [
    {
     "ename": "TypeError",
     "evalue": "'NoneType' object is not subscriptable",
     "output_type": "error",
     "traceback": [
      "\u001b[1;31m---------------------------------------------------------------------------\u001b[0m",
      "\u001b[1;31mTypeError\u001b[0m                                 Traceback (most recent call last)",
      "Cell \u001b[1;32mIn[88], line 1\u001b[0m\n\u001b[1;32m----> 1\u001b[0m \u001b[43ma\u001b[49m\u001b[38;5;241;43m.\u001b[39;49m\u001b[43msort\u001b[49m\u001b[43m(\u001b[49m\u001b[43m)\u001b[49m\u001b[43m[\u001b[49m\u001b[43m:\u001b[49m\u001b[43m:\u001b[49m\u001b[38;5;241;43m-\u001b[39;49m\u001b[38;5;241;43m1\u001b[39;49m\u001b[43m]\u001b[49m\n",
      "\u001b[1;31mTypeError\u001b[0m: 'NoneType' object is not subscriptable"
     ]
    }
   ],
   "source": [
    "a.sort()[::-1]"
   ]
  },
  {
   "cell_type": "code",
   "execution_count": 92,
   "id": "84632243-9cab-42c9-8825-a7959f3afc99",
   "metadata": {},
   "outputs": [
    {
     "data": {
      "text/plain": [
       "array([[31., 57., 77., 82.],\n",
       "       [15., 34., 35., 75.],\n",
       "       [ 9.,  9., 44., 55.]])"
      ]
     },
     "execution_count": 92,
     "metadata": {},
     "output_type": "execute_result"
    }
   ],
   "source": [
    "np.sort(a)[::-1]"
   ]
  },
  {
   "cell_type": "code",
   "execution_count": 94,
   "id": "2e8df544-0754-43ae-810a-80f1de4ec9d6",
   "metadata": {},
   "outputs": [
    {
     "name": "stdout",
     "output_type": "stream",
     "text": [
      "(0, 0) 9.0\n",
      "(0, 1) 9.0\n",
      "(0, 2) 44.0\n",
      "(0, 3) 55.0\n",
      "(1, 0) 15.0\n",
      "(1, 1) 34.0\n",
      "(1, 2) 35.0\n",
      "(1, 3) 75.0\n",
      "(2, 0) 31.0\n",
      "(2, 1) 57.0\n",
      "(2, 2) 77.0\n",
      "(2, 3) 82.0\n"
     ]
    }
   ],
   "source": [
    "for idx,ele in np.ndenumerate(a):print(idx,ele)"
   ]
  },
  {
   "cell_type": "code",
   "execution_count": null,
   "id": "7357cfcb-22ac-4ba3-b836-63ecb0618377",
   "metadata": {},
   "outputs": [],
   "source": [
    "import matplotlib.pyplot as plt"
   ]
  }
 ],
 "metadata": {
  "kernelspec": {
   "display_name": "Python 3 (ipykernel)",
   "language": "python",
   "name": "python3"
  },
  "language_info": {
   "codemirror_mode": {
    "name": "ipython",
    "version": 3
   },
   "file_extension": ".py",
   "mimetype": "text/x-python",
   "name": "python",
   "nbconvert_exporter": "python",
   "pygments_lexer": "ipython3",
   "version": "3.12.4"
  }
 },
 "nbformat": 4,
 "nbformat_minor": 5
}
