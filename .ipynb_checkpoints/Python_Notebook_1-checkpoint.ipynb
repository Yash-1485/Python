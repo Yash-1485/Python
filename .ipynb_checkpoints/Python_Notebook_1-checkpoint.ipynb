{
 "cells": [
  {
   "cell_type": "code",
   "execution_count": null,
   "metadata": {},
   "outputs": [],
   "source": [
    "print(\"Hello World!\")"
   ]
  },
  {
   "cell_type": "code",
   "execution_count": null,
   "metadata": {},
   "outputs": [],
   "source": [
    "print((-2)**2)"
   ]
  },
  {
   "cell_type": "code",
   "execution_count": null,
   "metadata": {},
   "outputs": [],
   "source": [
    "print(-2**2)"
   ]
  },
  {
   "cell_type": "code",
   "execution_count": null,
   "metadata": {},
   "outputs": [],
   "source": [
    "print(20//10)"
   ]
  },
  {
   "cell_type": "code",
   "execution_count": null,
   "metadata": {},
   "outputs": [],
   "source": [
    "print(30/6*5)"
   ]
  },
  {
   "cell_type": "code",
   "execution_count": null,
   "metadata": {},
   "outputs": [],
   "source": [
    "0 or 'hello' and 1"
   ]
  },
  {
   "cell_type": "code",
   "execution_count": null,
   "metadata": {},
   "outputs": [],
   "source": [
    "bool(5)==True"
   ]
  },
  {
   "cell_type": "code",
   "execution_count": null,
   "metadata": {},
   "outputs": [],
   "source": [
    "name='alex'\n",
    "age=0\n",
    "name=='alex' or name=='john' and age>2"
   ]
  },
  {
   "cell_type": "code",
   "execution_count": null,
   "metadata": {},
   "outputs": [],
   "source": [
    "a=0\n",
    "b=6\n",
    "x=((a or b) or (a and b) or (a and b))\n",
    "bool(x)"
   ]
  },
  {
   "cell_type": "code",
   "execution_count": null,
   "metadata": {},
   "outputs": [],
   "source": [
    "#WAP to convert days into year,month and days, assume that the month is of 30 days and year is of 365 days\n",
    "days=int(input(\"Enter days: \"))\n",
    "print(f'Ans is: {days//365} years {(days%365)//30} months {days%365%30} days')"
   ]
  },
  {
   "cell_type": "code",
   "execution_count": null,
   "metadata": {},
   "outputs": [],
   "source": [
    "#WAP to convert seconds into days, hours, minutes and seconds\n",
    "seconds=int(input('Enter seconds: '))\n",
    "days=seconds//(24*3600)\n",
    "hours=seconds%(24*3600)//3600\n",
    "minutes=seconds%(24*3600)%3600//60\n",
    "seconds=seconds%(24*3600)%3600%60\n",
    "print(f'{days}:{hours}:{minutes}:{seconds}')"
   ]
  },
  {
   "cell_type": "code",
   "execution_count": null,
   "metadata": {},
   "outputs": [],
   "source": [
    "#WAP to find the area of triangle. semiperimeter=(a+b+c)/2, area=sqrt(s(s-a)(s-b)(s-c))\n",
    "a=float(input('Enter side a: '))\n",
    "b=float(input('Enter side b: '))\n",
    "c=float(input('Enter side c: '))\n",
    "\n",
    "s=(a+b+c)/2\n",
    "a=(s*(s-a)*(s-b)*(s-c))**(1/2)\n",
    "print(f'Area of Triangle is: {a:.2f}')"
   ]
  },
  {
   "cell_type": "code",
   "execution_count": null,
   "metadata": {},
   "outputs": [],
   "source": [
    "x=0\n",
    "if x>0:\n",
    "    print('x is positive')\n",
    "elif x==0:\n",
    "    print('x is zero')\n",
    "else:\n",
    "    print('x is negetive')"
   ]
  },
  {
   "cell_type": "code",
   "execution_count": null,
   "metadata": {},
   "outputs": [],
   "source": [
    "#WAP to check the number is even or odd\n",
    "num=int(input('Enter a number: '))\n",
    "if num%2==0:\n",
    "    print('even')\n",
    "else:\n",
    "    print('odd')"
   ]
  },
  {
   "cell_type": "code",
   "execution_count": null,
   "metadata": {},
   "outputs": [],
   "source": [
    "#WAP to find the greatest of three number\n",
    "a=int(input('Enter number 1: '))\n",
    "b=int(input('Enter number 2: '))\n",
    "c=int(input('Enter number 3: '))\n",
    "if a>b and a>c:\n",
    "    print(f'a = {a} is greater')\n",
    "elif b>c:\n",
    "    print(f'b = {b} is greater')\n",
    "else:\n",
    "    print(f'c = {c} is greater')"
   ]
  },
  {
   "cell_type": "code",
   "execution_count": null,
   "metadata": {},
   "outputs": [],
   "source": [
    "#While Loop\n",
    "count=0\n",
    "while count<5:\n",
    "    print(count)\n",
    "    count+=1\n",
    "else:\n",
    "    print('Loop ended here')"
   ]
  },
  {
   "cell_type": "code",
   "execution_count": null,
   "metadata": {},
   "outputs": [],
   "source": [
    "!range??"
   ]
  },
  {
   "cell_type": "code",
   "execution_count": null,
   "metadata": {},
   "outputs": [],
   "source": [
    "range(5)"
   ]
  },
  {
   "cell_type": "code",
   "execution_count": null,
   "metadata": {},
   "outputs": [],
   "source": [
    "list(range(5))"
   ]
  },
  {
   "cell_type": "code",
   "execution_count": null,
   "metadata": {},
   "outputs": [],
   "source": [
    "list(range(1))"
   ]
  },
  {
   "cell_type": "code",
   "execution_count": null,
   "metadata": {},
   "outputs": [],
   "source": [
    "for i in range(3):\n",
    "    print(i,end=',')\n",
    "#     print('Hello')"
   ]
  },
  {
   "cell_type": "code",
   "execution_count": null,
   "metadata": {},
   "outputs": [],
   "source": [
    "for i in [1,2,3]:    \n",
    "    if i==2:continue\n",
    "    print(i)\n",
    "else:\n",
    "    print('Loop Completed')"
   ]
  },
  {
   "cell_type": "code",
   "execution_count": null,
   "metadata": {},
   "outputs": [],
   "source": [
    "for i in range(5):\n",
    "    ..."
   ]
  },
  {
   "cell_type": "code",
   "execution_count": null,
   "metadata": {},
   "outputs": [],
   "source": [
    "#WAP to print multiplication table\n",
    "n=int(input('Enter a number: '))\n",
    "for i in range(1,11):\n",
    "    print(f'{n} x {i} = {n*i}')"
   ]
  },
  {
   "cell_type": "code",
   "execution_count": null,
   "metadata": {},
   "outputs": [],
   "source": [
    "#WAP to take user input of 10 values and print the average\n",
    "sum=0\n",
    "for i in range(10):\n",
    "    sum+=int(input(f'Enter Number {i+1}: '))\n",
    "print(f'Average is: {sum/10}')"
   ]
  },
  {
   "cell_type": "code",
   "execution_count": null,
   "metadata": {},
   "outputs": [],
   "source": [
    "#WAP that finds out all the integer solution of Pell's equation x^2-2y^2=1 where the values of x and y are between 1 to 100\n",
    "for i in range(1,101):\n",
    "    for j in range(1,101):\n",
    "        if ((i**2)-(2*j**2))==1:print(f'x={i}, y={j}')"
   ]
  },
  {
   "cell_type": "code",
   "execution_count": 2,
   "metadata": {},
   "outputs": [
    {
     "name": "stdout",
     "output_type": "stream",
     "text": [
      "Enter hour: 8\n",
      "\n",
      "    1 - AM\n",
      "    2 - PM\n",
      "    \n",
      "Enter: 1\n",
      "Enter how many hour you want to go in future: 37\n",
      "9 PM\n"
     ]
    }
   ],
   "source": [
    "#WAP that asks user for an hour between 1 and 12. Ask them to enter am or pm and ask them how many hours in future they go?\n",
    "#Printout what the hours will that many hours into the future printing am or pm\n",
    "while True:\n",
    "    hour = int(input('Enter hour: '))\n",
    "    if hour<0 or hour>12:\n",
    "        print('Enter valid hour value')\n",
    "        continue\n",
    "    time=\"\"\n",
    "    print('''\n",
    "    1 - AM\n",
    "    2 - PM\n",
    "    ''')\n",
    "    c=int(input('Enter: '))\n",
    "    if c==1:time='AM'\n",
    "    elif c==2:time='PM'\n",
    "    else:\n",
    "        print('Enter valid value')\n",
    "        continue\n",
    "    current_time=f'{hour} {time}'\n",
    "    inc=int(input('Enter how many hour you want to go in future: '))\n",
    "    \n",
    "    if inc<0:\n",
    "        print('Enter valid value')\n",
    "        continue    \n",
    "    ft=hour+inc\n",
    "    ft_time=''    \n",
    "    if ft%2==1:\n",
    "        if time=='AM':\n",
    "            ft_time='PM'\n",
    "        else:\n",
    "            ft_time='AM'\n",
    "    else:\n",
    "        ft_time=time            \n",
    "    if ft>12:\n",
    "        ft%=12\n",
    "    print(ft,ft_time)\n",
    "    break\n",
    "        "
   ]
  },
  {
   "cell_type": "code",
   "execution_count": null,
   "metadata": {},
   "outputs": [],
   "source": [
    "#A number is considered strong number if sum of it's individual facorial of digits is the number it self\n",
    "for i in range(1,301):\n",
    "    num=i\n",
    "    sum=0\n",
    "    while num>0:\n",
    "        rem=num%10\n",
    "        fact=1\n",
    "        for j in range(1,rem+1):\n",
    "            fact*=j\n",
    "        sum+=fact\n",
    "        num//=10\n",
    "    if sum==i:\n",
    "        print(i)"
   ]
  },
  {
   "cell_type": "code",
   "execution_count": null,
   "metadata": {},
   "outputs": [],
   "source": [
    "#WAP Suppose you put 1 ruppe in a bank for first day (monday).Everyday from next day until sunday you put 1 rupee more.\n",
    "#and on subsequent monday you put 1 rupee more. If we have number n find the total amount of money you will have in the\n",
    "# bank at the end of nth day\n",
    "n=int(input('Enter days: '))\n",
    "count=1\n",
    "temp=count\n",
    "sum=0\n",
    "for i in range(1,n+1):    \n",
    "    sum+=temp\n",
    "    temp+=1\n",
    "    if i%7==0:        \n",
    "        count+=1\n",
    "        temp=count\n",
    "print(sum)"
   ]
  },
  {
   "cell_type": "code",
   "execution_count": null,
   "metadata": {},
   "outputs": [],
   "source": [
    "#WAP that computes the value of a+aa+aaa+aaaa with a given digit of value a\n",
    "n=int(input('Enter a number: '))\n",
    "sum=0\n",
    "for i in range(4):\n",
    "    mul=0\n",
    "    for j in range(i+1):\n",
    "        mul=mul*10+n\n",
    "    sum+=mul\n",
    "print(sum)\n",
    "\n",
    "print(int(f'{n}')+int(f'{n}'*2)+int(f'{n}'*3)+int(f'{n}'*4))"
   ]
  },
  {
   "cell_type": "code",
   "execution_count": null,
   "metadata": {},
   "outputs": [],
   "source": [
    "#WAP to compute the sum of 1-2+3-4+5...2000\n",
    "sum=0\n",
    "for i in range(1,2001):\n",
    "    if i%2==0:sum-=i\n",
    "    else:sum+=i\n",
    "print(sum)"
   ]
  },
  {
   "cell_type": "code",
   "execution_count": null,
   "metadata": {},
   "outputs": [],
   "source": [
    "#Triboncci Series\n",
    "n=int(input('Enter number: '))\n",
    "print('Tribonacci Series:')\n",
    "a,b,c=0,0,1\n",
    "for i in range(1,n+1):\n",
    "    print(a)\n",
    "    sum=a+b+c\n",
    "    a=b\n",
    "    b=c\n",
    "    c=sum"
   ]
  },
  {
   "cell_type": "code",
   "execution_count": null,
   "metadata": {},
   "outputs": [],
   "source": [
    "#Fibonacci Series\n",
    "n=int(input('Enter a number: '))\n",
    "print('Fibonacci series: ')\n",
    "a,b=0,1\n",
    "for i in range(1,n+1):\n",
    "    print(a)\n",
    "    sum=a+b\n",
    "    a=b\n",
    "    b=sum"
   ]
  },
  {
   "cell_type": "code",
   "execution_count": null,
   "metadata": {},
   "outputs": [],
   "source": [
    "# 1729 \n",
    "#WAP to find Shree Ramanujan number that can be expressed as the sum of two cubes itwo different ways\n",
    "num=20683\n",
    "for i in range(1,1001):    \n",
    "    for j in range(1,1001):\n",
    "        a=i**3\n",
    "        b=j**3\n",
    "        sum=a+b\n",
    "        if sum==num:\n",
    "            print(f'({i},{j})',end=' ')"
   ]
  },
  {
   "cell_type": "code",
   "execution_count": null,
   "metadata": {},
   "outputs": [],
   "source": [
    "limit=20\n",
    "for a in range(1,limit):    \n",
    "    for b in range(a,limit):        \n",
    "        for c in range(a,limit):\n",
    "            for d in range(c,limit):                \n",
    "                x=a**3+b**3\n",
    "                \n",
    "                if sum1==sum2:print(sum1)"
   ]
  },
  {
   "cell_type": "code",
   "execution_count": null,
   "metadata": {},
   "outputs": [],
   "source": [
    "import math\n",
    "#WAP swap first and last digit of a number\n",
    "num=int(input('Enter a number: '))\n",
    "count=0\n",
    "temp=num\n",
    "while temp>0:\n",
    "    count+=1\n",
    "    temp//=10\n",
    "fd=num//10**(count-1)\n",
    "ld=num%10\n",
    "num//=10\n",
    "num=(num*10+fd)%((10**(count-1)))+((10**(count-1))*ld)\n",
    "print(num)"
   ]
  },
  {
   "cell_type": "code",
   "execution_count": null,
   "metadata": {},
   "outputs": [],
   "source": [
    "n=5\n",
    "for i in range(1,n+1):\n",
    "    for j in range(1,n+1):\n",
    "        if j==i:print('$',end=' ')\n",
    "        else:print('*',end=' ')\n",
    "    print()"
   ]
  },
  {
   "cell_type": "code",
   "execution_count": null,
   "metadata": {},
   "outputs": [],
   "source": [
    "#WAP to ask user to enter 10 scores\n",
    "#1.) Print the highest and lowest scores\n",
    "#2.) Print the average of the scores\n",
    "#3.) Print the second largest score\n",
    "#4.) If any score>100 \n",
    "#5.) Drop the two lowest scores and print the average of rest of them\n",
    "average=0\n",
    "highest=0\n",
    "lowest=0\n",
    "sec_highest=None\n",
    "sec_lowest=None\n",
    "sum=0\n",
    "for i in range(1,11):    \n",
    "    score=int(input(f'Enter score #{i}: '))\n",
    "    sum+=score\n",
    "    if i==1:\n",
    "        highest=score\n",
    "        lowest=score        \n",
    "        continue\n",
    "    if score>highest:\n",
    "        sec_highest=highest\n",
    "        highest=score\n",
    "    elif sec_highest==None or score>sec_highest:\n",
    "        sec_highest=score\n",
    "        \n",
    "    if score<lowest:\n",
    "        sec_lowest=lowest\n",
    "        lowest=score\n",
    "    elif sec_lowest==None or score<sec_highest:\n",
    "        sec_lowest=score    \n",
    "average=sum/10\n",
    "sum=sum-lowest-sec_lowest\n",
    "average2=sum/8\n",
    "print(f'Largest Number is: {highest}')\n",
    "print(f'Average Score is: {average}')\n",
    "print(f'Second Largest is: {sec_highest}')\n",
    "print(f'Two Lowest scores are {lowest} and {sec_lowest} and average of rest is {average2}')"
   ]
  },
  {
   "cell_type": "code",
   "execution_count": null,
   "metadata": {},
   "outputs": [],
   "source": [
    "#WAP to find disarium number upto 1 lac\n",
    "print('Disarium Numbers: ')\n",
    "for i in range(1,100001):\n",
    "    num=i\n",
    "    count=0\n",
    "    temp=i\n",
    "    ans=0\n",
    "    while temp>0:\n",
    "        temp//=10\n",
    "        count+=1\n",
    "    while num>0:\n",
    "        rem=num%10\n",
    "        ans+=rem**count\n",
    "        count-=1\n",
    "        num//=10\n",
    "    if i==ans:print(i)"
   ]
  },
  {
   "cell_type": "code",
   "execution_count": null,
   "metadata": {},
   "outputs": [],
   "source": [
    "#WAP to ask the user for a number and to check the number is square free or not\n",
    "#Square free:- A number is square free if it is not divisible by any perfect sqaure other than 1\n",
    "num=int(input('Enter a number: '))\n",
    "\n",
    "# for i in range(2,num+1):\n",
    "#     if num%i==0:\n",
    "#         if (i**(1/2)) in range(2,num):\n",
    "#             print('Not square free')\n",
    "#             break\n",
    "# else:\n",
    "#     print('Sqaure free')\n",
    "\n",
    "# for i in range(1,int(num**(1/2))+1):\n",
    "#     if num%(i**2)==0:\n",
    "#         print('Not')\n",
    "#         break\n",
    "# else:\n",
    "#     print('yes')"
   ]
  },
  {
   "cell_type": "code",
   "execution_count": null,
   "metadata": {},
   "outputs": [],
   "source": [
    "#WAP that gives amount of change less than 1 dollar and printout exactly how many quaters, diens, peny,nicals\n",
    "# 1 quater=25cents\n",
    "# 1 dine = 10c\n",
    "# 1 N= 5 c\n",
    "# 1 peny=1c"
   ]
  },
  {
   "cell_type": "code",
   "execution_count": 6,
   "metadata": {},
   "outputs": [
    {
     "name": "stdout",
     "output_type": "stream",
     "text": [
      "(220,284)\n",
      "(284,220)\n"
     ]
    }
   ],
   "source": [
    "#WAP to find amicable number pair between 1 and 300\n",
    "#Amicable Number:- Sum The factors of the number excluding the number \n",
    "#itself is equal to the Sum of factors of the others number excluding the number\n",
    "for i in range(1,301):\n",
    "    sum1=0\n",
    "    for k in range(1,i):\n",
    "        if i%k==0:sum1+=k\n",
    "    for j in range(1,301):\n",
    "        sum2=0\n",
    "        for l in range(1,j):\n",
    "            if j%l==0:sum2+=l\n",
    "        if sum1==j and sum2==i and i!=j:\n",
    "            print(f'({i},{j})')"
   ]
  },
  {
   "cell_type": "code",
   "execution_count": 11,
   "metadata": {},
   "outputs": [
    {
     "name": "stdout",
     "output_type": "stream",
     "text": [
      "21253\n"
     ]
    }
   ],
   "source": [
    "num=123.21253\n",
    "st=str(num)\n",
    "ls=st.split('.')\n",
    "print(int(ls[1]))"
   ]
  },
  {
   "cell_type": "code",
   "execution_count": 15,
   "metadata": {},
   "outputs": [
    {
     "name": "stdout",
     "output_type": "stream",
     "text": [
      "    1 \n",
      "   1 1 \n",
      "  1 2 1 \n",
      " 1 3 3 1 \n",
      "1 4 6 4 1 \n"
     ]
    }
   ],
   "source": [
    "#Pascal's Triangle\n",
    "n=5\n",
    "for i in range(1,n+1):\n",
    "    for k in range(n,i,-1):\n",
    "        print(end=' ')\n",
    "    c=1\n",
    "    for j in range(1,i+1):\n",
    "        print(c,end=' ')\n",
    "        c=c*(i-j)//j\n",
    "    print()"
   ]
  },
  {
   "cell_type": "code",
   "execution_count": 5,
   "metadata": {},
   "outputs": [
    {
     "name": "stdout",
     "output_type": "stream",
     "text": [
      "Hello World!\n"
     ]
    }
   ],
   "source": [
    "#Functions\n",
    "#Function Definition\n",
    "def greet():\n",
    "    print('Hello World!')\n",
    "#Function Calling\n",
    "greet()"
   ]
  },
  {
   "cell_type": "code",
   "execution_count": 6,
   "metadata": {},
   "outputs": [
    {
     "name": "stdout",
     "output_type": "stream",
     "text": [
      "Hello World!\n",
      "None\n"
     ]
    }
   ],
   "source": [
    "print(greet())"
   ]
  },
  {
   "cell_type": "code",
   "execution_count": 7,
   "metadata": {},
   "outputs": [
    {
     "name": "stdout",
     "output_type": "stream",
     "text": [
      "Hello Yash\n"
     ]
    }
   ],
   "source": [
    "def greet(name):\n",
    "    print(f'Hello {name}')\n",
    "greet('Yash')"
   ]
  },
  {
   "cell_type": "code",
   "execution_count": 23,
   "metadata": {},
   "outputs": [],
   "source": [
    "import math\n",
    "def calc(radius:float)->float:#Type Hinting\n",
    "    '''\n",
    "    This is a function to count Area of circle\n",
    "    '''\n",
    "    return float(f\"{math.pi*radius**2:.2f}\")"
   ]
  },
  {
   "cell_type": "code",
   "execution_count": 22,
   "metadata": {},
   "outputs": [
    {
     "name": "stdout",
     "output_type": "stream",
     "text": [
      "95.03\n"
     ]
    }
   ],
   "source": [
    "print(calc(5.5))"
   ]
  },
  {
   "cell_type": "code",
   "execution_count": 24,
   "metadata": {},
   "outputs": [
    {
     "name": "stdout",
     "output_type": "stream",
     "text": [
      "\n",
      "    This is a function to count Area of circle\n",
      "    \n"
     ]
    }
   ],
   "source": [
    "print(calc.__doc__)"
   ]
  },
  {
   "cell_type": "code",
   "execution_count": 18,
   "metadata": {},
   "outputs": [
    {
     "name": "stdout",
     "output_type": "stream",
     "text": [
      "Help on function calc in module __main__:\n",
      "\n",
      "calc(radius: float) -> float\n",
      "\n"
     ]
    }
   ],
   "source": [
    "help(calc)"
   ]
  },
  {
   "cell_type": "code",
   "execution_count": 20,
   "metadata": {},
   "outputs": [
    {
     "name": "stdout",
     "output_type": "stream",
     "text": [
      "Help on class range in module builtins:\n",
      "\n",
      "class range(object)\n",
      " |  range(stop) -> range object\n",
      " |  range(start, stop[, step]) -> range object\n",
      " |  \n",
      " |  Return an object that produces a sequence of integers from start (inclusive)\n",
      " |  to stop (exclusive) by step.  range(i, j) produces i, i+1, i+2, ..., j-1.\n",
      " |  start defaults to 0, and stop is omitted!  range(4) produces 0, 1, 2, 3.\n",
      " |  These are exactly the valid indices for a list of 4 elements.\n",
      " |  When step is given, it specifies the increment (or decrement).\n",
      " |  \n",
      " |  Methods defined here:\n",
      " |  \n",
      " |  __bool__(self, /)\n",
      " |      self != 0\n",
      " |  \n",
      " |  __contains__(self, key, /)\n",
      " |      Return key in self.\n",
      " |  \n",
      " |  __eq__(self, value, /)\n",
      " |      Return self==value.\n",
      " |  \n",
      " |  __ge__(self, value, /)\n",
      " |      Return self>=value.\n",
      " |  \n",
      " |  __getattribute__(self, name, /)\n",
      " |      Return getattr(self, name).\n",
      " |  \n",
      " |  __getitem__(self, key, /)\n",
      " |      Return self[key].\n",
      " |  \n",
      " |  __gt__(self, value, /)\n",
      " |      Return self>value.\n",
      " |  \n",
      " |  __hash__(self, /)\n",
      " |      Return hash(self).\n",
      " |  \n",
      " |  __iter__(self, /)\n",
      " |      Implement iter(self).\n",
      " |  \n",
      " |  __le__(self, value, /)\n",
      " |      Return self<=value.\n",
      " |  \n",
      " |  __len__(self, /)\n",
      " |      Return len(self).\n",
      " |  \n",
      " |  __lt__(self, value, /)\n",
      " |      Return self<value.\n",
      " |  \n",
      " |  __ne__(self, value, /)\n",
      " |      Return self!=value.\n",
      " |  \n",
      " |  __reduce__(...)\n",
      " |      Helper for pickle.\n",
      " |  \n",
      " |  __repr__(self, /)\n",
      " |      Return repr(self).\n",
      " |  \n",
      " |  __reversed__(...)\n",
      " |      Return a reverse iterator.\n",
      " |  \n",
      " |  count(...)\n",
      " |      rangeobject.count(value) -> integer -- return number of occurrences of value\n",
      " |  \n",
      " |  index(...)\n",
      " |      rangeobject.index(value) -> integer -- return index of value.\n",
      " |      Raise ValueError if the value is not present.\n",
      " |  \n",
      " |  ----------------------------------------------------------------------\n",
      " |  Static methods defined here:\n",
      " |  \n",
      " |  __new__(*args, **kwargs) from builtins.type\n",
      " |      Create and return a new object.  See help(type) for accurate signature.\n",
      " |  \n",
      " |  ----------------------------------------------------------------------\n",
      " |  Data descriptors defined here:\n",
      " |  \n",
      " |  start\n",
      " |  \n",
      " |  step\n",
      " |  \n",
      " |  stop\n",
      "\n"
     ]
    }
   ],
   "source": [
    "help(range)"
   ]
  },
  {
   "cell_type": "code",
   "execution_count": 34,
   "metadata": {},
   "outputs": [],
   "source": [
    "# def printline():print('Hello')\n",
    "# def printline(s):print(s)\n",
    "# def printline():return 'Hello'\n",
    "# def printline(s):return s"
   ]
  },
  {
   "cell_type": "code",
   "execution_count": 35,
   "metadata": {},
   "outputs": [
    {
     "data": {
      "text/plain": [
       "'Hello'"
      ]
     },
     "execution_count": 35,
     "metadata": {},
     "output_type": "execute_result"
    }
   ],
   "source": [
    "printline('Hello')"
   ]
  },
  {
   "cell_type": "code",
   "execution_count": 37,
   "metadata": {},
   "outputs": [
    {
     "name": "stdout",
     "output_type": "stream",
     "text": [
      "7 12 -1\n"
     ]
    }
   ],
   "source": [
    "def calc(a,b):\n",
    "    return a+b,a*b,a-b\n",
    "a,b,c=calc(3,4)\n",
    "print(a,b,c)"
   ]
  },
  {
   "cell_type": "code",
   "execution_count": 38,
   "metadata": {},
   "outputs": [
    {
     "name": "stdout",
     "output_type": "stream",
     "text": [
      "Help on function printline in module __main__:\n",
      "\n",
      "printline(s)\n",
      "\n"
     ]
    }
   ],
   "source": [
    "help(printline)"
   ]
  },
  {
   "cell_type": "code",
   "execution_count": 61,
   "metadata": {},
   "outputs": [],
   "source": [
    "#Create a pair of functions to convert ferenhit to celcius and vice versa with the user choice as an input\n",
    "def cel_to_fer()->float:\n",
    "    temp=float(input('Enter tempreture: '))\n",
    "    return float(f'{(9/5)*temp+32:.2f}')\n",
    "\n",
    "def fer_to_cel(tem:float):\n",
    "    tem=(tem-32)*5/9\n",
    "    print('Temprature is Celcius:',float(f'{tem:.2f}'),'℃')"
   ]
  },
  {
   "cell_type": "code",
   "execution_count": 62,
   "metadata": {},
   "outputs": [
    {
     "name": "stdout",
     "output_type": "stream",
     "text": [
      "Enter tempreture: 37\n",
      "Temprature is Ferenhit: 98.6 ℉\n"
     ]
    }
   ],
   "source": [
    "temp=cel_to_fer()\n",
    "print('Temprature is Ferenhit:',temp,'℉')"
   ]
  },
  {
   "cell_type": "code",
   "execution_count": 64,
   "metadata": {},
   "outputs": [
    {
     "name": "stdout",
     "output_type": "stream",
     "text": [
      "Temprature is Celcius: 37.0 ℃\n"
     ]
    }
   ],
   "source": [
    "fer_to_cel(98.6)"
   ]
  },
  {
   "cell_type": "code",
   "execution_count": null,
   "metadata": {},
   "outputs": [],
   "source": [
    "# Variable Scope and Lifetime:\n",
    "## Variable defined inside a function has a local scope and is accessible only within the function\n",
    "## Local variables are created when the function is called are they are destroyed when the function ends - This is the\n",
    "## lifetime of a variable inside a function\n"
   ]
  },
  {
   "cell_type": "code",
   "execution_count": 67,
   "metadata": {},
   "outputs": [
    {
     "data": {
      "text/plain": [
       "90"
      ]
     },
     "execution_count": 67,
     "metadata": {},
     "output_type": "execute_result"
    }
   ],
   "source": [
    "x=90\n",
    "def printx():\n",
    "    x=5\n",
    "    return x\n",
    "printx()"
   ]
  },
  {
   "cell_type": "code",
   "execution_count": null,
   "metadata": {},
   "outputs": [],
   "source": [
    "#Types of Arguments\n",
    "#1.) Default Parameter\n",
    "def square(s:float=10)->float:\n",
    "    return s*s"
   ]
  },
  {
   "cell_type": "code",
   "execution_count": 74,
   "metadata": {},
   "outputs": [
    {
     "name": "stdout",
     "output_type": "stream",
     "text": [
      "100\n"
     ]
    }
   ],
   "source": [
    "print(square())"
   ]
  },
  {
   "cell_type": "code",
   "execution_count": 72,
   "metadata": {},
   "outputs": [
    {
     "name": "stdout",
     "output_type": "stream",
     "text": [
      "400\n"
     ]
    }
   ],
   "source": [
    "print(square(20))"
   ]
  },
  {
   "cell_type": "code",
   "execution_count": 73,
   "metadata": {},
   "outputs": [
    {
     "name": "stdout",
     "output_type": "stream",
     "text": [
      "a\n"
     ]
    }
   ],
   "source": [
    "print('a')"
   ]
  },
  {
   "cell_type": "code",
   "execution_count": 79,
   "metadata": {},
   "outputs": [],
   "source": [
    "#2.)Positional Parameters\n",
    "def power(a,b):\n",
    "    return a**b"
   ]
  },
  {
   "cell_type": "code",
   "execution_count": 80,
   "metadata": {},
   "outputs": [
    {
     "name": "stdout",
     "output_type": "stream",
     "text": [
      "9\n"
     ]
    }
   ],
   "source": [
    "print(power(3,2))"
   ]
  },
  {
   "cell_type": "code",
   "execution_count": 81,
   "metadata": {},
   "outputs": [
    {
     "name": "stdout",
     "output_type": "stream",
     "text": [
      "8\n",
      "9\n",
      "9\n"
     ]
    }
   ],
   "source": [
    "#3.)Keyword Parameters\n",
    "print(power(2,3))\n",
    "print(power(3,2))\n",
    "print(power(b=2,a=3))"
   ]
  },
  {
   "cell_type": "code",
   "execution_count": 82,
   "metadata": {},
   "outputs": [],
   "source": [
    "def wish(name:str,msg:str)->None:\n",
    "    print('hello',name,msg)"
   ]
  },
  {
   "cell_type": "code",
   "execution_count": 84,
   "metadata": {},
   "outputs": [
    {
     "ename": "TypeError",
     "evalue": "wish() missing 2 required positional arguments: 'name' and 'msg'",
     "output_type": "error",
     "traceback": [
      "\u001b[1;31m---------------------------------------------------------------------------\u001b[0m",
      "\u001b[1;31mTypeError\u001b[0m                                 Traceback (most recent call last)",
      "\u001b[1;32m<ipython-input-84-c0e1380c0921>\u001b[0m in \u001b[0;36m<module>\u001b[1;34m\u001b[0m\n\u001b[1;32m----> 1\u001b[1;33m \u001b[0mwish\u001b[0m\u001b[1;33m(\u001b[0m\u001b[1;33m)\u001b[0m\u001b[1;33m\u001b[0m\u001b[1;33m\u001b[0m\u001b[0m\n\u001b[0m",
      "\u001b[1;31mTypeError\u001b[0m: wish() missing 2 required positional arguments: 'name' and 'msg'"
     ]
    }
   ],
   "source": [
    "wish()"
   ]
  },
  {
   "cell_type": "code",
   "execution_count": 85,
   "metadata": {},
   "outputs": [
    {
     "ename": "TypeError",
     "evalue": "wish() missing 1 required positional argument: 'msg'",
     "output_type": "error",
     "traceback": [
      "\u001b[1;31m---------------------------------------------------------------------------\u001b[0m",
      "\u001b[1;31mTypeError\u001b[0m                                 Traceback (most recent call last)",
      "\u001b[1;32m<ipython-input-85-829cba6b7cbc>\u001b[0m in \u001b[0;36m<module>\u001b[1;34m\u001b[0m\n\u001b[1;32m----> 1\u001b[1;33m \u001b[0mwish\u001b[0m\u001b[1;33m(\u001b[0m\u001b[0mname\u001b[0m\u001b[1;33m=\u001b[0m\u001b[1;34m'Jay'\u001b[0m\u001b[1;33m)\u001b[0m\u001b[1;33m\u001b[0m\u001b[1;33m\u001b[0m\u001b[0m\n\u001b[0m",
      "\u001b[1;31mTypeError\u001b[0m: wish() missing 1 required positional argument: 'msg'"
     ]
    }
   ],
   "source": [
    "wish(name='Jay')"
   ]
  },
  {
   "cell_type": "code",
   "execution_count": 86,
   "metadata": {},
   "outputs": [
    {
     "name": "stdout",
     "output_type": "stream",
     "text": [
      "hello Python Hi\n"
     ]
    }
   ],
   "source": [
    "wish(name='Python',msg='Hi')"
   ]
  },
  {
   "cell_type": "code",
   "execution_count": 87,
   "metadata": {},
   "outputs": [
    {
     "name": "stdout",
     "output_type": "stream",
     "text": [
      "hello Java hi\n"
     ]
    }
   ],
   "source": [
    "wish(msg='hi',name='Java')"
   ]
  },
  {
   "cell_type": "code",
   "execution_count": 89,
   "metadata": {},
   "outputs": [
    {
     "name": "stdout",
     "output_type": "stream",
     "text": [
      "hello C++ Good Morning\n"
     ]
    }
   ],
   "source": [
    "wish('C++','Good Morning')"
   ]
  },
  {
   "cell_type": "code",
   "execution_count": 91,
   "metadata": {},
   "outputs": [
    {
     "ename": "SyntaxError",
     "evalue": "positional argument follows keyword argument (<ipython-input-91-53808a7acf77>, line 1)",
     "output_type": "error",
     "traceback": [
      "\u001b[1;36m  File \u001b[1;32m\"<ipython-input-91-53808a7acf77>\"\u001b[1;36m, line \u001b[1;32m1\u001b[0m\n\u001b[1;33m    wish(name='C','Good morning')\u001b[0m\n\u001b[1;37m                  ^\u001b[0m\n\u001b[1;31mSyntaxError\u001b[0m\u001b[1;31m:\u001b[0m positional argument follows keyword argument\n"
     ]
    }
   ],
   "source": [
    "wish(name='C','Good morning')#Error - Positional argument follows keyword argument"
   ]
  },
  {
   "cell_type": "code",
   "execution_count": 92,
   "metadata": {},
   "outputs": [
    {
     "name": "stdout",
     "output_type": "stream",
     "text": [
      "hello C Good Night\n"
     ]
    }
   ],
   "source": [
    "wish('C',msg='Good Night')#NoError - Keyword argument follows Positional Arguments "
   ]
  },
  {
   "cell_type": "code",
   "execution_count": 93,
   "metadata": {},
   "outputs": [
    {
     "name": "stdout",
     "output_type": "stream",
     "text": [
      "Variable       Type        Data/Info\n",
      "------------------------------------\n",
      "a              int         7\n",
      "b              int         12\n",
      "c              int         -1\n",
      "calc           function    <function calc at 0x000001A817F00D30>\n",
      "cel_to_fer     function    <function cel_to_fer at 0x000001A817F00AF0>\n",
      "current_time   str         8 AM\n",
      "fer_to_cel     function    <function fer_to_cel at 0x000001A817F004C0>\n",
      "ft             int         9\n",
      "ft_time        str         PM\n",
      "greet          function    <function greet at 0x000001A817EE4430>\n",
      "hour           int         8\n",
      "inc            int         37\n",
      "math           module      <module 'math' (built-in)>\n",
      "power          function    <function power at 0x000001A817EE4E50>\n",
      "printline      function    <function printline at 0x000001A817EE4700>\n",
      "printx         function    <function printx at 0x000001A817F009D0>\n",
      "square         function    <function square at 0x000001A817F003A0>\n",
      "temp           float       98.6\n",
      "time           str         AM\n",
      "wish           function    <function wish at 0x000001A817EE4D30>\n",
      "x              int         90\n"
     ]
    }
   ],
   "source": [
    "whos"
   ]
  },
  {
   "cell_type": "code",
   "execution_count": 103,
   "metadata": {},
   "outputs": [],
   "source": [
    "#4.)Variable Length\n",
    "def add(*args)->int:\n",
    "#     print(type(args))\n",
    "    return sum(args)"
   ]
  },
  {
   "cell_type": "code",
   "execution_count": 104,
   "metadata": {},
   "outputs": [
    {
     "name": "stdout",
     "output_type": "stream",
     "text": [
      "55\n"
     ]
    }
   ],
   "source": [
    "print(add(1,2,3,4,5,6,7,8,9,10))"
   ]
  },
  {
   "cell_type": "code",
   "execution_count": 115,
   "metadata": {},
   "outputs": [],
   "source": [
    "#global keyword\n",
    "x=90\n",
    "def func(a):\n",
    "    global x\n",
    "    x=5\n",
    "    return x*a"
   ]
  },
  {
   "cell_type": "code",
   "execution_count": 116,
   "metadata": {},
   "outputs": [
    {
     "name": "stdout",
     "output_type": "stream",
     "text": [
      "25\n"
     ]
    }
   ],
   "source": [
    "print(func(5))"
   ]
  },
  {
   "cell_type": "code",
   "execution_count": 117,
   "metadata": {},
   "outputs": [
    {
     "name": "stdout",
     "output_type": "stream",
     "text": [
      "5\n"
     ]
    }
   ],
   "source": [
    "print(x)"
   ]
  },
  {
   "cell_type": "code",
   "execution_count": 118,
   "metadata": {},
   "outputs": [],
   "source": [
    "#Order of Arguments in Function Definition\n",
    "#1.)Positional Arguments:-\n",
    "#    They must be provided in order before any keyword argument\n",
    "#2.)Keyword Arguments:-\n",
    "#    Can be provided in any order after positional arguments\n",
    "#3.)Default Arguments:-\n",
    "#    Must appear after non-default arguments\n",
    "#4.)Variable Length Arguments:-\n",
    "#    *args - collects additional positional arguments"
   ]
  },
  {
   "cell_type": "code",
   "execution_count": 119,
   "metadata": {},
   "outputs": [],
   "source": [
    "#WAP to check if a given number is perfect square or not\n",
    "def check_perfect_square(n):\n",
    "    return int(n**(1/2))==n**(1/2)"
   ]
  },
  {
   "cell_type": "code",
   "execution_count": 127,
   "metadata": {},
   "outputs": [
    {
     "name": "stdout",
     "output_type": "stream",
     "text": [
      "True\n"
     ]
    }
   ],
   "source": [
    "print(check_perfect_square(25))"
   ]
  },
  {
   "cell_type": "code",
   "execution_count": 132,
   "metadata": {},
   "outputs": [
    {
     "name": "stdout",
     "output_type": "stream",
     "text": [
      "2520\n"
     ]
    }
   ],
   "source": [
    "#WAP to find the smallest positive number divisible by numbers 1 to 10\n",
    "for i in range(1,100000):\n",
    "    j=1\n",
    "    while j<=10:\n",
    "        if i%j!=0:break\n",
    "        j+=1\n",
    "    else:\n",
    "        print(i)\n",
    "        break"
   ]
  },
  {
   "cell_type": "code",
   "execution_count": null,
   "metadata": {},
   "outputs": [],
   "source": [
    "#WAP HAPPY Number: - If you starts with a positive integer replace the number by the sum of the square of digits and\n",
    "#repeat the process untill the number=1 or it loops endlessly in a cycle\n",
    "def check_happy_number(n:int)->bool:\n",
    "    sum=n\n",
    "    ans=0\n",
    "    count=0\n",
    "    while sum!=1:\n",
    "        count+=1\n",
    "        ans=sum  \n",
    "        sum=0\n",
    "#         print(ans)\n",
    "        while ans>0:\n",
    "            sum+=((ans%10)**2)\n",
    "            ans//=10\n",
    "        if count>500:return False\n",
    "    else:return sum==1"
   ]
  },
  {
   "cell_type": "code",
   "execution_count": 25,
   "metadata": {},
   "outputs": [
    {
     "name": "stdout",
     "output_type": "stream",
     "text": [
      "2\n",
      "6\n",
      "12\n",
      "20\n",
      "30\n",
      "42\n",
      "56\n",
      "72\n",
      "90\n"
     ]
    }
   ],
   "source": [
    "#WAP to find Pronic Numbers\n",
    "i=1\n",
    "while i*(i+1)<=100:\n",
    "    print(i*(i+1))\n",
    "    i+=1"
   ]
  },
  {
   "cell_type": "code",
   "execution_count": 36,
   "metadata": {},
   "outputs": [
    {
     "name": "stdout",
     "output_type": "stream",
     "text": [
      "Enter a number: 7\n",
      "111117\n",
      "111171\n",
      "111711\n",
      "117111\n",
      "171111\n",
      "711111\n"
     ]
    }
   ],
   "source": [
    "#WAP that enters single digit integer and produces all possible 6 digit combinations for which the product of that digits\n",
    "#is equals to the number\n",
    "n=int(input('Enter a number: '))\n",
    "for i in range(111111,1000000):\n",
    "    mul=1\n",
    "    temp=i\n",
    "    while temp>0:\n",
    "        mul*=(temp%10)\n",
    "        temp//=10\n",
    "    if mul==n:print(i)"
   ]
  },
  {
   "cell_type": "code",
   "execution_count": 41,
   "metadata": {},
   "outputs": [
    {
     "name": "stdout",
     "output_type": "stream",
     "text": [
      "Enter Number: 5\n",
      "No.of steps: 4\n"
     ]
    }
   ],
   "source": [
    "#Given an integer number written the number of steps to reduced it to 0 if the current number is even you dividing by 2 \n",
    "#otherwise subtract it by 1\n",
    "n=int(input('Enter Number: '))\n",
    "count=0\n",
    "i=n\n",
    "while i!=0:\n",
    "    if i%2==0:i//=2\n",
    "    else:i-=1\n",
    "    count+=1\n",
    "else:\n",
    "    print('No.of steps:',count)"
   ]
  },
  {
   "cell_type": "code",
   "execution_count": 42,
   "metadata": {},
   "outputs": [],
   "source": [
    "#Collatz Conjecture:- A collatz sequence is generated by applying follo.rules in turns\n",
    "#If even -divide by 2\n",
    "#If odd - multiply by 3 and add 1\n",
    "#The algorithm says that it always reaches 1 for all positive intgeres\n",
    "#Create a function for two positive intgeres a and b and returns a if integer a took fewer steps to reach 1 than b\n",
    "def collatz_conjecture(n):\n",
    "    i=n\n",
    "    count=0\n",
    "    while i!=1:\n",
    "        if i%2==0:i//=2\n",
    "        else:\n",
    "            i*=3\n",
    "            i+=1\n",
    "        count+=1\n",
    "    else:\n",
    "        return count\n",
    "\n",
    "def check_collatz_conjecture(a,b):\n",
    "    count1=collatz_conjecture(a)\n",
    "    count2=collatz_conjecture(b)\n",
    "    if count1<count2:return a\n",
    "    else:return b"
   ]
  },
  {
   "cell_type": "code",
   "execution_count": 44,
   "metadata": {},
   "outputs": [
    {
     "name": "stdout",
     "output_type": "stream",
     "text": [
      "10\n"
     ]
    }
   ],
   "source": [
    "print(check_collatz_conjecture(6,10))"
   ]
  },
  {
   "cell_type": "code",
   "execution_count": 50,
   "metadata": {},
   "outputs": [
    {
     "name": "stdout",
     "output_type": "stream",
     "text": [
      "19\n",
      "29\n",
      "39\n",
      "49\n",
      "59\n",
      "69\n",
      "79\n",
      "89\n",
      "99\n"
     ]
    }
   ],
   "source": [
    "for i in range(1,10000):\n",
    "    temp=i\n",
    "    sum=0\n",
    "    mul=1\n",
    "    while temp>0:\n",
    "        sum+=temp%10\n",
    "        mul*=temp%10\n",
    "        temp//=10\n",
    "    if sum+mul==i:print(i)"
   ]
  },
  {
   "cell_type": "code",
   "execution_count": 59,
   "metadata": {},
   "outputs": [
    {
     "name": "stdout",
     "output_type": "stream",
     "text": [
      "1\n",
      "8\n",
      "11\n",
      "69\n",
      "88\n",
      "96\n",
      "101\n",
      "111\n",
      "181\n",
      "609\n",
      "619\n",
      "689\n",
      "808\n",
      "818\n",
      "888\n",
      "906\n",
      "916\n",
      "986\n",
      "1001\n",
      "1111\n",
      "1691\n",
      "1881\n",
      "1961\n",
      "6009\n",
      "6119\n",
      "6699\n",
      "6889\n",
      "6969\n",
      "8008\n",
      "8118\n",
      "8698\n",
      "8888\n",
      "8968\n",
      "9006\n",
      "9116\n",
      "9696\n",
      "9886\n",
      "9966\n",
      "10001\n",
      "10101\n",
      "10801\n",
      "11011\n",
      "11111\n",
      "11811\n",
      "16091\n",
      "16191\n",
      "16891\n",
      "18081\n",
      "18181\n",
      "18881\n",
      "19061\n",
      "19161\n",
      "19861\n",
      "60009\n",
      "60109\n",
      "60809\n",
      "61019\n",
      "61119\n",
      "61819\n",
      "66099\n",
      "66199\n",
      "66899\n",
      "68089\n",
      "68189\n",
      "68889\n",
      "69069\n",
      "69169\n",
      "69869\n",
      "80008\n",
      "80108\n",
      "80808\n",
      "81018\n",
      "81118\n",
      "81818\n",
      "86098\n",
      "86198\n",
      "86898\n",
      "88088\n",
      "88188\n",
      "88888\n",
      "89068\n",
      "89168\n",
      "89868\n",
      "90006\n",
      "90106\n",
      "90806\n",
      "91016\n",
      "91116\n",
      "91816\n",
      "96096\n",
      "96196\n",
      "96896\n",
      "98086\n",
      "98186\n",
      "98886\n",
      "99066\n",
      "99166\n",
      "99866\n"
     ]
    }
   ],
   "source": [
    "for i in range(1,100001):\n",
    "    temp=i\n",
    "    rev=0\n",
    "    while temp>0:\n",
    "        r=temp%10\n",
    "        if r==2 or r==3 or r==4 or r==5 or r==7:break\n",
    "        if r==9:r=6\n",
    "        elif r==6:r=9\n",
    "        rev=rev*10+r\n",
    "        temp//=10\n",
    "    else: \n",
    "        if rev==i:print(i)"
   ]
  },
  {
   "cell_type": "code",
   "execution_count": null,
   "metadata": {},
   "outputs": [],
   "source": [
    "n = 5  # size\n",
    "\n",
    "# array with zero fill\n",
    "arr = [[0 for x in range(n)] for x in range(n)]\n",
    "\n",
    "x=0\n",
    "y=0\n",
    "z=1\n",
    "\n",
    "for ot in range((n // 2)+1):\n",
    "    if ot == n // 2:\n",
    "        z -= 1\n",
    "\n",
    "    for j in range(y, n - y):\n",
    "        arr[x][j] = z\n",
    "        z += 1\n",
    "\n",
    "    for i in range(x + 1, n - x - 1):\n",
    "        arr[i][n - y - 1] = z\n",
    "        z += 1\n",
    "\n",
    "    for j in range(n - y - 1, y-1,-1):\n",
    "        arr[n - x - 1][j] = z\n",
    "        z += 1\n",
    "\n",
    "    for i in range(n-x-2,x,-1):\n",
    "        arr[i][y] = z\n",
    "        z += 1\n",
    "\n",
    "    x+=1\n",
    "    y+=1\n",
    "\n",
    "for a in range(n):\n",
    "    for b in range(n):\n",
    "        print(\"{:02d} \".format(arr[a][b]), end=\"\")\n",
    "    print()"
   ]
  },
  {
   "cell_type": "code",
   "execution_count": null,
   "metadata": {},
   "outputs": [],
   "source": []
  }
 ],
 "metadata": {
  "kernelspec": {
   "display_name": "Python 3",
   "language": "python",
   "name": "python3"
  },
  "language_info": {
   "codemirror_mode": {
    "name": "ipython",
    "version": 3
   },
   "file_extension": ".py",
   "mimetype": "text/x-python",
   "name": "python",
   "nbconvert_exporter": "python",
   "pygments_lexer": "ipython3",
   "version": "3.8.5"
  }
 },
 "nbformat": 4,
 "nbformat_minor": 4
}
