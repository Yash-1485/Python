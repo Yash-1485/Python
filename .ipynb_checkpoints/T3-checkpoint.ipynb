{
 "cells": [
  {
   "cell_type": "code",
   "execution_count": 1,
   "id": "fd6feffe-e690-41ae-b53a-596cb93f6da5",
   "metadata": {},
   "outputs": [
    {
     "name": "stdout",
     "output_type": "stream",
     "text": [
      "Hello World!\n"
     ]
    }
   ],
   "source": [
    "print('Hello World!')"
   ]
  },
  {
   "cell_type": "code",
   "execution_count": 9,
   "id": "92220ffb-5853-4518-a374-357b33b32cfe",
   "metadata": {},
   "outputs": [],
   "source": [
    "def func(st:str,*args)->int:\n",
    "    print(str(st))"
   ]
  },
  {
   "cell_type": "code",
   "execution_count": 11,
   "id": "d5a463a1-48f3-44bc-aa79-f0de2e4ce352",
   "metadata": {},
   "outputs": [
    {
     "name": "stdout",
     "output_type": "stream",
     "text": [
      "Hello\n"
     ]
    }
   ],
   "source": [
    "func('Hello')"
   ]
  },
  {
   "cell_type": "code",
   "execution_count": 13,
   "id": "519c0748-25a3-4063-a488-eb5951749fc0",
   "metadata": {},
   "outputs": [
    {
     "data": {
      "text/plain": [
       "'HELLO'"
      ]
     },
     "execution_count": 13,
     "metadata": {},
     "output_type": "execute_result"
    }
   ],
   "source": [
    "'hello'.upper()"
   ]
  },
  {
   "cell_type": "code",
   "execution_count": 17,
   "id": "817ed05b-0483-46ad-9882-fe4ee5a32ac9",
   "metadata": {},
   "outputs": [
    {
     "ename": "AttributeError",
     "evalue": "'int' object has no attribute 'upper'",
     "output_type": "error",
     "traceback": [
      "\u001b[1;31m---------------------------------------------------------------------------\u001b[0m",
      "\u001b[1;31mAttributeError\u001b[0m                            Traceback (most recent call last)",
      "Cell \u001b[1;32mIn[17], line 2\u001b[0m\n\u001b[0;32m      1\u001b[0m a\u001b[38;5;241m=\u001b[39m\u001b[38;5;241m1\u001b[39m\n\u001b[1;32m----> 2\u001b[0m \u001b[43ma\u001b[49m\u001b[38;5;241;43m.\u001b[39;49m\u001b[43mupper\u001b[49m()\n",
      "\u001b[1;31mAttributeError\u001b[0m: 'int' object has no attribute 'upper'"
     ]
    }
   ],
   "source": [
    "a=1\n",
    "a.upper()"
   ]
  },
  {
   "cell_type": "code",
   "execution_count": 19,
   "id": "1774f08a-4f8d-4bce-a212-e040db3597d4",
   "metadata": {},
   "outputs": [
    {
     "ename": "ImportError",
     "evalue": "cannot import name 'list' from 'math' (unknown location)",
     "output_type": "error",
     "traceback": [
      "\u001b[1;31m---------------------------------------------------------------------------\u001b[0m",
      "\u001b[1;31mImportError\u001b[0m                               Traceback (most recent call last)",
      "Cell \u001b[1;32mIn[19], line 1\u001b[0m\n\u001b[1;32m----> 1\u001b[0m \u001b[38;5;28;01mfrom\u001b[39;00m \u001b[38;5;21;01mmath\u001b[39;00m \u001b[38;5;28;01mimport\u001b[39;00m \u001b[38;5;28mlist\u001b[39m\n",
      "\u001b[1;31mImportError\u001b[0m: cannot import name 'list' from 'math' (unknown location)"
     ]
    }
   ],
   "source": [
    "from math import list"
   ]
  },
  {
   "cell_type": "code",
   "execution_count": 21,
   "id": "2b57be50-1553-4a32-9318-dde2f6cbf5f1",
   "metadata": {},
   "outputs": [
    {
     "ename": "ModuleNotFoundError",
     "evalue": "No module named 'abcd'",
     "output_type": "error",
     "traceback": [
      "\u001b[1;31m---------------------------------------------------------------------------\u001b[0m",
      "\u001b[1;31mModuleNotFoundError\u001b[0m                       Traceback (most recent call last)",
      "Cell \u001b[1;32mIn[21], line 1\u001b[0m\n\u001b[1;32m----> 1\u001b[0m \u001b[38;5;28;01mfrom\u001b[39;00m \u001b[38;5;21;01mabcd\u001b[39;00m \u001b[38;5;28;01mimport\u001b[39;00m abc\n",
      "\u001b[1;31mModuleNotFoundError\u001b[0m: No module named 'abcd'"
     ]
    }
   ],
   "source": [
    "from abcd import abc"
   ]
  },
  {
   "cell_type": "code",
   "execution_count": 23,
   "id": "dd1937e9-e449-4883-9ba6-e0e865a8142f",
   "metadata": {},
   "outputs": [],
   "source": [
    "class Bike:\n",
    "    pass"
   ]
  },
  {
   "cell_type": "code",
   "execution_count": 25,
   "id": "869e1572-327c-4f59-a50b-653e753f7a85",
   "metadata": {},
   "outputs": [
    {
     "ename": "AttributeError",
     "evalue": "'Bike' object has no attribute 'ride'",
     "output_type": "error",
     "traceback": [
      "\u001b[1;31m---------------------------------------------------------------------------\u001b[0m",
      "\u001b[1;31mAttributeError\u001b[0m                            Traceback (most recent call last)",
      "Cell \u001b[1;32mIn[25], line 2\u001b[0m\n\u001b[0;32m      1\u001b[0m b\u001b[38;5;241m=\u001b[39mBike()\n\u001b[1;32m----> 2\u001b[0m \u001b[43mb\u001b[49m\u001b[38;5;241;43m.\u001b[39;49m\u001b[43mride\u001b[49m()\n",
      "\u001b[1;31mAttributeError\u001b[0m: 'Bike' object has no attribute 'ride'"
     ]
    }
   ],
   "source": [
    "b=Bike()\n",
    "b.ride()"
   ]
  },
  {
   "cell_type": "code",
   "execution_count": 33,
   "id": "29ed28b7-516b-4ed6-a326-a1d6d62e92df",
   "metadata": {},
   "outputs": [
    {
     "name": "stdout",
     "output_type": "stream",
     "text": [
      "1.0\n"
     ]
    }
   ],
   "source": [
    "sum=0\n",
    "for i in range(10):sum+=0.1\n",
    "print(round(sum,2))"
   ]
  },
  {
   "cell_type": "code",
   "execution_count": 43,
   "id": "4df03176-35bf-4120-adae-e33df0612359",
   "metadata": {},
   "outputs": [
    {
     "name": "stdout",
     "output_type": "stream",
     "text": [
      "Hello\n"
     ]
    }
   ],
   "source": [
    "try:\n",
    "    a=1/0\n",
    "except:\n",
    "    print('Hello')"
   ]
  },
  {
   "cell_type": "code",
   "execution_count": 47,
   "id": "9f7fcdf9-c62b-4ad7-bb2a-bfa22336e24c",
   "metadata": {},
   "outputs": [
    {
     "ename": "SyntaxError",
     "evalue": "incomplete input (624768888.py, line 2)",
     "output_type": "error",
     "traceback": [
      "\u001b[1;36m  Cell \u001b[1;32mIn[47], line 2\u001b[1;36m\u001b[0m\n\u001b[1;33m    ip=input()\u001b[0m\n\u001b[1;37m              ^\u001b[0m\n\u001b[1;31mSyntaxError\u001b[0m\u001b[1;31m:\u001b[0m incomplete input\n"
     ]
    }
   ],
   "source": [
    "try:\n",
    "    ip=input()"
   ]
  },
  {
   "cell_type": "code",
   "execution_count": 53,
   "id": "304ad60a-745d-4941-8416-d4f8d958e563",
   "metadata": {},
   "outputs": [
    {
     "ename": "NameError",
     "evalue": "name 'ZroDivisionError' is not defined",
     "output_type": "error",
     "traceback": [
      "\u001b[1;31m---------------------------------------------------------------------------\u001b[0m",
      "\u001b[1;31mNameError\u001b[0m                                 Traceback (most recent call last)",
      "Cell \u001b[1;32mIn[53], line 1\u001b[0m\n\u001b[1;32m----> 1\u001b[0m \u001b[38;5;28;01mraise\u001b[39;00m \u001b[43mZroDivisionError\u001b[49m()\n",
      "\u001b[1;31mNameError\u001b[0m: name 'ZroDivisionError' is not defined"
     ]
    }
   ],
   "source": [
    "raise ZroDivisionError()"
   ]
  },
  {
   "cell_type": "code",
   "execution_count": 59,
   "id": "7bee7b89-f907-4eb9-9eb8-e665a2d4c48a",
   "metadata": {},
   "outputs": [
    {
     "ename": "AssertionError",
     "evalue": "Error",
     "output_type": "error",
     "traceback": [
      "\u001b[1;31m---------------------------------------------------------------------------\u001b[0m",
      "\u001b[1;31mAssertionError\u001b[0m                            Traceback (most recent call last)",
      "Cell \u001b[1;32mIn[59], line 2\u001b[0m\n\u001b[0;32m      1\u001b[0m n\u001b[38;5;241m=\u001b[39m\u001b[38;5;241m-\u001b[39m\u001b[38;5;241m1\u001b[39m\n\u001b[1;32m----> 2\u001b[0m \u001b[38;5;28;01massert\u001b[39;00m n\u001b[38;5;241m>\u001b[39m\u001b[38;5;241m1\u001b[39m,\u001b[38;5;167;01mException\u001b[39;00m(\u001b[38;5;124m'\u001b[39m\u001b[38;5;124mError\u001b[39m\u001b[38;5;124m'\u001b[39m)\n",
      "\u001b[1;31mAssertionError\u001b[0m: Error"
     ]
    }
   ],
   "source": [
    "n=-1\n",
    "assert n>1,Exception('Error')"
   ]
  },
  {
   "cell_type": "code",
   "execution_count": 65,
   "id": "564c5a6e-65d9-4e78-91f8-4ad2d6a55a95",
   "metadata": {},
   "outputs": [
    {
     "name": "stdout",
     "output_type": "stream",
     "text": [
      "True\n"
     ]
    }
   ],
   "source": [
    "a=1\n",
    "b=int('1')\n",
    "print(a is b)"
   ]
  },
  {
   "cell_type": "code",
   "execution_count": 67,
   "id": "8f93abf4-4be0-43a0-b52c-6f06bdc259b7",
   "metadata": {},
   "outputs": [
    {
     "name": "stdout",
     "output_type": "stream",
     "text": [
      "False\n"
     ]
    }
   ],
   "source": [
    "p=SyntaxError()\n",
    "q=SyntaxError()\n",
    "print(p is q)"
   ]
  },
  {
   "cell_type": "code",
   "execution_count": 69,
   "id": "6e895f57-10fa-4b16-a898-1f828415c256",
   "metadata": {},
   "outputs": [
    {
     "name": "stdout",
     "output_type": "stream",
     "text": [
      "Object `is` not found.\n"
     ]
    }
   ],
   "source": [
    "is??"
   ]
  },
  {
   "cell_type": "code",
   "execution_count": 3,
   "id": "6138b06a-a8fe-46f9-ba75-d199dbaaf64e",
   "metadata": {},
   "outputs": [
    {
     "data": {
      "text/plain": [
       "3000"
      ]
     },
     "execution_count": 3,
     "metadata": {},
     "output_type": "execute_result"
    }
   ],
   "source": [
    "import sys\n",
    "sys.getrecursionlimit()"
   ]
  },
  {
   "cell_type": "code",
   "execution_count": 5,
   "id": "b6ca7fea-3b62-45c2-a921-eb19a45a7d4a",
   "metadata": {},
   "outputs": [],
   "source": [
    "def qnum(n,file):\n",
    "    file.write(\"-------------------------------------------------------------------------\")\n",
    "    file.write(f\"----------------------------------{str(n)}----------------------------------\")\n",
    "    file.write(\"-------------------------------------------------------------------------\")"
   ]
  },
  {
   "cell_type": "code",
   "execution_count": 13,
   "id": "e328899f-6b77-44bd-a6c9-fac942a50e38",
   "metadata": {},
   "outputs": [
    {
     "data": {
      "text/plain": [
       "\u001b[1;31mSignature:\u001b[0m\n",
       "\u001b[0mopen\u001b[0m\u001b[1;33m(\u001b[0m\u001b[1;33m\n",
       "\u001b[0m    \u001b[0mfile\u001b[0m\u001b[1;33m,\u001b[0m\u001b[1;33m\n",
       "\u001b[0m    \u001b[0mmode\u001b[0m\u001b[1;33m=\u001b[0m\u001b[1;34m'r'\u001b[0m\u001b[1;33m,\u001b[0m\u001b[1;33m\n",
       "\u001b[0m    \u001b[0mbuffering\u001b[0m\u001b[1;33m=\u001b[0m\u001b[1;33m-\u001b[0m\u001b[1;36m1\u001b[0m\u001b[1;33m,\u001b[0m\u001b[1;33m\n",
       "\u001b[0m    \u001b[0mencoding\u001b[0m\u001b[1;33m=\u001b[0m\u001b[1;32mNone\u001b[0m\u001b[1;33m,\u001b[0m\u001b[1;33m\n",
       "\u001b[0m    \u001b[0merrors\u001b[0m\u001b[1;33m=\u001b[0m\u001b[1;32mNone\u001b[0m\u001b[1;33m,\u001b[0m\u001b[1;33m\n",
       "\u001b[0m    \u001b[0mnewline\u001b[0m\u001b[1;33m=\u001b[0m\u001b[1;32mNone\u001b[0m\u001b[1;33m,\u001b[0m\u001b[1;33m\n",
       "\u001b[0m    \u001b[0mclosefd\u001b[0m\u001b[1;33m=\u001b[0m\u001b[1;32mTrue\u001b[0m\u001b[1;33m,\u001b[0m\u001b[1;33m\n",
       "\u001b[0m    \u001b[0mopener\u001b[0m\u001b[1;33m=\u001b[0m\u001b[1;32mNone\u001b[0m\u001b[1;33m,\u001b[0m\u001b[1;33m\n",
       "\u001b[0m\u001b[1;33m)\u001b[0m\u001b[1;33m\u001b[0m\u001b[1;33m\u001b[0m\u001b[0m\n",
       "\u001b[1;31mDocstring:\u001b[0m\n",
       "Open file and return a stream.  Raise OSError upon failure.\n",
       "\n",
       "file is either a text or byte string giving the name (and the path\n",
       "if the file isn't in the current working directory) of the file to\n",
       "be opened or an integer file descriptor of the file to be\n",
       "wrapped. (If a file descriptor is given, it is closed when the\n",
       "returned I/O object is closed, unless closefd is set to False.)\n",
       "\n",
       "mode is an optional string that specifies the mode in which the file\n",
       "is opened. It defaults to 'r' which means open for reading in text\n",
       "mode.  Other common values are 'w' for writing (truncating the file if\n",
       "it already exists), 'x' for creating and writing to a new file, and\n",
       "'a' for appending (which on some Unix systems, means that all writes\n",
       "append to the end of the file regardless of the current seek position).\n",
       "In text mode, if encoding is not specified the encoding used is platform\n",
       "dependent: locale.getencoding() is called to get the current locale encoding.\n",
       "(For reading and writing raw bytes use binary mode and leave encoding\n",
       "unspecified.) The available modes are:\n",
       "\n",
       "========= ===============================================================\n",
       "Character Meaning\n",
       "--------- ---------------------------------------------------------------\n",
       "'r'       open for reading (default)\n",
       "'w'       open for writing, truncating the file first\n",
       "'x'       create a new file and open it for writing\n",
       "'a'       open for writing, appending to the end of the file if it exists\n",
       "'b'       binary mode\n",
       "'t'       text mode (default)\n",
       "'+'       open a disk file for updating (reading and writing)\n",
       "========= ===============================================================\n",
       "\n",
       "The default mode is 'rt' (open for reading text). For binary random\n",
       "access, the mode 'w+b' opens and truncates the file to 0 bytes, while\n",
       "'r+b' opens the file without truncation. The 'x' mode implies 'w' and\n",
       "raises an `FileExistsError` if the file already exists.\n",
       "\n",
       "Python distinguishes between files opened in binary and text modes,\n",
       "even when the underlying operating system doesn't. Files opened in\n",
       "binary mode (appending 'b' to the mode argument) return contents as\n",
       "bytes objects without any decoding. In text mode (the default, or when\n",
       "'t' is appended to the mode argument), the contents of the file are\n",
       "returned as strings, the bytes having been first decoded using a\n",
       "platform-dependent encoding or using the specified encoding if given.\n",
       "\n",
       "buffering is an optional integer used to set the buffering policy.\n",
       "Pass 0 to switch buffering off (only allowed in binary mode), 1 to select\n",
       "line buffering (only usable in text mode), and an integer > 1 to indicate\n",
       "the size of a fixed-size chunk buffer.  When no buffering argument is\n",
       "given, the default buffering policy works as follows:\n",
       "\n",
       "* Binary files are buffered in fixed-size chunks; the size of the buffer\n",
       "  is chosen using a heuristic trying to determine the underlying device's\n",
       "  \"block size\" and falling back on `io.DEFAULT_BUFFER_SIZE`.\n",
       "  On many systems, the buffer will typically be 4096 or 8192 bytes long.\n",
       "\n",
       "* \"Interactive\" text files (files for which isatty() returns True)\n",
       "  use line buffering.  Other text files use the policy described above\n",
       "  for binary files.\n",
       "\n",
       "encoding is the name of the encoding used to decode or encode the\n",
       "file. This should only be used in text mode. The default encoding is\n",
       "platform dependent, but any encoding supported by Python can be\n",
       "passed.  See the codecs module for the list of supported encodings.\n",
       "\n",
       "errors is an optional string that specifies how encoding errors are to\n",
       "be handled---this argument should not be used in binary mode. Pass\n",
       "'strict' to raise a ValueError exception if there is an encoding error\n",
       "(the default of None has the same effect), or pass 'ignore' to ignore\n",
       "errors. (Note that ignoring encoding errors can lead to data loss.)\n",
       "See the documentation for codecs.register or run 'help(codecs.Codec)'\n",
       "for a list of the permitted encoding error strings.\n",
       "\n",
       "newline controls how universal newlines works (it only applies to text\n",
       "mode). It can be None, '', '\\n', '\\r', and '\\r\\n'.  It works as\n",
       "follows:\n",
       "\n",
       "* On input, if newline is None, universal newlines mode is\n",
       "  enabled. Lines in the input can end in '\\n', '\\r', or '\\r\\n', and\n",
       "  these are translated into '\\n' before being returned to the\n",
       "  caller. If it is '', universal newline mode is enabled, but line\n",
       "  endings are returned to the caller untranslated. If it has any of\n",
       "  the other legal values, input lines are only terminated by the given\n",
       "  string, and the line ending is returned to the caller untranslated.\n",
       "\n",
       "* On output, if newline is None, any '\\n' characters written are\n",
       "  translated to the system default line separator, os.linesep. If\n",
       "  newline is '' or '\\n', no translation takes place. If newline is any\n",
       "  of the other legal values, any '\\n' characters written are translated\n",
       "  to the given string.\n",
       "\n",
       "If closefd is False, the underlying file descriptor will be kept open\n",
       "when the file is closed. This does not work when a file name is given\n",
       "and must be True in that case.\n",
       "\n",
       "A custom opener can be used by passing a callable as *opener*. The\n",
       "underlying file descriptor for the file object is then obtained by\n",
       "calling *opener* with (*file*, *flags*). *opener* must return an open\n",
       "file descriptor (passing os.open as *opener* results in functionality\n",
       "similar to passing None).\n",
       "\n",
       "open() returns a file object whose type depends on the mode, and\n",
       "through which the standard file operations such as reading and writing\n",
       "are performed. When open() is used to open a file in a text mode ('w',\n",
       "'r', 'wt', 'rt', etc.), it returns a TextIOWrapper. When used to open\n",
       "a file in a binary mode, the returned class varies: in read binary\n",
       "mode, it returns a BufferedReader; in write binary and append binary\n",
       "modes, it returns a BufferedWriter, and in read/write mode, it returns\n",
       "a BufferedRandom.\n",
       "\n",
       "It is also possible to use a string or bytearray as a file for both\n",
       "reading and writing. For strings StringIO can be used like a file\n",
       "opened in a text mode, and for bytes a BytesIO can be used like a file\n",
       "opened in a binary mode.\n",
       "\u001b[1;31mType:\u001b[0m      function"
      ]
     },
     "metadata": {},
     "output_type": "display_data"
    }
   ],
   "source": [
    "# f=open(r'path',r)\n",
    "open??"
   ]
  },
  {
   "cell_type": "code",
   "execution_count": 15,
   "id": "cae986d0-1c77-4f79-bb33-daea6af30cd3",
   "metadata": {},
   "outputs": [
    {
     "name": "stdout",
     "output_type": "stream",
     "text": [
      "Lorem ipsum dolor sit amet, consectetur adipiscing elit. Integer mattis sodales diam, vel ultrices velit dignissim in. Ut commodo bibendum imperdiet. \n",
      "Pellentesque vel risus at est lobortis tincidunt. Duis interdum tincidunt ante, et suscipit neque mattis id. Morbi sit amet commodo justo. \n",
      "Aenean ac ultricies est, sit amet lacinia massa. Vestibulum varius a velit non condimentum. Proin vel ornare lectus. Nam pulvinar dolor a lectus sodales, \n",
      "sit amet molestie augue fringilla. Fusce non libero quis mauris ultricies efficitur. Nulla egestas vulputate fermentum.\n",
      "Ut vestibulum nisl id risus elementum, id commodo sapien euismod. Quisque varius neque ut enim volutpat congue. Nullam vel diam pellentesque, varius lacus \n",
      "mattis, malesuada ipsum. Nullam sagittis malesuada augue, vehicula consequat sapien iaculis a. Nam eget nunc a justo suscipit pretium. Donec risus arcu, \n",
      "porttitor a mauris sed, eleifend mattis risus. Suspendisse consequat nisi eleifend, faucibus metus et, tempus lorem. Quisque hendrerit dapibus dolor, non scelerisque arcu. Vivamus purus risus, scelerisque et dui at, porttitor varius lectus.\n"
     ]
    }
   ],
   "source": [
    "#Various Modes\n",
    "# Default Reading Mode -> r\n",
    "file=open('File_IO_Files/Demo_Text')\n",
    "print(file.read())\n",
    "file.close()"
   ]
  },
  {
   "cell_type": "code",
   "execution_count": 21,
   "id": "884b1c94-5519-4fba-82dc-396b86afe7f6",
   "metadata": {},
   "outputs": [
    {
     "name": "stdout",
     "output_type": "stream",
     "text": [
      "Hello World! twicesit amet, consectetur adipiscing elit. Integer mattis sodales diam, vel ultrices velit dignissim in. Ut commodo bibendum imperdiet. \n",
      "Pellentesque vel risus at est lobortis tincidunt. Duis interdum tincidunt ante, et suscipit neque mattis id. Morbi sit amet commodo justo. \n",
      "Aenean ac ultricies est, sit amet lacinia massa. Vestibulum varius a velit non condimentum. Proin vel ornare lectus. Nam pulvinar dolor a lectus sodales, \n",
      "sit amet molestie augue fringilla. Fusce non libero quis mauris ultricies efficitur. Nulla egestas vulputate fermentum.\n",
      "Ut vestibulum nisl id risus elementum, id commodo sapien euismod. Quisque varius neque ut enim volutpat congue. Nullam vel diam pellentesque, varius lacus \n",
      "mattis, malesuada ipsum. Nullam sagittis malesuada augue, vehicula consequat sapien iaculis a. Nam eget nunc a justo suscipit pretium. Donec risus arcu, \n",
      "porttitor a mauris sed, eleifend mattis risus. Suspendisse consequat nisi eleifend, faucibus metus et, tempus lorem. Quisque hendrerit dapibus dolor, non scelerisque arcu. Vivamus purus risus, scelerisque et dui at, porttitor varius lectus.\n"
     ]
    }
   ],
   "source": [
    "# r+ mode\n",
    "file=open('File_IO_Files/Demo_Text','r+')\n",
    "file.write('Hello World! twice')\n",
    "file.seek(0)\n",
    "print(file.read())\n",
    "file.close()"
   ]
  },
  {
   "cell_type": "code",
   "execution_count": 23,
   "id": "36a1b6ab-b370-46c4-9ba2-267671612d4d",
   "metadata": {},
   "outputs": [],
   "source": [
    "# Write Mode -> w\n",
    "f=open(r'File_IO_Files/Dummy_Text.txt','w')\n",
    "f.write('Hello World!')\n",
    "f.close()"
   ]
  },
  {
   "cell_type": "code",
   "execution_count": 25,
   "id": "4bb3ed4c-63ba-4c5d-b05f-b6635e6efb61",
   "metadata": {},
   "outputs": [
    {
     "name": "stdout",
     "output_type": "stream",
     "text": [
      "39\n",
      "0\n",
      "Great World! Great Universe! Great GOD!\n"
     ]
    }
   ],
   "source": [
    "# Write+ Mode -> w+\n",
    "f=open(r'File_IO_Files/Dummy_Text.txt','w+')\n",
    "f.write('Great World! Great Universe! Great GOD!')\n",
    "print(f.tell())\n",
    "print(f.seek(0))\n",
    "print(f.read())\n",
    "f.close()"
   ]
  },
  {
   "cell_type": "code",
   "execution_count": 27,
   "id": "2e8ea879-d11d-4809-80cc-386316e24c66",
   "metadata": {},
   "outputs": [],
   "source": [
    "# Append Mode -> a\n",
    "f=open(r'File_IO_Files/Plain_Text.txt','a')\n",
    "f.write('Hello World!')\n",
    "f.close()"
   ]
  },
  {
   "cell_type": "code",
   "execution_count": 31,
   "id": "3b8f1795-4601-4e39-851f-b5225d3787ae",
   "metadata": {},
   "outputs": [
    {
     "name": "stdout",
     "output_type": "stream",
     "text": [
      "Hello World!Hello UniverseHello Universe!\n",
      "\n"
     ]
    }
   ],
   "source": [
    "# Append+ Mode -> a+\n",
    "file=open(r'File_IO_Files/Plain_Text.txt','a+')\n",
    "file.write('Hello Universe!')\n",
    "file.seek(0)\n",
    "print(file.read())\n",
    "print(file.read())\n",
    "file.close()"
   ]
  },
  {
   "cell_type": "code",
   "execution_count": 37,
   "id": "78083596-61d1-466d-8088-03bf1fbb3e06",
   "metadata": {},
   "outputs": [
    {
     "name": "stdout",
     "output_type": "stream",
     "text": [
      "False w File_IO_Files/Demo_Text False True\n"
     ]
    }
   ],
   "source": [
    "file=open(r'File_IO_Files/Demo_Text','w')\n",
    "print(file.closed,file.mode,file.name,file.readable(),file.writable())\n",
    "file.close()"
   ]
  },
  {
   "cell_type": "code",
   "execution_count": 39,
   "id": "e8071211-d616-4c79-abce-dd9c4d595787",
   "metadata": {},
   "outputs": [
    {
     "data": {
      "text/plain": [
       "True"
      ]
     },
     "execution_count": 39,
     "metadata": {},
     "output_type": "execute_result"
    }
   ],
   "source": [
    "file.closed"
   ]
  },
  {
   "cell_type": "code",
   "execution_count": 41,
   "id": "7407fb27-9c6a-4641-b92e-e9a26da64036",
   "metadata": {},
   "outputs": [
    {
     "data": {
      "text/plain": [
       "'File_IO_Files/Demo_Text'"
      ]
     },
     "execution_count": 41,
     "metadata": {},
     "output_type": "execute_result"
    }
   ],
   "source": [
    "file.name"
   ]
  },
  {
   "cell_type": "code",
   "execution_count": 43,
   "id": "4724e26f-3121-4880-b5e9-ff55cb70f926",
   "metadata": {},
   "outputs": [
    {
     "data": {
      "text/plain": [
       "'w'"
      ]
     },
     "execution_count": 43,
     "metadata": {},
     "output_type": "execute_result"
    }
   ],
   "source": [
    "file.mode"
   ]
  },
  {
   "cell_type": "code",
   "execution_count": 45,
   "id": "9d1e23c9-163e-4727-bb7e-59727891bfe3",
   "metadata": {},
   "outputs": [
    {
     "data": {
      "text/plain": [
       "False"
      ]
     },
     "execution_count": 45,
     "metadata": {},
     "output_type": "execute_result"
    }
   ],
   "source": [
    "file.readable()"
   ]
  },
  {
   "cell_type": "code",
   "execution_count": 47,
   "id": "77681b65-13a4-46f9-81f5-c99bbf054d3e",
   "metadata": {},
   "outputs": [
    {
     "ename": "ValueError",
     "evalue": "I/O operation on closed file",
     "output_type": "error",
     "traceback": [
      "\u001b[1;31m---------------------------------------------------------------------------\u001b[0m",
      "\u001b[1;31mValueError\u001b[0m                                Traceback (most recent call last)",
      "Cell \u001b[1;32mIn[47], line 1\u001b[0m\n\u001b[1;32m----> 1\u001b[0m \u001b[43mfile\u001b[49m\u001b[38;5;241;43m.\u001b[39;49m\u001b[43mwritable\u001b[49m\u001b[43m(\u001b[49m\u001b[43m)\u001b[49m\n",
      "\u001b[1;31mValueError\u001b[0m: I/O operation on closed file"
     ]
    }
   ],
   "source": [
    "file.writable()"
   ]
  },
  {
   "cell_type": "code",
   "execution_count": 98,
   "id": "8725b855-05c2-4d89-b013-849a5a48a6de",
   "metadata": {},
   "outputs": [
    {
     "name": "stdout",
     "output_type": "stream",
     "text": [
      "6\n",
      "None\n"
     ]
    }
   ],
   "source": [
    "with open(r'File_IO_Files/Plain_Text.txt','a') as f:\n",
    "    print(f.write('134234'))\n",
    "    print(f.writelines('\\n'.join(['1','2','3','4','5'])))"
   ]
  },
  {
   "cell_type": "code",
   "execution_count": 134,
   "id": "458c6525-c8db-49a4-9955-5c951d1af972",
   "metadata": {},
   "outputs": [
    {
     "name": "stdout",
     "output_type": "stream",
     "text": [
      "['Lorem ipsum dolor sit amet, consectetur adipiscing elit. Integer mattis \\n', 'sodales diam, vel ultrices velit dignissim in. Ut commodo bibendum imperdiet. Pellentesque vel risus at est lobortis tincidunt. Duis interdum tincidunt ante, et suscipit neque mattis id. Morbi sit amet commodo justo. Aenean ac ultricies est,\\n', 'sit amet lacinia massa. Vestibulum varius a velit non condimentum. Proin vel ornare lectus. Nam pulvinar dolor a lectus sodales, sit amet molestie augue fringilla. Fusce non libero quis mauris ultricies efficitur. Nulla egestas vulputate fermentum.\\n', '\\n', 'Ut vestibulum nisl id risus elementum, id commodo sapien euismod. Quisque\\n', 'varius neque ut enim volutpat congue. Nullam vel diam pellentesque, varius lacus mattis, malesuada ipsum. Nullam sagittis malesuada augue, vehicula consequat sapien iaculis a. Nam eget nunc a justo suscipit pretium. Donec risus a\\n', 'rcu, porttitor a mauris sed, eleifend mattis risus. Suspendisse consequat nisi eleifend, faucibus metus et, tempus lorem. Quisque hendrerit dapibus dolor, non scelerisque arcu. Vivamus purus risus, scelerisque et dui at, porttitor \\n', 'varius lectus.']\n"
     ]
    }
   ],
   "source": [
    "with open(r'File_IO_Files/Demo_Text','r') as f:\n",
    "    print(f.readlines())"
   ]
  },
  {
   "cell_type": "code",
   "execution_count": 1,
   "id": "54b0626f-2092-4772-a91c-177031daba6b",
   "metadata": {},
   "outputs": [
    {
     "name": "stdout",
     "output_type": "stream",
     "text": [
      "Lorem 5\n",
      " ipsum  12\n"
     ]
    }
   ],
   "source": [
    "with open(r'File_IO_Files/Demo_Text','r') as f:\n",
    "    print(f.read(5),f.tell())\n",
    "    print(f.read(7),f.tell())"
   ]
  },
  {
   "cell_type": "code",
   "execution_count": 3,
   "id": "757f0515-b566-4e60-ad35-71c7fdb0afd1",
   "metadata": {},
   "outputs": [],
   "source": [
    "with open(r'File_IO_Files/customer.txt') as f1,open(r'File_IO_Files/customer.txt') as f2:pass"
   ]
  },
  {
   "cell_type": "code",
   "execution_count": 7,
   "id": "1767baab-a608-4134-aec6-7a80d36d1a49",
   "metadata": {},
   "outputs": [
    {
     "data": {
      "text/plain": [
       "\u001b[1;31mSignature:\u001b[0m \u001b[0mstr\u001b[0m\u001b[1;33m.\u001b[0m\u001b[0mstrip\u001b[0m\u001b[1;33m(\u001b[0m\u001b[0mself\u001b[0m\u001b[1;33m,\u001b[0m \u001b[0mchars\u001b[0m\u001b[1;33m=\u001b[0m\u001b[1;32mNone\u001b[0m\u001b[1;33m,\u001b[0m \u001b[1;33m/\u001b[0m\u001b[1;33m)\u001b[0m\u001b[1;33m\u001b[0m\u001b[1;33m\u001b[0m\u001b[0m\n",
       "\u001b[1;31mDocstring:\u001b[0m\n",
       "Return a copy of the string with leading and trailing whitespace removed.\n",
       "\n",
       "If chars is given and not None, remove characters in chars instead.\n",
       "\u001b[1;31mType:\u001b[0m      method_descriptor"
      ]
     },
     "metadata": {},
     "output_type": "display_data"
    }
   ],
   "source": [
    "str.strip??"
   ]
  },
  {
   "cell_type": "code",
   "execution_count": 15,
   "id": "1637b95e-1dfc-4c8c-b226-b40a88fbf0ce",
   "metadata": {},
   "outputs": [
    {
     "name": "stdout",
     "output_type": "stream",
     "text": [
      "0\n",
      "Great World! Great U\n",
      "20\n",
      "niverse! Great GOD!\n",
      "\n",
      "40\n",
      "Hello World!\n",
      "\n",
      "53\n",
      "\n",
      "53\n"
     ]
    }
   ],
   "source": [
    "with open(r'File_IO_Files/Dummy_Text.txt','r') as file:\n",
    "    print(file.tell())\n",
    "    print(file.read(20))\n",
    "    print(file.tell())\n",
    "    print(file.read(20))\n",
    "    print(file.tell())\n",
    "    print(file.read(20))\n",
    "    print(file.tell())\n",
    "    print(file.read(20))\n",
    "    print(file.tell())"
   ]
  },
  {
   "cell_type": "code",
   "execution_count": 21,
   "id": "4a7a1f12-e48e-4cd6-8e51-716bc26a4c13",
   "metadata": {},
   "outputs": [],
   "source": [
    " with open(r\"File_IO_Files/sample3.txt\",\"w\") as f:\n",
    "     f.writelines([\"\\n\",\"\\n\",\"\\n\"])"
   ]
  },
  {
   "cell_type": "code",
   "execution_count": 71,
   "id": "b0394c8e-c0d0-4d4b-acf4-d6a56cc80a50",
   "metadata": {},
   "outputs": [
    {
     "name": "stdout",
     "output_type": "stream",
     "text": [
      "0\n",
      "a\n",
      "1\n",
      "\n",
      "\n",
      "3\n",
      "b\n",
      "4\n",
      "\n",
      "\n",
      "6\n",
      "c\n",
      "7\n",
      "\n",
      "\n",
      "9\n",
      "d\n",
      "10\n"
     ]
    }
   ],
   "source": [
    "with open(r\"File_IO_Files/sample3.txt\",\"r\") as f:\n",
    "    print(f.tell())\n",
    "    print(f.read(1))\n",
    "    print(f.tell())\n",
    "    print(f.read(1))\n",
    "    print(f.tell())\n",
    "    print(f.read(1))\n",
    "    print(f.tell())\n",
    "    print(f.read(1))\n",
    "    print(f.tell())\n",
    "    print(f.read(1))\n",
    "    print(f.tell())\n",
    "    print(f.read(1))\n",
    "    print(f.tell())\n",
    "    print(f.read(1))\n",
    "    print(f.tell())"
   ]
  },
  {
   "cell_type": "code",
   "execution_count": 39,
   "id": "1810115e-aeb3-4a9d-a9a8-76bc71689ea6",
   "metadata": {},
   "outputs": [
    {
     "name": "stdout",
     "output_type": "stream",
     "text": [
      "['\\n', 'a\\n', '\\n', 'b']\n"
     ]
    }
   ],
   "source": [
    "with open(r\"File_IO_Files/Plain_Text.txt\",\"r\") as f:\n",
    "    # print(f.tell())\n",
    "    # print(f.read(1))\n",
    "    # print(f.tell())\n",
    "    # print(f.read(1))\n",
    "    # print(f.tell())\n",
    "    # print(f.read(1))\n",
    "    # print(f.tell())\n",
    "    # print(f.read(1))\n",
    "    # print(f.tell())\n",
    "    print(f.readlines())"
   ]
  },
  {
   "cell_type": "code",
   "execution_count": 51,
   "id": "e9f0b941-2b3b-45bd-a408-83ba33096054",
   "metadata": {},
   "outputs": [
    {
     "name": "stdout",
     "output_type": "stream",
     "text": [
      "hello\n",
      "5\n",
      "\n",
      "hi\n",
      "how\n",
      "12\n",
      " are you\n",
      "20\n",
      "\n",
      "I am fine\n",
      "\n",
      "31\n"
     ]
    }
   ],
   "source": [
    "f=open(r\"File_IO_Files/sample2.txt\")\n",
    "print(f.read(5))\n",
    "print(f.tell())\n",
    "print(f.read(7))\n",
    "print(f.tell())\n",
    "print(f.read(8))\n",
    "print(f.tell())\n",
    "print(f.read(100))\n",
    "print(f.tell())"
   ]
  },
  {
   "cell_type": "code",
   "execution_count": 75,
   "id": "13a28946-da16-4bb6-8992-cee3080d632c",
   "metadata": {},
   "outputs": [
    {
     "data": {
      "text/plain": [
       "\u001b[1;31mSignature:\u001b[0m \u001b[0mfile\u001b[0m\u001b[1;33m.\u001b[0m\u001b[0mseek\u001b[0m\u001b[1;33m(\u001b[0m\u001b[0mcookie\u001b[0m\u001b[1;33m,\u001b[0m \u001b[0mwhence\u001b[0m\u001b[1;33m=\u001b[0m\u001b[1;36m0\u001b[0m\u001b[1;33m,\u001b[0m \u001b[1;33m/\u001b[0m\u001b[1;33m)\u001b[0m\u001b[1;33m\u001b[0m\u001b[1;33m\u001b[0m\u001b[0m\n",
       "\u001b[1;31mDocstring:\u001b[0m\n",
       "Set the stream position, and return the new stream position.\n",
       "\n",
       "  cookie\n",
       "    Zero or an opaque number returned by tell().\n",
       "  whence\n",
       "    The relative position to seek from.\n",
       "\n",
       "Four operations are supported, given by the following argument\n",
       "combinations:\n",
       "\n",
       "- seek(0, SEEK_SET): Rewind to the start of the stream.\n",
       "- seek(cookie, SEEK_SET): Restore a previous position;\n",
       "  'cookie' must be a number returned by tell().\n",
       "- seek(0, SEEK_END): Fast-forward to the end of the stream.\n",
       "- seek(0, SEEK_CUR): Leave the current stream position unchanged.\n",
       "\n",
       "Any other argument combinations are invalid,\n",
       "and may raise exceptions.\n",
       "\u001b[1;31mType:\u001b[0m      builtin_function_or_method"
      ]
     },
     "metadata": {},
     "output_type": "display_data"
    }
   ],
   "source": [
    "file.seek??"
   ]
  },
  {
   "cell_type": "code",
   "execution_count": 81,
   "id": "d10bf098-ec88-4530-9411-8719db36f378",
   "metadata": {},
   "outputs": [
    {
     "name": "stdout",
     "output_type": "stream",
     "text": [
      "Line1: H\n",
      "Line2: e\n",
      "Line3: l\n",
      "Line4: l\n",
      "Line5: o\n",
      "Line6: \n",
      "Line7: C\n",
      "Line8: o\n",
      "Line9: d\n",
      "Line10: e\n",
      "Line11: r\n",
      "Line12: s\n",
      "Line13: \n",
      "Line14: J\n",
      "Line15: a\n",
      "Line16: v\n",
      "Line17: a\n",
      "Line18: T\n",
      "Line19: p\n",
      "Line20: o\n",
      "Line21: i\n",
      "Line22: n\n",
      "Line23: t\n",
      "Line24: \n"
     ]
    }
   ],
   "source": [
    "A = [\"Hello\\n\", \"Coders\\n\", \"JavaTpoint\\n\"]  \n",
    "f1 = open(r'File_IO_Files/myfile.txt', 'w')  \n",
    "f1.writelines(A)  \n",
    "f1.close()  \n",
    "f1 = open(r'File_IO_Files/myfile.txt', 'r')  \n",
    "Lines = f1.read()  \n",
    "count = 0  \n",
    "for line in Lines:  \n",
    "    count += 1  \n",
    "    print(\"Line{}: {}\".format(count, line.strip()))  "
   ]
  },
  {
   "cell_type": "code",
   "execution_count": 105,
   "id": "747a04c9-f17a-4b63-a5c0-fe184a38e987",
   "metadata": {},
   "outputs": [
    {
     "name": "stdout",
     "output_type": "stream",
     "text": [
      "2\n",
      "shal achar\n",
      "2\n",
      "shal acharya\n",
      "python-1\n",
      "b2,b7,d1\n",
      "32\n",
      "vnshal acharya\n",
      "python-1\n",
      "b2,b7,d1\n",
      "32\n"
     ]
    }
   ],
   "source": [
    "f=open(\"File_IO_Files/penny.txt\",\"r+\")\n",
    "f.write(\"vn\")\n",
    "print(f.tell())\n",
    "print(f.read(10))\n",
    "f.seek(2,0)\n",
    "print(f.tell())\n",
    "print(f.read())\n",
    "print(f.tell())\n",
    "f.seek(0)\n",
    "print(f.read())\n",
    "print(f.tell())\n",
    "f.close()"
   ]
  },
  {
   "cell_type": "code",
   "execution_count": 103,
   "id": "9897055e-c1f3-436d-83dc-72bb79bc2b3b",
   "metadata": {},
   "outputs": [
    {
     "data": {
      "text/plain": [
       "['DirEntry',\n",
       " 'EX_OK',\n",
       " 'F_OK',\n",
       " 'GenericAlias',\n",
       " 'Mapping',\n",
       " 'MutableMapping',\n",
       " 'O_APPEND',\n",
       " 'O_BINARY',\n",
       " 'O_CREAT',\n",
       " 'O_EXCL',\n",
       " 'O_NOINHERIT',\n",
       " 'O_RANDOM',\n",
       " 'O_RDONLY',\n",
       " 'O_RDWR',\n",
       " 'O_SEQUENTIAL',\n",
       " 'O_SHORT_LIVED',\n",
       " 'O_TEMPORARY',\n",
       " 'O_TEXT',\n",
       " 'O_TRUNC',\n",
       " 'O_WRONLY',\n",
       " 'P_DETACH',\n",
       " 'P_NOWAIT',\n",
       " 'P_NOWAITO',\n",
       " 'P_OVERLAY',\n",
       " 'P_WAIT',\n",
       " 'PathLike',\n",
       " 'R_OK',\n",
       " 'SEEK_CUR',\n",
       " 'SEEK_END',\n",
       " 'SEEK_SET',\n",
       " 'TMP_MAX',\n",
       " 'W_OK',\n",
       " 'X_OK',\n",
       " '_AddedDllDirectory',\n",
       " '_Environ',\n",
       " '__all__',\n",
       " '__builtins__',\n",
       " '__doc__',\n",
       " '__file__',\n",
       " '__loader__',\n",
       " '__name__',\n",
       " '__package__',\n",
       " '__spec__',\n",
       " '_check_methods',\n",
       " '_execvpe',\n",
       " '_exists',\n",
       " '_exit',\n",
       " '_fspath',\n",
       " '_get_exports_list',\n",
       " '_walk_symlinks_as_files',\n",
       " '_wrap_close',\n",
       " 'abc',\n",
       " 'abort',\n",
       " 'access',\n",
       " 'add_dll_directory',\n",
       " 'altsep',\n",
       " 'chdir',\n",
       " 'chmod',\n",
       " 'close',\n",
       " 'closerange',\n",
       " 'cpu_count',\n",
       " 'curdir',\n",
       " 'defpath',\n",
       " 'device_encoding',\n",
       " 'devnull',\n",
       " 'dup',\n",
       " 'dup2',\n",
       " 'environ',\n",
       " 'error',\n",
       " 'execl',\n",
       " 'execle',\n",
       " 'execlp',\n",
       " 'execlpe',\n",
       " 'execv',\n",
       " 'execve',\n",
       " 'execvp',\n",
       " 'execvpe',\n",
       " 'extsep',\n",
       " 'fdopen',\n",
       " 'fsdecode',\n",
       " 'fsencode',\n",
       " 'fspath',\n",
       " 'fstat',\n",
       " 'fsync',\n",
       " 'ftruncate',\n",
       " 'get_blocking',\n",
       " 'get_exec_path',\n",
       " 'get_handle_inheritable',\n",
       " 'get_inheritable',\n",
       " 'get_terminal_size',\n",
       " 'getcwd',\n",
       " 'getcwdb',\n",
       " 'getenv',\n",
       " 'getlogin',\n",
       " 'getpid',\n",
       " 'getppid',\n",
       " 'isatty',\n",
       " 'kill',\n",
       " 'linesep',\n",
       " 'link',\n",
       " 'listdir',\n",
       " 'listdrives',\n",
       " 'listmounts',\n",
       " 'listvolumes',\n",
       " 'lseek',\n",
       " 'lstat',\n",
       " 'makedirs',\n",
       " 'mkdir',\n",
       " 'name',\n",
       " 'open',\n",
       " 'pardir',\n",
       " 'path',\n",
       " 'pathsep',\n",
       " 'pipe',\n",
       " 'popen',\n",
       " 'putenv',\n",
       " 'read',\n",
       " 'readlink',\n",
       " 'remove',\n",
       " 'removedirs',\n",
       " 'rename',\n",
       " 'renames',\n",
       " 'replace',\n",
       " 'rmdir',\n",
       " 'scandir',\n",
       " 'sep',\n",
       " 'set_blocking',\n",
       " 'set_handle_inheritable',\n",
       " 'set_inheritable',\n",
       " 'spawnl',\n",
       " 'spawnle',\n",
       " 'spawnv',\n",
       " 'spawnve',\n",
       " 'st',\n",
       " 'startfile',\n",
       " 'stat',\n",
       " 'stat_result',\n",
       " 'statvfs_result',\n",
       " 'strerror',\n",
       " 'supports_bytes_environ',\n",
       " 'supports_dir_fd',\n",
       " 'supports_effective_ids',\n",
       " 'supports_fd',\n",
       " 'supports_follow_symlinks',\n",
       " 'symlink',\n",
       " 'sys',\n",
       " 'system',\n",
       " 'terminal_size',\n",
       " 'times',\n",
       " 'times_result',\n",
       " 'truncate',\n",
       " 'umask',\n",
       " 'uname_result',\n",
       " 'unlink',\n",
       " 'unsetenv',\n",
       " 'urandom',\n",
       " 'utime',\n",
       " 'waitpid',\n",
       " 'waitstatus_to_exitcode',\n",
       " 'walk',\n",
       " 'write']"
      ]
     },
     "execution_count": 103,
     "metadata": {},
     "output_type": "execute_result"
    }
   ],
   "source": [
    "import os\n",
    "dir(os)"
   ]
  },
  {
   "cell_type": "code",
   "execution_count": 146,
   "id": "afe25138-eca6-45ec-931b-0f9752e7a580",
   "metadata": {},
   "outputs": [
    {
     "data": {
      "text/plain": [
       "5"
      ]
     },
     "execution_count": 146,
     "metadata": {},
     "output_type": "execute_result"
    }
   ],
   "source": [
    "os.path.getsize(r'File_IO_Files/Patterns.py')//1024"
   ]
  },
  {
   "cell_type": "code",
   "execution_count": 39,
   "id": "adc0410f-4175-4160-8ed5-5ff60c853af7",
   "metadata": {},
   "outputs": [
    {
     "name": "stdout",
     "output_type": "stream",
     "text": [
      "hello\n",
      "hi\n",
      "how are you\n",
      "I am fine 30\n"
     ]
    }
   ],
   "source": [
    "with open(r'File_IO_Files/Demo_Text') as f:\n",
    "    # print(file.read(5))\n",
    "    # print(file.tell())\n",
    "    # print(file.read(7))\n",
    "    # print(file.tell())\n",
    "    # print(file.readline())\n",
    "    # print(file.tell())\n",
    "    print(f.read(),f.tell())"
   ]
  },
  {
   "cell_type": "code",
   "execution_count": 35,
   "id": "55efa91e-5f77-4d67-9b4e-a390e2450571",
   "metadata": {},
   "outputs": [
    {
     "name": "stdout",
     "output_type": "stream",
     "text": [
      "0\n",
      "a\n",
      "1\n",
      "\n",
      "\n",
      "3\n",
      "\n",
      "\n",
      "5\n",
      "b\n",
      "6\n",
      "\n",
      "\n",
      "8\n"
     ]
    }
   ],
   "source": [
    "with open(r'File_IO_Files/sample3.txt') as f:\n",
    "    print(f.tell())\n",
    "    print(f.read(1))\n",
    "    print(f.tell())\n",
    "    # print(f.read(1))\n",
    "    print(f.read(1))\n",
    "    print(f.tell())\n",
    "    print(f.read(1))\n",
    "    print(f.tell())\n",
    "    print(f.read(1))\n",
    "    print(f.tell())\n",
    "    print(f.read(1))\n",
    "    print(f.tell())\n",
    "    # print(f.readlines())"
   ]
  },
  {
   "cell_type": "code",
   "execution_count": 91,
   "id": "74db4c2e-7f92-4f2f-bfb8-820aaf5c0b24",
   "metadata": {},
   "outputs": [
    {
     "name": "stdout",
     "output_type": "stream",
     "text": [
      "Overwriting File_IO_Files/new_file.txt\n"
     ]
    }
   ],
   "source": [
    "%%writefile File_IO_Files/new_file.txt\n",
    "vishal acharya\n",
    "python-1\n",
    "b2,b7,d1"
   ]
  },
  {
   "cell_type": "code",
   "execution_count": 101,
   "id": "bb1f842e-56a4-4900-963a-59dd387deb64",
   "metadata": {},
   "outputs": [
    {
     "name": "stdout",
     "output_type": "stream",
     "text": [
      "36\n",
      "['vishal acharya\\n', 'python-1\\n', 'b2,b7,d1\\n']\n",
      "15\n",
      "9\n",
      "9\n",
      "33\n"
     ]
    }
   ],
   "source": [
    "with open(r'File_IO_Files/new_file.txt') as f:\n",
    "    l=f.readlines()\n",
    "    with open(r'File_IO_Files/new_file1.txt',\"w+\") as f1:\n",
    "        f1.writelines(l)\n",
    "        print(f1.tell())\n",
    "    print(l)\n",
    "    for i in l:print(len(i))\n",
    "    print(f.tell())"
   ]
  },
  {
   "cell_type": "code",
   "execution_count": 107,
   "id": "c41907f3-6917-425c-beb3-b13e1bc66543",
   "metadata": {},
   "outputs": [
    {
     "name": "stdout",
     "output_type": "stream",
     "text": [
      "Hello\n",
      "<bound method Demo.__str__ of <__main__.Demo object at 0x0000019428C37E90>>\n"
     ]
    }
   ],
   "source": [
    "class Demo:\n",
    "    def __init__(self):print('Hello')\n",
    "    # def __str__(self):print('Demo')\n",
    "d=Demo()\n",
    "print(d.__str__)"
   ]
  },
  {
   "cell_type": "code",
   "execution_count": null,
   "id": "bf5ac6ee-8635-4354-a0a4-4d304fc5e327",
   "metadata": {},
   "outputs": [],
   "source": []
  }
 ],
 "metadata": {
  "kernelspec": {
   "display_name": "Python 3 (ipykernel)",
   "language": "python",
   "name": "python3"
  },
  "language_info": {
   "codemirror_mode": {
    "name": "ipython",
    "version": 3
   },
   "file_extension": ".py",
   "mimetype": "text/x-python",
   "name": "python",
   "nbconvert_exporter": "python",
   "pygments_lexer": "ipython3",
   "version": "3.12.4"
  }
 },
 "nbformat": 4,
 "nbformat_minor": 5
}
