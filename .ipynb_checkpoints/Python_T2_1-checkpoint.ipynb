{
 "cells": [
  {
   "cell_type": "code",
   "execution_count": 2,
   "metadata": {},
   "outputs": [
    {
     "ename": "TypeError",
     "evalue": "'str' object does not support item assignment",
     "output_type": "error",
     "traceback": [
      "\u001b[1;31m---------------------------------------------------------------------------\u001b[0m",
      "\u001b[1;31mTypeError\u001b[0m                                 Traceback (most recent call last)",
      "\u001b[1;32m<ipython-input-2-ca7da3de1d01>\u001b[0m in \u001b[0;36m<module>\u001b[1;34m\u001b[0m\n\u001b[0;32m      1\u001b[0m \u001b[0ma\u001b[0m\u001b[1;33m=\u001b[0m\u001b[1;34m\"Hello\"\u001b[0m\u001b[1;33m\u001b[0m\u001b[1;33m\u001b[0m\u001b[0m\n\u001b[1;32m----> 2\u001b[1;33m \u001b[0ma\u001b[0m\u001b[1;33m[\u001b[0m\u001b[1;36m0\u001b[0m\u001b[1;33m]\u001b[0m\u001b[1;33m=\u001b[0m\u001b[1;34m\"Z\"\u001b[0m\u001b[1;33m\u001b[0m\u001b[1;33m\u001b[0m\u001b[0m\n\u001b[0m",
      "\u001b[1;31mTypeError\u001b[0m: 'str' object does not support item assignment"
     ]
    }
   ],
   "source": [
    "a=\"Hello\"\n",
    "a[0]=\"Z\""
   ]
  },
  {
   "cell_type": "code",
   "execution_count": 4,
   "metadata": {},
   "outputs": [
    {
     "name": "stdout",
     "output_type": "stream",
     "text": [
      "2251343690992\n",
      "2251343690992\n",
      "2251280117808\n"
     ]
    }
   ],
   "source": [
    "s='Hello'\n",
    "a='Hello'\n",
    "print(id(s))\n",
    "print(id(a))\n",
    "s='H'\n",
    "print(id(s))"
   ]
  },
  {
   "cell_type": "code",
   "execution_count": 5,
   "metadata": {},
   "outputs": [
    {
     "name": "stdout",
     "output_type": "stream",
     "text": [
      "H\n",
      "2251280117808\n"
     ]
    }
   ],
   "source": [
    "m=s[0]\n",
    "print(m)\n",
    "print(id(m))"
   ]
  },
  {
   "cell_type": "code",
   "execution_count": 6,
   "metadata": {},
   "outputs": [
    {
     "ename": "IndexError",
     "evalue": "string index out of range",
     "output_type": "error",
     "traceback": [
      "\u001b[1;31m---------------------------------------------------------------------------\u001b[0m",
      "\u001b[1;31mIndexError\u001b[0m                                Traceback (most recent call last)",
      "\u001b[1;32m<ipython-input-6-2a138df92e52>\u001b[0m in \u001b[0;36m<module>\u001b[1;34m\u001b[0m\n\u001b[1;32m----> 1\u001b[1;33m \u001b[0ms\u001b[0m\u001b[1;33m[\u001b[0m\u001b[1;36m100\u001b[0m\u001b[1;33m]\u001b[0m\u001b[1;33m\u001b[0m\u001b[1;33m\u001b[0m\u001b[0m\n\u001b[0m",
      "\u001b[1;31mIndexError\u001b[0m: string index out of range"
     ]
    }
   ],
   "source": [
    "s[100]"
   ]
  },
  {
   "cell_type": "code",
   "execution_count": 16,
   "metadata": {},
   "outputs": [
    {
     "data": {
      "text/plain": [
       "'l'"
      ]
     },
     "execution_count": 16,
     "metadata": {},
     "output_type": "execute_result"
    }
   ],
   "source": [
    "#Negetive Indexing\n",
    "s='Hello World'\n",
    "s[-2]"
   ]
  },
  {
   "cell_type": "code",
   "execution_count": 14,
   "metadata": {},
   "outputs": [
    {
     "name": "stdout",
     "output_type": "stream",
     "text": [
      "Hlo\n",
      "l\n"
     ]
    }
   ],
   "source": [
    "#Slicing\n",
    "print(s[0:6:2])\n",
    "print(s[2:4:2])"
   ]
  },
  {
   "cell_type": "code",
   "execution_count": 25,
   "metadata": {},
   "outputs": [
    {
     "name": "stdout",
     "output_type": "stream",
     "text": [
      "leH\n",
      "HloWrd\n",
      "HlW\n",
      "dlroW olleH\n",
      "lH\n"
     ]
    }
   ],
   "source": [
    "print(s[2::-1])\n",
    "print(s[::2])\n",
    "print(s[0:7:3])\n",
    "print(s[::-1])\n",
    "print(s[2::-2])"
   ]
  },
  {
   "cell_type": "code",
   "execution_count": 28,
   "metadata": {},
   "outputs": [
    {
     "name": "stdout",
     "output_type": "stream",
     "text": [
      "rld\n"
     ]
    }
   ],
   "source": [
    "print(s[-3::1])"
   ]
  },
  {
   "cell_type": "code",
   "execution_count": 29,
   "metadata": {},
   "outputs": [
    {
     "name": "stdout",
     "output_type": "stream",
     "text": [
      "l\n"
     ]
    }
   ],
   "source": [
    "print(s[2:4:50])"
   ]
  },
  {
   "cell_type": "code",
   "execution_count": 32,
   "metadata": {},
   "outputs": [
    {
     "name": "stdout",
     "output_type": "stream",
     "text": [
      "eoo\n"
     ]
    }
   ],
   "source": [
    "print(s[1:-1:3])"
   ]
  },
  {
   "cell_type": "code",
   "execution_count": 35,
   "metadata": {},
   "outputs": [
    {
     "data": {
      "text/plain": [
       "'hi5'"
      ]
     },
     "execution_count": 35,
     "metadata": {},
     "output_type": "execute_result"
    }
   ],
   "source": [
    "a=\"hi\"\n",
    "a+str(5)"
   ]
  },
  {
   "cell_type": "code",
   "execution_count": 51,
   "metadata": {},
   "outputs": [
    {
     "name": "stdout",
     "output_type": "stream",
     "text": [
      "True\n",
      "world\n",
      "hello\n"
     ]
    }
   ],
   "source": [
    "#Operators -> *, +\n",
    "print('hello'>'Horld')#Alphbatical Order will be followed - ASCII Value\n",
    "print('hello' and 'world')\n",
    "print('hello' or 'world')"
   ]
  },
  {
   "cell_type": "code",
   "execution_count": 46,
   "metadata": {},
   "outputs": [
    {
     "name": "stdout",
     "output_type": "stream",
     "text": [
      "P\n",
      "y\n",
      "t\n",
      "h\n",
      "o\n",
      "n\n"
     ]
    }
   ],
   "source": [
    "str='Python'\n",
    "#Simple For loop for string\n",
    "for i in str:print(i)"
   ]
  },
  {
   "cell_type": "code",
   "execution_count": 50,
   "metadata": {},
   "outputs": [
    {
     "name": "stdout",
     "output_type": "stream",
     "text": [
      "1 P\n",
      "2 y\n",
      "3 t\n",
      "4 h\n",
      "5 o\n",
      "6 n\n"
     ]
    }
   ],
   "source": [
    "#Using enumerate function\n",
    "for idx,x in enumerate(str):print(idx,x)"
   ]
  },
  {
   "cell_type": "code",
   "execution_count": 55,
   "metadata": {},
   "outputs": [
    {
     "name": "stdout",
     "output_type": "stream",
     "text": [
      "1 P\n",
      "2 y\n",
      "3 t\n",
      "4 h\n",
      "5 o\n",
      "6 n\n"
     ]
    }
   ],
   "source": [
    "for idx,x in enumerate(str,1):print(idx,x)"
   ]
  },
  {
   "cell_type": "code",
   "execution_count": 57,
   "metadata": {},
   "outputs": [
    {
     "name": "stdout",
     "output_type": "stream",
     "text": [
      "11\n"
     ]
    }
   ],
   "source": [
    "#Membership operators - in, not in\n",
    "print('m' in 'python')\n",
    "print('m' not in 'python')\n",
    "\n",
    "#Universal Functions\n",
    "s='Hello World'\n",
    "print(len(s))"
   ]
  },
  {
   "cell_type": "code",
   "execution_count": 62,
   "metadata": {},
   "outputs": [
    {
     "name": "stdout",
     "output_type": "stream",
     "text": [
      "3\n",
      "3\n",
      "4\n"
     ]
    }
   ],
   "source": [
    "print(len('hi\\n'))\n",
    "print(len('hin'))\n",
    "print(len(r'hi\\n'))\n",
    "\n",
    "ord(' ')\n",
    "\n",
    "print(min(s))\n",
    "print(max(s))\n",
    "\n",
    "print(sorted(s))#Left to right - Lexicographically\n",
    "\n",
    "print(s)"
   ]
  },
  {
   "cell_type": "code",
   "execution_count": 66,
   "metadata": {},
   "outputs": [
    {
     "data": {
      "text/plain": [
       "['__add__',\n",
       " '__class__',\n",
       " '__contains__',\n",
       " '__delattr__',\n",
       " '__dir__',\n",
       " '__doc__',\n",
       " '__eq__',\n",
       " '__format__',\n",
       " '__ge__',\n",
       " '__getattribute__',\n",
       " '__getitem__',\n",
       " '__getnewargs__',\n",
       " '__gt__',\n",
       " '__hash__',\n",
       " '__init__',\n",
       " '__init_subclass__',\n",
       " '__iter__',\n",
       " '__le__',\n",
       " '__len__',\n",
       " '__lt__',\n",
       " '__mod__',\n",
       " '__mul__',\n",
       " '__ne__',\n",
       " '__new__',\n",
       " '__reduce__',\n",
       " '__reduce_ex__',\n",
       " '__repr__',\n",
       " '__rmod__',\n",
       " '__rmul__',\n",
       " '__setattr__',\n",
       " '__sizeof__',\n",
       " '__str__',\n",
       " '__subclasshook__',\n",
       " 'capitalize',\n",
       " 'casefold',\n",
       " 'center',\n",
       " 'count',\n",
       " 'encode',\n",
       " 'endswith',\n",
       " 'expandtabs',\n",
       " 'find',\n",
       " 'format',\n",
       " 'format_map',\n",
       " 'index',\n",
       " 'isalnum',\n",
       " 'isalpha',\n",
       " 'isascii',\n",
       " 'isdecimal',\n",
       " 'isdigit',\n",
       " 'isidentifier',\n",
       " 'islower',\n",
       " 'isnumeric',\n",
       " 'isprintable',\n",
       " 'isspace',\n",
       " 'istitle',\n",
       " 'isupper',\n",
       " 'join',\n",
       " 'ljust',\n",
       " 'lower',\n",
       " 'lstrip',\n",
       " 'maketrans',\n",
       " 'partition',\n",
       " 'replace',\n",
       " 'rfind',\n",
       " 'rindex',\n",
       " 'rjust',\n",
       " 'rpartition',\n",
       " 'rsplit',\n",
       " 'rstrip',\n",
       " 'split',\n",
       " 'splitlines',\n",
       " 'startswith',\n",
       " 'strip',\n",
       " 'swapcase',\n",
       " 'title',\n",
       " 'translate',\n",
       " 'upper',\n",
       " 'zfill']"
      ]
     },
     "execution_count": 66,
     "metadata": {},
     "output_type": "execute_result"
    }
   ],
   "source": [
    "#Write down String Methods\n",
    "dir(str)"
   ]
  },
  {
   "cell_type": "code",
   "execution_count": 78,
   "metadata": {},
   "outputs": [],
   "source": [
    "s='This is a python tutorial. ljiet'\n",
    "# dir(s)"
   ]
  },
  {
   "cell_type": "code",
   "execution_count": 79,
   "metadata": {},
   "outputs": [
    {
     "data": {
      "text/plain": [
       "'This is a python tutorial. ljiet'"
      ]
     },
     "execution_count": 79,
     "metadata": {},
     "output_type": "execute_result"
    }
   ],
   "source": [
    "# s.strip()\n",
    "s.capitalize()"
   ]
  },
  {
   "cell_type": "code",
   "execution_count": 80,
   "metadata": {},
   "outputs": [
    {
     "data": {
      "text/plain": [
       "'this is a python tutorial. ljiet'"
      ]
     },
     "execution_count": 80,
     "metadata": {},
     "output_type": "execute_result"
    }
   ],
   "source": [
    "# s.upper()\n",
    "s.lower()"
   ]
  },
  {
   "cell_type": "code",
   "execution_count": 83,
   "metadata": {},
   "outputs": [
    {
     "data": {
      "text/plain": [
       "'This Is A Python Tutorial. Ljiet'"
      ]
     },
     "execution_count": 83,
     "metadata": {},
     "output_type": "execute_result"
    }
   ],
   "source": [
    "s.title()\n",
    "# s.title??"
   ]
  },
  {
   "cell_type": "code",
   "execution_count": 84,
   "metadata": {},
   "outputs": [
    {
     "data": {
      "text/plain": [
       "'tHIS IS A PYTHON TUTORIAL. LJIET'"
      ]
     },
     "execution_count": 84,
     "metadata": {},
     "output_type": "execute_result"
    }
   ],
   "source": [
    "s.swapcase()"
   ]
  },
  {
   "cell_type": "code",
   "execution_count": 100,
   "metadata": {},
   "outputs": [
    {
     "data": {
      "text/plain": [
       "2"
      ]
     },
     "execution_count": 100,
     "metadata": {},
     "output_type": "execute_result"
    }
   ],
   "source": [
    "# s.isupper()\n",
    "# s.islower()\n",
    "#s.isdigit()\n",
    "#s.isspace()\n",
    "s.count('is',2,7)"
   ]
  },
  {
   "cell_type": "code",
   "execution_count": 110,
   "metadata": {},
   "outputs": [
    {
     "data": {
      "text/plain": [
       "-1"
      ]
     },
     "execution_count": 110,
     "metadata": {},
     "output_type": "execute_result"
    }
   ],
   "source": [
    "# s.find??\n",
    "s.find('iz')#Returns the index of substring on first occurance"
   ]
  },
  {
   "cell_type": "code",
   "execution_count": 109,
   "metadata": {},
   "outputs": [
    {
     "data": {
      "text/plain": [
       "5"
      ]
     },
     "execution_count": 109,
     "metadata": {},
     "output_type": "execute_result"
    }
   ],
   "source": [
    "s.find('is',4,100)"
   ]
  },
  {
   "cell_type": "code",
   "execution_count": 112,
   "metadata": {},
   "outputs": [
    {
     "ename": "ValueError",
     "evalue": "substring not found",
     "output_type": "error",
     "traceback": [
      "\u001b[1;31m---------------------------------------------------------------------------\u001b[0m",
      "\u001b[1;31mValueError\u001b[0m                                Traceback (most recent call last)",
      "\u001b[1;32m<ipython-input-112-f019dc20ef1e>\u001b[0m in \u001b[0;36m<module>\u001b[1;34m\u001b[0m\n\u001b[1;32m----> 1\u001b[1;33m \u001b[0ms\u001b[0m\u001b[1;33m.\u001b[0m\u001b[0mindex\u001b[0m\u001b[1;33m(\u001b[0m\u001b[1;34m'iz'\u001b[0m\u001b[1;33m,\u001b[0m\u001b[1;36m4\u001b[0m\u001b[1;33m)\u001b[0m\u001b[1;33m\u001b[0m\u001b[1;33m\u001b[0m\u001b[0m\n\u001b[0m",
      "\u001b[1;31mValueError\u001b[0m: substring not found"
     ]
    }
   ],
   "source": [
    "s.index('iz',4)"
   ]
  },
  {
   "cell_type": "code",
   "execution_count": 113,
   "metadata": {},
   "outputs": [
    {
     "data": {
      "text/plain": [
       "5"
      ]
     },
     "execution_count": 113,
     "metadata": {},
     "output_type": "execute_result"
    }
   ],
   "source": [
    "s.index('is',4)"
   ]
  },
  {
   "cell_type": "code",
   "execution_count": 119,
   "metadata": {},
   "outputs": [
    {
     "data": {
      "text/plain": [
       "'ThisThis is a python tutorial. ljietisThis is a python tutorial. ljietpython'"
      ]
     },
     "execution_count": 119,
     "metadata": {},
     "output_type": "execute_result"
    }
   ],
   "source": [
    "s.join??\n",
    "s.join(['This','is','python'])"
   ]
  },
  {
   "cell_type": "code",
   "execution_count": 128,
   "metadata": {},
   "outputs": [],
   "source": [
    "s=' '.join(['This','is','python'])"
   ]
  },
  {
   "cell_type": "code",
   "execution_count": 123,
   "metadata": {},
   "outputs": [
    {
     "data": {
      "text/plain": [
       "'This😁is😁python'"
      ]
     },
     "execution_count": 123,
     "metadata": {},
     "output_type": "execute_result"
    }
   ],
   "source": [
    "'😁'.join(['This','is','python'])"
   ]
  },
  {
   "cell_type": "code",
   "execution_count": 127,
   "metadata": {},
   "outputs": [
    {
     "data": {
      "text/plain": [
       "'This#is#python'"
      ]
     },
     "execution_count": 127,
     "metadata": {},
     "output_type": "execute_result"
    }
   ],
   "source": [
    "'#'.join(['This','is','python'])"
   ]
  },
  {
   "cell_type": "code",
   "execution_count": 133,
   "metadata": {},
   "outputs": [
    {
     "data": {
      "text/plain": [
       "['This', 'is', 'python']"
      ]
     },
     "execution_count": 133,
     "metadata": {},
     "output_type": "execute_result"
    }
   ],
   "source": [
    "s.split(' ')"
   ]
  },
  {
   "cell_type": "code",
   "execution_count": 140,
   "metadata": {},
   "outputs": [
    {
     "data": {
      "text/plain": [
       "['Hello', 'Worlld!']"
      ]
     },
     "execution_count": 140,
     "metadata": {},
     "output_type": "execute_result"
    }
   ],
   "source": [
    "s='Hello Worlld!'\n",
    "s.split()"
   ]
  },
  {
   "cell_type": "code",
   "execution_count": 141,
   "metadata": {},
   "outputs": [
    {
     "data": {
      "text/plain": [
       "['He', '', 'o Wor', '', 'd!']"
      ]
     },
     "execution_count": 141,
     "metadata": {},
     "output_type": "execute_result"
    }
   ],
   "source": [
    "s.split('l')"
   ]
  },
  {
   "cell_type": "code",
   "execution_count": 142,
   "metadata": {},
   "outputs": [
    {
     "data": {
      "text/plain": [
       "['Th', ' ', ' a python tutorial. ljiet']"
      ]
     },
     "execution_count": 142,
     "metadata": {},
     "output_type": "execute_result"
    }
   ],
   "source": [
    "s='This is a python tutorial. ljiet'\n",
    "s.split('is')"
   ]
  },
  {
   "cell_type": "code",
   "execution_count": 148,
   "metadata": {},
   "outputs": [
    {
     "data": {
      "text/plain": [
       "'This ol a python tutorial. ljiet'"
      ]
     },
     "execution_count": 148,
     "metadata": {},
     "output_type": "execute_result"
    }
   ],
   "source": [
    "s.replace(' is ',' ol ',1)"
   ]
  },
  {
   "cell_type": "code",
   "execution_count": 145,
   "metadata": {},
   "outputs": [],
   "source": [
    "s.replace??"
   ]
  },
  {
   "cell_type": "code",
   "execution_count": 149,
   "metadata": {},
   "outputs": [],
   "source": [
    "s.strip??"
   ]
  },
  {
   "cell_type": "code",
   "execution_count": 154,
   "metadata": {},
   "outputs": [
    {
     "name": "stdout",
     "output_type": "stream",
     "text": [
      "Hello world\n",
      "   Hello world\n",
      "Hello world  \n"
     ]
    }
   ],
   "source": [
    "s='   Hello world  '\n",
    "print(s.strip())\n",
    "print(s.rstrip())\n",
    "print(s.lstrip())"
   ]
  },
  {
   "cell_type": "code",
   "execution_count": 160,
   "metadata": {},
   "outputs": [
    {
     "data": {
      "text/plain": [
       "'This is a python tutorial'"
      ]
     },
     "execution_count": 160,
     "metadata": {},
     "output_type": "execute_result"
    }
   ],
   "source": [
    "s='This is a python tutorial'\n",
    "s.strip('alTh')\n",
    "# s.strip('th')"
   ]
  },
  {
   "cell_type": "code",
   "execution_count": 164,
   "metadata": {},
   "outputs": [
    {
     "name": "stdout",
     "output_type": "stream",
     "text": [
      "th3s 3s 1 str3ng f5nct34n 2\n"
     ]
    }
   ],
   "source": [
    "#make trans\n",
    "intab='aeiou'\n",
    "outtab='12345'\n",
    "my='this is a string function e'\n",
    "transtab=my.maketrans(intab,outtab)\n",
    "print(my.translate(transtab))"
   ]
  },
  {
   "cell_type": "code",
   "execution_count": 167,
   "metadata": {},
   "outputs": [
    {
     "data": {
      "text/plain": [
       "'!\"#$%&\\'()*+,-./:;<=>?@[\\\\]^_`{|}~'"
      ]
     },
     "execution_count": 167,
     "metadata": {},
     "output_type": "execute_result"
    }
   ],
   "source": [
    "import string\n",
    "string.punctuation"
   ]
  },
  {
   "cell_type": "code",
   "execution_count": 173,
   "metadata": {},
   "outputs": [
    {
     "name": "stdout",
     "output_type": "stream",
     "text": [
      "This what is python like\n"
     ]
    }
   ],
   "source": [
    "a_string='Th.is wh?at is py[th]on li!ke.'\n",
    "new=a_string.translate(str.maketrans('','',string.punctuation))\n",
    "print(new)"
   ]
  },
  {
   "cell_type": "code",
   "execution_count": 175,
   "metadata": {},
   "outputs": [
    {
     "name": "stdout",
     "output_type": "stream",
     "text": [
      "11\n"
     ]
    }
   ],
   "source": [
    "#WAP to check the length of the string without using length function\n",
    "a='Hello World!'\n",
    "for x,i in enumerate(a):pass\n",
    "else:print(x)"
   ]
  },
  {
   "cell_type": "code",
   "execution_count": 179,
   "metadata": {},
   "outputs": [
    {
     "name": "stdout",
     "output_type": "stream",
     "text": [
      "Enter a string: MALAYALAM\n",
      "True\n"
     ]
    }
   ],
   "source": [
    "#WAP to check if a given string is a palindrome\n",
    "s=input('Enter a string: ')\n",
    "print(s==s[::-1])"
   ]
  },
  {
   "cell_type": "code",
   "execution_count": 180,
   "metadata": {},
   "outputs": [
    {
     "name": "stdout",
     "output_type": "stream",
     "text": [
      "Alphabets: 9, Digits: 2, Symbols: 3\n",
      "Length os string: 14\n"
     ]
    }
   ],
   "source": [
    "#WAP to count all letters,symbols and digits in a given string\n",
    "s=\"P@yn2ta&c#i5ve\"\n",
    "alpha_count=0\n",
    "digit_count=0\n",
    "sym_count=0\n",
    "for x in s:\n",
    "    if x.isalpha():alpha_count+=1\n",
    "    elif x.isdigit():digit_count+=1\n",
    "    else:sym_count+=1\n",
    "else:\n",
    "    print(f'Alphabets: {alpha_count}, Digits: {digit_count}, Symbols: {sym_count}')\n",
    "    print('Length os string:',len(s))"
   ]
  },
  {
   "cell_type": "code",
   "execution_count": 197,
   "metadata": {},
   "outputs": [
    {
     "name": "stdout",
     "output_type": "stream",
     "text": [
      "Enter a name: YASHAPAREKH\n",
      "YPH\n"
     ]
    }
   ],
   "source": [
    "#WAP to Create a string made up of first, middle and last characters\n",
    "name=input('Enter a name: ')\n",
    "sname=name[0]+name[len(name)//2]+name[-1]\n",
    "print(sname)"
   ]
  },
  {
   "cell_type": "code",
   "execution_count": 8,
   "metadata": {},
   "outputs": [
    {
     "name": "stdout",
     "output_type": "stream",
     "text": [
      "Enter first string: py\n",
      "Enter second string: python\n",
      "String are balanced\n"
     ]
    }
   ],
   "source": [
    "#WAP to check is the strings are balanced or not\n",
    "#String are balanced if the elements of first string are present in the second string\n",
    "s1=input('Enter first string: ')\n",
    "s2=input('Enter second string: ')\n",
    "# s1=s1.lower()\n",
    "# s2=s2.lower()\n",
    "for ele in s1:\n",
    "    if ele not in s2:\n",
    "        print('Strings are not balanced')\n",
    "        break\n",
    "else:print('String are balanced')"
   ]
  },
  {
   "cell_type": "code",
   "execution_count": 38,
   "metadata": {},
   "outputs": [
    {
     "name": "stdout",
     "output_type": "stream",
     "text": [
      "Enter a string: YASH\n",
      "Enter shift number: 3\n",
      "\\DVK\n"
     ]
    }
   ],
   "source": [
    "#WAP to scissor schipher.\n",
    "st=input('Enter a string: ')\n",
    "key=int(input('Enter shift number: '))\n",
    "en=''\n",
    "for ele in st:\n",
    "    e=ord(ele)+key%26\n",
    "    if e>90:e=e-26\n",
    "    en+=chr(e)\n",
    "print(en)"
   ]
  },
  {
   "cell_type": "code",
   "execution_count": 44,
   "metadata": {},
   "outputs": [
    {
     "name": "stdout",
     "output_type": "stream",
     "text": [
      "Enter a string: LJIET\n",
      "Enter shift number: 3\n",
      "OMLHW\n"
     ]
    }
   ],
   "source": [
    "#Without using ord and chr\n",
    "st=input('Enter a string: ')\n",
    "st=st.upper()\n",
    "alpha='ABCDEFGHIJKLMNOPQRSTUVWXYZ'\n",
    "key=int(input('Enter shift number: '))\n",
    "en=''\n",
    "for ele in st:\n",
    "    if ele in alpha:\n",
    "        idx=alpha.find(ele)\n",
    "        idx+=(key%len(alpha))\n",
    "        if idx>26:idx-=26\n",
    "        en+=alpha[idx]\n",
    "    else:\n",
    "        en+=ele\n",
    "print(en)"
   ]
  },
  {
   "cell_type": "code",
   "execution_count": 82,
   "metadata": {},
   "outputs": [
    {
     "name": "stdout",
     "output_type": "stream",
     "text": [
      "Enter a number: 12345\n",
      "Enter shift number: 3\n",
      "12345\n"
     ]
    }
   ],
   "source": [
    "#WAP to shift a digit using following condition\n",
    "#1.) If the shift is 1 the last digit should be placed at the first position\n",
    "#2.) If the shift is 2 , last 2 digits should be placed the first two position\n",
    "#And acoordingly shift all the numbers will not change the number, if the shift is more than the number of digits, \n",
    "#it should reverse the number\n",
    "n=int(input('Enter a number: '))\n",
    "shift=int(input('Enter shift number: '))\n",
    "st=str(n)\n",
    "lm=len(st)\n",
    "ans=''\n",
    "if 0<=shift<=lm:\n",
    "    ans=st[lm-shift:]+st[:lm-shift]\n",
    "else:\n",
    "    ans=st[::-1]\n",
    "print(ans)"
   ]
  },
  {
   "cell_type": "code",
   "execution_count": 86,
   "metadata": {},
   "outputs": [
    {
     "name": "stdout",
     "output_type": "stream",
     "text": [
      "Enter a number: 12345\n",
      "Enter shift number: 4\n",
      "51234\n"
     ]
    }
   ],
   "source": [
    "#WAP to shift the decimal digits \n",
    "n=int(input('Enter a number: '))\n",
    "shift=int(input('Enter shift number: '))\n",
    "st=str(n)\n",
    "lm=len(st)\n",
    "ans=''\n",
    "if 0<=shift<=lm:\n",
    "    ans=st[shift:]+st[:shift]\n",
    "else:\n",
    "    ans=st[::-1]\n",
    "print(ans)"
   ]
  },
  {
   "cell_type": "code",
   "execution_count": 89,
   "metadata": {},
   "outputs": [
    {
     "name": "stdout",
     "output_type": "stream",
     "text": [
      "Enter your paswword: 1234@Jay\n",
      "Valid Password is:  1234@Jay\n"
     ]
    }
   ],
   "source": [
    "#WAP to validate a password under following conditions, password lenght - 8 characters, it should atleast contains 1 digit,\n",
    "#1 uppercase alphabet, any symbols from _ ,@ and $\n",
    "symbols='_@$'\n",
    "while True:\n",
    "    pwd=input('Enter your paswword: ')\n",
    "    up_count=0\n",
    "    sym_count=0\n",
    "    digi_count=0\n",
    "    if len(pwd)!=8:\n",
    "        print('Password length must be 8 characters long')\n",
    "        continue\n",
    "    for letter in pwd:\n",
    "        if letter.isdigit():digi_count+=1\n",
    "        if 65<=ord(letter)<=90:up_count+=1\n",
    "        if letter in symbols:sym_count+=1\n",
    "    if digi_count<1:\n",
    "        print('Invalid Password: Atleast One digit is allowed to write')\n",
    "        continue\n",
    "    if up_count!=1:\n",
    "        print('Invalid Password: One uppercase character is permitted to write')\n",
    "        continue\n",
    "    if sym_count!=1:\n",
    "        print('Invalid Password: One symbols is permitted to write from @,$,_')\n",
    "        continue\n",
    "    break\n",
    "print('Valid Password is: ',pwd)"
   ]
  },
  {
   "cell_type": "code",
   "execution_count": 95,
   "metadata": {},
   "outputs": [
    {
     "name": "stdout",
     "output_type": "stream",
     "text": [
      "(1, 'hi', [1, 2, 4])\n"
     ]
    }
   ],
   "source": [
    "#Tuple - Tuple is a hydrogeneous, immutable datastructure in python which can be index.slice and can be intiated through\n",
    "#tuple keyword or ()\n",
    "tup=(1,'hi',[1,2,3])\n",
    "tup[2][-1]=4\n",
    "print(tup)"
   ]
  },
  {
   "cell_type": "code",
   "execution_count": 109,
   "metadata": {},
   "outputs": [
    {
     "name": "stdout",
     "output_type": "stream",
     "text": [
      "(1, 2, 3, 1, 2, 3, 1, 2, 3)\n"
     ]
    }
   ],
   "source": [
    "tup1=(1,2,3)\n",
    "tup2=(0,3,4)\n",
    "print(tup1*3)"
   ]
  },
  {
   "cell_type": "code",
   "execution_count": 110,
   "metadata": {},
   "outputs": [
    {
     "name": "stdout",
     "output_type": "stream",
     "text": [
      "(1, 2, 3, 0, 3, 4)\n"
     ]
    }
   ],
   "source": [
    "print(tup1+tup2)"
   ]
  },
  {
   "cell_type": "code",
   "execution_count": 111,
   "metadata": {},
   "outputs": [
    {
     "name": "stdout",
     "output_type": "stream",
     "text": [
      "100 1\n",
      "101 hi\n",
      "102 [1, 2, 4]\n"
     ]
    }
   ],
   "source": [
    "for i,j in enumerate(tup,100):print(i,j)"
   ]
  },
  {
   "cell_type": "code",
   "execution_count": 112,
   "metadata": {},
   "outputs": [
    {
     "name": "stdout",
     "output_type": "stream",
     "text": [
      "False\n"
     ]
    }
   ],
   "source": [
    "print(tup1<tup2)#Check first element only"
   ]
  },
  {
   "cell_type": "code",
   "execution_count": 121,
   "metadata": {},
   "outputs": [
    {
     "name": "stdout",
     "output_type": "stream",
     "text": [
      "False\n"
     ]
    }
   ],
   "source": [
    "tup1=(1,2,'O')\n",
    "tup2=(1,2,'A')\n",
    "print(tup1<tup2)"
   ]
  },
  {
   "cell_type": "code",
   "execution_count": 115,
   "metadata": {},
   "outputs": [
    {
     "data": {
      "text/plain": [
       "['__add__',\n",
       " '__class__',\n",
       " '__contains__',\n",
       " '__delattr__',\n",
       " '__dir__',\n",
       " '__doc__',\n",
       " '__eq__',\n",
       " '__format__',\n",
       " '__ge__',\n",
       " '__getattribute__',\n",
       " '__getitem__',\n",
       " '__getnewargs__',\n",
       " '__gt__',\n",
       " '__hash__',\n",
       " '__init__',\n",
       " '__init_subclass__',\n",
       " '__iter__',\n",
       " '__le__',\n",
       " '__len__',\n",
       " '__lt__',\n",
       " '__mul__',\n",
       " '__ne__',\n",
       " '__new__',\n",
       " '__reduce__',\n",
       " '__reduce_ex__',\n",
       " '__repr__',\n",
       " '__rmul__',\n",
       " '__setattr__',\n",
       " '__sizeof__',\n",
       " '__str__',\n",
       " '__subclasshook__',\n",
       " 'count',\n",
       " 'index']"
      ]
     },
     "execution_count": 115,
     "metadata": {},
     "output_type": "execute_result"
    }
   ],
   "source": [
    "dir(tuple)"
   ]
  },
  {
   "cell_type": "code",
   "execution_count": 116,
   "metadata": {},
   "outputs": [
    {
     "name": "stdout",
     "output_type": "stream",
     "text": [
      "Help on built-in function count:\n",
      "\n",
      "count(value, /) method of builtins.tuple instance\n",
      "    Return number of occurrences of value.\n",
      "\n"
     ]
    }
   ],
   "source": [
    "help(tup.count)"
   ]
  },
  {
   "cell_type": "code",
   "execution_count": 120,
   "metadata": {},
   "outputs": [],
   "source": [
    "tup.count??"
   ]
  },
  {
   "cell_type": "code",
   "execution_count": 119,
   "metadata": {},
   "outputs": [
    {
     "data": {
      "text/plain": [
       "0"
      ]
     },
     "execution_count": 119,
     "metadata": {},
     "output_type": "execute_result"
    }
   ],
   "source": [
    "tup2.count(1)"
   ]
  },
  {
   "cell_type": "code",
   "execution_count": 123,
   "metadata": {},
   "outputs": [],
   "source": [
    "str.count??"
   ]
  },
  {
   "cell_type": "code",
   "execution_count": 141,
   "metadata": {},
   "outputs": [
    {
     "data": {
      "text/plain": [
       "2"
      ]
     },
     "execution_count": 141,
     "metadata": {},
     "output_type": "execute_result"
    }
   ],
   "source": [
    "tup=(4,3,4,0,1,2,3)\n",
    "tup.index(4,1,100)"
   ]
  },
  {
   "cell_type": "code",
   "execution_count": 132,
   "metadata": {},
   "outputs": [],
   "source": [
    "tup.index??"
   ]
  },
  {
   "cell_type": "code",
   "execution_count": 157,
   "metadata": {},
   "outputs": [
    {
     "name": "stdout",
     "output_type": "stream",
     "text": [
      "5\n",
      "5\n",
      "1\n",
      "15\n",
      "('python', 'this', 'hi', 'I')\n"
     ]
    }
   ],
   "source": [
    "tup=(1,2,3,4,5)\n",
    "print(len(tup))\n",
    "print(max(tup))\n",
    "print(min(tup))\n",
    "print(sum(tup))\n",
    "tup='hi','I','this','python'\n",
    "print(tuple(sorted(tup,key=len,reverse=True)))"
   ]
  },
  {
   "cell_type": "code",
   "execution_count": 158,
   "metadata": {},
   "outputs": [],
   "source": [
    "sorted??"
   ]
  },
  {
   "cell_type": "code",
   "execution_count": 159,
   "metadata": {},
   "outputs": [
    {
     "name": "stdout",
     "output_type": "stream",
     "text": [
      "130\n"
     ]
    }
   ],
   "source": [
    "tup=10,100,20\n",
    "#WAP to find the sum of the elements\n",
    "print(sum(tup))"
   ]
  },
  {
   "cell_type": "code",
   "execution_count": 160,
   "metadata": {},
   "outputs": [
    {
     "name": "stdout",
     "output_type": "stream",
     "text": [
      "[10, 20, 100]\n"
     ]
    }
   ],
   "source": [
    "def func(x:int)->int:\n",
    "    if x>10:return x\n",
    "    else:return 0\n",
    "print(sorted(tup,key=func))"
   ]
  },
  {
   "cell_type": "code",
   "execution_count": 162,
   "metadata": {},
   "outputs": [
    {
     "name": "stdout",
     "output_type": "stream",
     "text": [
      "Sum of Odd numbers:  9\n",
      "Sum of even numbers:  12\n"
     ]
    }
   ],
   "source": [
    "#WAP to calculate the sum of odd and even numbers\n",
    "tup=(1,2,3,4,5,6)\n",
    "sm_odd=0\n",
    "sm_even=0\n",
    "for x in tup:\n",
    "    if x%2==0:sm_even+=x\n",
    "    else:sm_odd+=x\n",
    "print('Sum of Odd numbers: ',sm_odd)\n",
    "print('Sum of even numbers: ',sm_even)"
   ]
  },
  {
   "cell_type": "code",
   "execution_count": 169,
   "metadata": {},
   "outputs": [
    {
     "name": "stdout",
     "output_type": "stream",
     "text": [
      "Enter a string: mR PyTHoN\n",
      "Mr pYthOn\n"
     ]
    }
   ],
   "source": [
    "#WAP\n",
    "st=input('Enter a string: ')\n",
    "ans=''\n",
    "for ele in st:\n",
    "    e=0\n",
    "    if ele.isspace():e=32 \n",
    "    elif ele.isupper():e=ord(ele)+32\n",
    "    else:e=ord(ele)-32\n",
    "    ans+=chr(e)\n",
    "print(ans)"
   ]
  },
  {
   "cell_type": "code",
   "execution_count": 174,
   "metadata": {},
   "outputs": [
    {
     "name": "stdout",
     "output_type": "stream",
     "text": [
      "Enter a string: Jay\n",
      "jAY\n"
     ]
    }
   ],
   "source": [
    "cap='ABCDEFGHIJKLMNOPQRSTUVWXYZ'\n",
    "small='abcdefghijklmnopqrstuvwxyz'\n",
    "st=input('Enter a string: ')\n",
    "ans=''\n",
    "for ele in st:\n",
    "    e=''\n",
    "    if ele.isspace():e=' '\n",
    "    elif ele.isupper():e=small[cap.find(ele)]\n",
    "    else:e=cap[small.find(ele)]\n",
    "    ans+=e\n",
    "print(ans)"
   ]
  },
  {
   "cell_type": "code",
   "execution_count": null,
   "metadata": {},
   "outputs": [],
   "source": []
  }
 ],
 "metadata": {
  "kernelspec": {
   "display_name": "Python 3",
   "language": "python",
   "name": "python3"
  },
  "language_info": {
   "codemirror_mode": {
    "name": "ipython",
    "version": 3
   },
   "file_extension": ".py",
   "mimetype": "text/x-python",
   "name": "python",
   "nbconvert_exporter": "python",
   "pygments_lexer": "ipython3",
   "version": "3.8.5"
  }
 },
 "nbformat": 4,
 "nbformat_minor": 4
}
