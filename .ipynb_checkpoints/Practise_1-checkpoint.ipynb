{
 "cells": [
  {
   "cell_type": "code",
   "execution_count": 83,
   "id": "8fa1b3b3-3e58-48e6-8be3-4a4bb4c0976e",
   "metadata": {},
   "outputs": [
    {
     "name": "stdin",
     "output_type": "stream",
     "text": [
      "Enter a number:  7\n"
     ]
    },
    {
     "name": "stdout",
     "output_type": "stream",
     "text": [
      "      * \n",
      "     * * \n",
      "    *   * \n",
      "   * * * * \n",
      "  *       * \n",
      " *         * \n",
      "*           * \n"
     ]
    }
   ],
   "source": [
    "#Pattern A\n",
    "n=int(input('Enter a number: '))\n",
    "for i in range(1,n+1):\n",
    "    for k in range(n,i,-1):print(end=' ')\n",
    "    for j in range(1,i+1):\n",
    "        if (i==(n//2)+1):print('*',end=' ')\n",
    "        elif (i!=(n//2)+1 and (j==1 or j==i)):print('*',end=' ')\n",
    "        else:print(end='  ')\n",
    "    print()"
   ]
  },
  {
   "cell_type": "code",
   "execution_count": 79,
   "id": "c01cbd71-7027-48be-a9b4-9e4ad94e2e49",
   "metadata": {},
   "outputs": [
    {
     "name": "stdin",
     "output_type": "stream",
     "text": [
      "Enter a number:  5\n"
     ]
    },
    {
     "name": "stdout",
     "output_type": "stream",
     "text": [
      "* \n",
      "* * \n",
      "* * * \n",
      "* * * * \n",
      "* * * * * \n"
     ]
    }
   ],
   "source": [
    "n=int(input('Enter a number: '))\n",
    "for i in range(1,n+1):\n",
    "    for j in range(1,i+1):\n",
    "        print('*',end=' ')\n",
    "    print()"
   ]
  },
  {
   "cell_type": "code",
   "execution_count": 131,
   "id": "9706c78e-9172-4401-ae62-743b1020a4f7",
   "metadata": {},
   "outputs": [
    {
     "name": "stdin",
     "output_type": "stream",
     "text": [
      "Enter a number:  100\n",
      "Enter iterations:  100\n"
     ]
    },
    {
     "name": "stdout",
     "output_type": "stream",
     "text": [
      "10.0\n"
     ]
    }
   ],
   "source": [
    "# Write your own python program for computing square roots that implements Newton’s Method. Use of inbuilt function, math library or x**0.5\n",
    "# is not allowed.Newton Method is a category of guess-and-check approach. You first guess what the square root might be and then see how close \n",
    "# your guess is. You can use this information to make another guess and continue guessing until you have found the square root \n",
    "# (or a close approximation to it). Suppose x is the number we want the root of and guess is the current guessed answer. The guess can be improved \n",
    "# by using (guess+ x/guess)/2 as the next guess.The program should - 1.\tPrompt the user for the value to find the square root of (x) and the number\n",
    "# of times to improve the guess. 2. Starting with a guess value of x/2, your program should loop the specified number of times\n",
    "#applying Newton’s method \n",
    "# and report the final value of guess.\n",
    "\n",
    "x=int(input('Enter a number: '))\n",
    "iterations=int(input('Enter iterations: '))\n",
    "def square_num(x:int,iterations:int)->float:\n",
    "    guess=x/2\n",
    "    for i in range(iterations):\n",
    "        guess=(guess+x/guess)/2\n",
    "    return guess\n",
    "print(square_num(x,iterations))"
   ]
  },
  {
   "cell_type": "code",
   "execution_count": 135,
   "id": "a9b56f70-5ccb-4b6b-9849-9743c31288ec",
   "metadata": {},
   "outputs": [
    {
     "name": "stdout",
     "output_type": "stream",
     "text": [
      "(1, 0, 0)\n"
     ]
    }
   ],
   "source": [
    "a=1,00,000\n",
    "print(a)"
   ]
  },
  {
   "cell_type": "code",
   "execution_count": 137,
   "id": "8a6a6e95-7355-45ef-b9cb-75248f6f309c",
   "metadata": {},
   "outputs": [
    {
     "name": "stdout",
     "output_type": "stream",
     "text": [
      "hello-how-are-you\n"
     ]
    }
   ],
   "source": [
    "print('hello-'+'how-are-you')"
   ]
  },
  {
   "cell_type": "code",
   "execution_count": 139,
   "id": "7e3c100d-41ad-4115-af9e-bac795015944",
   "metadata": {},
   "outputs": [
    {
     "name": "stdout",
     "output_type": "stream",
     "text": [
      "hello-how-are-you\n"
     ]
    }
   ],
   "source": [
    "print('hello','how','are','you',sep='-')"
   ]
  },
  {
   "cell_type": "code",
   "execution_count": 167,
   "id": "d0f8a694-e237-4640-9b3a-8a71ba04c388",
   "metadata": {},
   "outputs": [
    {
     "name": "stdout",
     "output_type": "stream",
     "text": [
      "False\n"
     ]
    }
   ],
   "source": [
    "a=(1 and 'False')\n",
    "print(a)"
   ]
  },
  {
   "cell_type": "code",
   "execution_count": 149,
   "id": "3e55f329-02f1-4d09-891e-ab2349e95d0f",
   "metadata": {},
   "outputs": [
    {
     "name": "stdout",
     "output_type": "stream",
     "text": [
      "True\n"
     ]
    }
   ],
   "source": [
    "print(bool('True'))"
   ]
  },
  {
   "cell_type": "code",
   "execution_count": 169,
   "id": "efb61dfc-2860-4c18-bd3d-bfce6543a735",
   "metadata": {},
   "outputs": [
    {
     "name": "stdout",
     "output_type": "stream",
     "text": [
      "<class 'str'>\n",
      "This statement is False\n",
      "This is False\n"
     ]
    }
   ],
   "source": [
    "new= (1 and \"True\") and ('False' or Train)\n",
    "print(type(new))\n",
    "str= 'This statement is '+ new\n",
    "print(str)\n",
    "print(\"This is False\" if \"False\" in new else \"This is True\")"
   ]
  },
  {
   "cell_type": "code",
   "execution_count": 1,
   "id": "492be986-7b47-4379-ab22-78b7b775c8cc",
   "metadata": {},
   "outputs": [
    {
     "data": {
      "text/plain": [
       "'abc'"
      ]
     },
     "execution_count": 1,
     "metadata": {},
     "output_type": "execute_result"
    }
   ],
   "source": [
    "\"a\"+\"bc\""
   ]
  },
  {
   "cell_type": "code",
   "execution_count": 5,
   "id": "a9b92090-5962-47b0-bafd-15955f6cca6c",
   "metadata": {},
   "outputs": [
    {
     "name": "stdout",
     "output_type": "stream",
     "text": [
      "True <class 'str'>\n"
     ]
    }
   ],
   "source": [
    "a='True'\n",
    "print(a,type(a))"
   ]
  },
  {
   "cell_type": "code",
   "execution_count": 33,
   "id": "7bcf33da-62bc-475c-9a7d-87a5ff15ee40",
   "metadata": {},
   "outputs": [
    {
     "data": {
      "text/plain": [
       "''"
      ]
     },
     "execution_count": 33,
     "metadata": {},
     "output_type": "execute_result"
    }
   ],
   "source": [
    "a=('' and 'False')\n",
    "a\n",
    "# print(a,type(a),bool(a),type(bool(a)))"
   ]
  },
  {
   "cell_type": "code",
   "execution_count": 35,
   "id": "f79572c6-59e7-4fbd-8539-69fdfe569e11",
   "metadata": {},
   "outputs": [
    {
     "data": {
      "text/plain": [
       "'Hello'"
      ]
     },
     "execution_count": 35,
     "metadata": {},
     "output_type": "execute_result"
    }
   ],
   "source": [
    "abc=\"Hello\"\n",
    "abc"
   ]
  },
  {
   "cell_type": "code",
   "execution_count": 37,
   "id": "433f96a9-6282-4280-917c-679f99b81e7e",
   "metadata": {},
   "outputs": [
    {
     "name": "stdout",
     "output_type": "stream",
     "text": [
      "False\n"
     ]
    }
   ],
   "source": [
    "print(False and 1)"
   ]
  },
  {
   "cell_type": "code",
   "execution_count": 43,
   "id": "538f6259-735c-40d0-b76f-1ef27cd4a7c9",
   "metadata": {},
   "outputs": [
    {
     "name": "stdout",
     "output_type": "stream",
     "text": [
      "16\n"
     ]
    }
   ],
   "source": [
    "a=5\n",
    "b=16\n",
    "b>=a\n",
    "print(b)"
   ]
  },
  {
   "cell_type": "code",
   "execution_count": 50,
   "id": "0103a3a9-0771-4873-bbcc-c944d3a2ef7a",
   "metadata": {},
   "outputs": [],
   "source": [
    "while(0):\n",
    "    print(1)"
   ]
  },
  {
   "cell_type": "code",
   "execution_count": 52,
   "id": "f9e65c1d-06a6-4aa4-b8b2-86f2eb4be18b",
   "metadata": {},
   "outputs": [
    {
     "name": "stdout",
     "output_type": "stream",
     "text": [
      "1\n",
      "2\n",
      "3\n",
      "4\n",
      "5\n"
     ]
    }
   ],
   "source": [
    "num=5\n",
    "count=1\n",
    "while(num):\n",
    "    print(count)\n",
    "    count+=1\n",
    "    num-=1"
   ]
  },
  {
   "cell_type": "code",
   "execution_count": 54,
   "id": "d63d0009-1b52-441a-a3cc-106134389e2c",
   "metadata": {},
   "outputs": [
    {
     "name": "stdout",
     "output_type": "stream",
     "text": [
      "21\n"
     ]
    }
   ],
   "source": [
    "var = 10\n",
    "for i in range(10): \n",
    "    for j in range(2, 10, 1): \n",
    "        if var % 2 == 0: \n",
    "            continue \n",
    "            var += 1 \n",
    "    var+=1\n",
    "else: var+=1\n",
    "print(var)"
   ]
  },
  {
   "cell_type": "code",
   "execution_count": 60,
   "id": "59e3b3d8-362c-4a3d-830c-208e44e19161",
   "metadata": {},
   "outputs": [
    {
     "ename": "TypeError",
     "evalue": "'int' object is not iterable",
     "output_type": "error",
     "traceback": [
      "\u001b[1;31m---------------------------------------------------------------------------\u001b[0m",
      "\u001b[1;31mTypeError\u001b[0m                                 Traceback (most recent call last)",
      "Cell \u001b[1;32mIn[60], line 2\u001b[0m\n\u001b[0;32m      1\u001b[0m x\u001b[38;5;241m=\u001b[39m\u001b[38;5;241m12\u001b[39m\n\u001b[1;32m----> 2\u001b[0m \u001b[38;5;28;01mfor\u001b[39;00m i \u001b[38;5;129;01min\u001b[39;00m x:\n\u001b[0;32m      3\u001b[0m     \u001b[38;5;28mprint\u001b[39m(i)\n",
      "\u001b[1;31mTypeError\u001b[0m: 'int' object is not iterable"
     ]
    }
   ],
   "source": [
    "x=12\n",
    "for i in x:\n",
    "    print(i)"
   ]
  },
  {
   "cell_type": "code",
   "execution_count": 62,
   "id": "e5ad0348-2ddd-4ee4-919c-1282b2811f03",
   "metadata": {},
   "outputs": [
    {
     "name": "stdout",
     "output_type": "stream",
     "text": [
      "2, 1, 0, -1, -2, -3, -4, "
     ]
    }
   ],
   "source": [
    "for num in range(2,-5,-1): \n",
    "    print(num, end=\", \")"
   ]
  },
  {
   "cell_type": "code",
   "execution_count": 64,
   "id": "e90784e6-fe3b-4dce-918b-9dff27293284",
   "metadata": {},
   "outputs": [
    {
     "ename": "SyntaxError",
     "evalue": "cannot assign to True (2545087090.py, line 1)",
     "output_type": "error",
     "traceback": [
      "\u001b[1;36m  Cell \u001b[1;32mIn[64], line 1\u001b[1;36m\u001b[0m\n\u001b[1;33m    True = False\u001b[0m\n\u001b[1;37m    ^\u001b[0m\n\u001b[1;31mSyntaxError\u001b[0m\u001b[1;31m:\u001b[0m cannot assign to True\n"
     ]
    }
   ],
   "source": [
    "True = False\n",
    "while True: \n",
    "    print(True) \n",
    "    break"
   ]
  },
  {
   "cell_type": "code",
   "execution_count": 92,
   "id": "20c5fdee-ebac-49e6-94a0-81568d28e80f",
   "metadata": {},
   "outputs": [
    {
     "ename": "TypeError",
     "evalue": "'float' object cannot be interpreted as an integer",
     "output_type": "error",
     "traceback": [
      "\u001b[1;31m---------------------------------------------------------------------------\u001b[0m",
      "\u001b[1;31mTypeError\u001b[0m                                 Traceback (most recent call last)",
      "Cell \u001b[1;32mIn[92], line 1\u001b[0m\n\u001b[1;32m----> 1\u001b[0m \u001b[38;5;28;01mfor\u001b[39;00m i \u001b[38;5;129;01min\u001b[39;00m \u001b[38;5;28mrange\u001b[39m(\u001b[38;5;28mfloat\u001b[39m(\u001b[38;5;124m'\u001b[39m\u001b[38;5;124minf\u001b[39m\u001b[38;5;124m'\u001b[39m)): \u001b[38;5;28mprint\u001b[39m (i)\n",
      "\u001b[1;31mTypeError\u001b[0m: 'float' object cannot be interpreted as an integer"
     ]
    }
   ],
   "source": [
    "for i in range(float('inf')): print (i)"
   ]
  },
  {
   "cell_type": "code",
   "execution_count": 76,
   "id": "724aa894-68a7-4f22-b915-90ffb364bcac",
   "metadata": {},
   "outputs": [
    {
     "name": "stdout",
     "output_type": "stream",
     "text": [
      "0\n",
      "-2\n"
     ]
    }
   ],
   "source": [
    "x = 2\n",
    "for i in range(x): \n",
    "    x -= 2 \n",
    "    print (x)"
   ]
  },
  {
   "cell_type": "code",
   "execution_count": 86,
   "id": "242a3506-da27-41d6-abbd-733a7a0d120d",
   "metadata": {},
   "outputs": [
    {
     "ename": "ValueError",
     "evalue": "invalid literal for int() with base 10: 'Enter value of x:'",
     "output_type": "error",
     "traceback": [
      "\u001b[1;31m---------------------------------------------------------------------------\u001b[0m",
      "\u001b[1;31mValueError\u001b[0m                                Traceback (most recent call last)",
      "Cell \u001b[1;32mIn[86], line 1\u001b[0m\n\u001b[1;32m----> 1\u001b[0m \u001b[38;5;28mint\u001b[39m(\u001b[38;5;124m\"\u001b[39m\u001b[38;5;124mEnter value of x:\u001b[39m\u001b[38;5;124m\"\u001b[39m) \n\u001b[0;32m      2\u001b[0m \u001b[38;5;28;01mfor\u001b[39;00m i \u001b[38;5;129;01min\u001b[39;00m \u001b[38;5;28mrange\u001b[39m(\u001b[38;5;241m0\u001b[39m, \u001b[38;5;241m10\u001b[39m): \n\u001b[0;32m      3\u001b[0m     \u001b[38;5;28mprint\u001b[39m(\u001b[38;5;124m\"\u001b[39m\u001b[38;5;124mThey are equal\u001b[39m\u001b[38;5;124m\"\u001b[39m) \n",
      "\u001b[1;31mValueError\u001b[0m: invalid literal for int() with base 10: 'Enter value of x:'"
     ]
    }
   ],
   "source": [
    "int(\"Enter value of x:\") \n",
    "for i in range(0, 10): \n",
    "    print(\"They are equal\") \n",
    "else: print( \"They are unequal\")"
   ]
  },
  {
   "cell_type": "code",
   "execution_count": 126,
   "id": "221c4934-48f1-4581-8862-008dc1e0f757",
   "metadata": {},
   "outputs": [
    {
     "ename": "OverflowError",
     "evalue": "cannot convert float infinity to integer",
     "output_type": "error",
     "traceback": [
      "\u001b[1;31m---------------------------------------------------------------------------\u001b[0m",
      "\u001b[1;31mOverflowError\u001b[0m                             Traceback (most recent call last)",
      "Cell \u001b[1;32mIn[126], line 1\u001b[0m\n\u001b[1;32m----> 1\u001b[0m \u001b[38;5;28mprint\u001b[39m(\u001b[38;5;28mint\u001b[39m(\u001b[38;5;28mfloat\u001b[39m(\u001b[38;5;28mfloat\u001b[39m(\u001b[38;5;124m'\u001b[39m\u001b[38;5;124minf\u001b[39m\u001b[38;5;124m'\u001b[39m)\u001b[38;5;241m-\u001b[39m\u001b[38;5;28mfloat\u001b[39m(\u001b[38;5;124m'\u001b[39m\u001b[38;5;124m-inf\u001b[39m\u001b[38;5;124m'\u001b[39m))))\n",
      "\u001b[1;31mOverflowError\u001b[0m: cannot convert float infinity to integer"
     ]
    }
   ],
   "source": [
    "print(float(float('inf')-float('-inf')))"
   ]
  },
  {
   "cell_type": "code",
   "execution_count": 128,
   "id": "69f8924c-6a8a-4a20-a686-e2d0430c6190",
   "metadata": {},
   "outputs": [
    {
     "ename": "ValueError",
     "evalue": "invalid literal for int() with base 10: 'yash'",
     "output_type": "error",
     "traceback": [
      "\u001b[1;31m---------------------------------------------------------------------------\u001b[0m",
      "\u001b[1;31mValueError\u001b[0m                                Traceback (most recent call last)",
      "Cell \u001b[1;32mIn[128], line 1\u001b[0m\n\u001b[1;32m----> 1\u001b[0m \u001b[38;5;28mint\u001b[39m(\u001b[38;5;124m'\u001b[39m\u001b[38;5;124myash\u001b[39m\u001b[38;5;124m'\u001b[39m)\n",
      "\u001b[1;31mValueError\u001b[0m: invalid literal for int() with base 10: 'yash'"
     ]
    }
   ],
   "source": []
  },
  {
   "cell_type": "code",
   "execution_count": 132,
   "id": "e2d788b7-e79c-42c2-a41f-0708c9374217",
   "metadata": {},
   "outputs": [
    {
     "ename": "IndentationError",
     "evalue": "expected an indented block after 'else' statement on line 5 (1841809919.py, line 6)",
     "output_type": "error",
     "traceback": [
      "\u001b[1;36m  Cell \u001b[1;32mIn[132], line 6\u001b[1;36m\u001b[0m\n\u001b[1;33m    print(\"bad\")\u001b[0m\n\u001b[1;37m    ^\u001b[0m\n\u001b[1;31mIndentationError\u001b[0m\u001b[1;31m:\u001b[0m expected an indented block after 'else' statement on line 5\n"
     ]
    }
   ],
   "source": [
    "if (9 < 0) and (0 < -9): \n",
    "    print(\"hello\")\n",
    "elif (9 > 0) or False: \n",
    "    print(\"good\")\n",
    "else:\n",
    "print(\"bad\")"
   ]
  },
  {
   "cell_type": "code",
   "execution_count": 134,
   "id": "f442f4d8-6f92-4e67-becd-2b4815d6b947",
   "metadata": {},
   "outputs": [
    {
     "ename": "SyntaxError",
     "evalue": "invalid syntax (1352384776.py, line 1)",
     "output_type": "error",
     "traceback": [
      "\u001b[1;36m  Cell \u001b[1;32mIn[134], line 1\u001b[1;36m\u001b[0m\n\u001b[1;33m    if x < y: if x > 10: print('foo')\u001b[0m\n\u001b[1;37m              ^\u001b[0m\n\u001b[1;31mSyntaxError\u001b[0m\u001b[1;31m:\u001b[0m invalid syntax\n"
     ]
    }
   ],
   "source": [
    "if x < y: if x > 10: print('foo')"
   ]
  },
  {
   "cell_type": "code",
   "execution_count": 142,
   "id": "cdf463db-0c19-4ded-b0f6-1ca677998d74",
   "metadata": {},
   "outputs": [
    {
     "name": "stdout",
     "output_type": "stream",
     "text": [
      "0 0 0\n"
     ]
    }
   ],
   "source": [
    "a=b=0\n",
    "print(a,b,c)"
   ]
  },
  {
   "cell_type": "code",
   "execution_count": 148,
   "id": "98c28b44-a7a6-4e28-8f10-38d051ddcf7e",
   "metadata": {},
   "outputs": [
    {
     "name": "stdout",
     "output_type": "stream",
     "text": [
      "fib of 0 = 1\n",
      "fib called 1 times.\n",
      "fib of 1 = 1\n",
      "fib called 1 times.\n",
      "fib of 2 = 2\n",
      "fib called 3 times.\n",
      "fib of 3 = 3\n",
      "fib called 5 times.\n",
      "fib of 4 = 5\n",
      "fib called 9 times.\n",
      "fib of 5 = 8\n",
      "fib called 15 times.\n",
      "fib of 6 = 13\n",
      "fib called 25 times.\n"
     ]
    }
   ],
   "source": [
    "def fib(x): \n",
    "    global num_fib_calls \n",
    "    num_fib_calls += 1 \n",
    "    if x == 0 or x == 1: \n",
    "        return 1 \n",
    "    else: \n",
    "        return fib(x-1) + fib(x-2)\n",
    "\n",
    "def test_fib(n): \n",
    "    for i in range(n+1): \n",
    "        global num_fib_calls \n",
    "        num_fib_calls = 0 \n",
    "        print('fib of', i, '=', fib(i)) \n",
    "        print('fib called', num_fib_calls, 'times.')\n",
    "\n",
    "test_fib(6)"
   ]
  },
  {
   "cell_type": "code",
   "execution_count": 152,
   "id": "99557d00-1ff5-4ebc-8440-eaff88aad650",
   "metadata": {},
   "outputs": [
    {
     "name": "stdout",
     "output_type": "stream",
     "text": [
      "1\n"
     ]
    }
   ],
   "source": [
    "def func():\n",
    "    global a\n",
    "    a+=1\n",
    "func()\n",
    "print(a)"
   ]
  },
  {
   "cell_type": "code",
   "execution_count": 165,
   "id": "9f7f4181-ed77-42ac-8c00-2ad5b7c0ba6d",
   "metadata": {},
   "outputs": [
    {
     "ename": "NameError",
     "evalue": "name 'f1' is not defined",
     "output_type": "error",
     "traceback": [
      "\u001b[1;31m---------------------------------------------------------------------------\u001b[0m",
      "\u001b[1;31mNameError\u001b[0m                                 Traceback (most recent call last)",
      "Cell \u001b[1;32mIn[165], line 1\u001b[0m\n\u001b[1;32m----> 1\u001b[0m \u001b[38;5;28mprint\u001b[39m(f1())\n\u001b[0;32m      2\u001b[0m \u001b[38;5;28;01mdef\u001b[39;00m \u001b[38;5;21mf1\u001b[39m():\n\u001b[0;32m      3\u001b[0m     \u001b[38;5;28mprint\u001b[39m(\u001b[38;5;124m'\u001b[39m\u001b[38;5;124mhello\u001b[39m\u001b[38;5;124m'\u001b[39m)\n",
      "\u001b[1;31mNameError\u001b[0m: name 'f1' is not defined"
     ]
    }
   ],
   "source": [
    "print(f1())\n",
    "def f1():\n",
    "    print('hello')"
   ]
  },
  {
   "cell_type": "code",
   "execution_count": 171,
   "id": "ccab3c7f-605f-4b1b-88e9-344a7742e141",
   "metadata": {},
   "outputs": [
    {
     "name": "stdout",
     "output_type": "stream",
     "text": [
      "0\n",
      "1\n",
      "2\n",
      "3\n",
      "4\n",
      "5\n",
      "6\n",
      "7\n",
      "8\n",
      "9\n",
      "11 5\n"
     ]
    }
   ],
   "source": [
    "x=0\n",
    "count=0\n",
    "for x in range(10): \n",
    "    print(x)\n",
    "    while x<15: \n",
    "        if x<0: \n",
    "            pass \n",
    "        elif x%2==0: \n",
    "            x+=1 \n",
    "            continue \n",
    "        elif x%3==0: \n",
    "            x+=1 \n",
    "            continue \n",
    "        elif count==5: \n",
    "            break \n",
    "        count+=1\n",
    "print(x,count)"
   ]
  },
  {
   "cell_type": "code",
   "execution_count": 1,
   "id": "fc27c70a-660b-4445-bebe-493028d917e6",
   "metadata": {},
   "outputs": [
    {
     "name": "stdin",
     "output_type": "stream",
     "text": [
      "Enter number 1:  1\n",
      "Enter number 2:  2\n"
     ]
    },
    {
     "name": "stdout",
     "output_type": "stream",
     "text": [
      "Sum of two numbers is: 3\n"
     ]
    }
   ],
   "source": [
    "# Write a Python program to add 2 Numbers with user input.\n",
    "a=int(input('Enter number 1: '))\n",
    "b=int(input('Enter number 2: '))\n",
    "print('Sum of two numbers is:',a+b)"
   ]
  },
  {
   "cell_type": "code",
   "execution_count": 5,
   "id": "c31e450a-4ab9-4680-90a0-6ce8246709e2",
   "metadata": {},
   "outputs": [
    {
     "name": "stdin",
     "output_type": "stream",
     "text": [
      "Enter radius of circle:  3\n"
     ]
    },
    {
     "name": "stdout",
     "output_type": "stream",
     "text": [
      "Area of circle is: 28.27\n"
     ]
    }
   ],
   "source": [
    " # Write a Python program to find the area of Circle.\n",
    "import math as m\n",
    "radius=float(input('Enter radius of circle: '))\n",
    "area=m.pi*radius**2\n",
    "print(f'Area of circle is: {area:.2f}')"
   ]
  },
  {
   "cell_type": "code",
   "execution_count": 7,
   "id": "dda5680d-4e5d-4e1b-9396-00e976cf07e7",
   "metadata": {},
   "outputs": [
    {
     "name": "stdin",
     "output_type": "stream",
     "text": [
      "Enter base of triangle:  5\n",
      "Enter height of triangle:  10\n"
     ]
    },
    {
     "name": "stdout",
     "output_type": "stream",
     "text": [
      "Area of triangle is: 25.0\n"
     ]
    }
   ],
   "source": [
    " # Write a Python program to find the area of Triangle.\n",
    "base=float(input('Enter base of triangle: '))\n",
    "height=float(input('Enter height of triangle: '))\n",
    "area=0.5*base*height\n",
    "print(f'Area of triangle is: {area}')"
   ]
  },
  {
   "cell_type": "code",
   "execution_count": 9,
   "id": "46212e37-1399-4d57-95ad-994d720d0b41",
   "metadata": {},
   "outputs": [
    {
     "name": "stdin",
     "output_type": "stream",
     "text": [
      "Enter value of base 1:  3\n",
      "Enter value of base 2:  6\n",
      "Enter value of height:  7\n"
     ]
    },
    {
     "name": "stdout",
     "output_type": "stream",
     "text": [
      "Area of trapezoid is: 31.50 units\n"
     ]
    }
   ],
   "source": [
    " # Write a Python program to calculate the area of a trapezoid.\n",
    "b1=float(input('Enter value of base 1: '))\n",
    "b2=float(input('Enter value of base 2: '))\n",
    "height=float(input('Enter value of height: '))\n",
    "area=((b1+b2)/2)*height\n",
    "print(f'Area of trapezoid is: {area:.2f} units')"
   ]
  },
  {
   "cell_type": "code",
   "execution_count": 19,
   "id": "23e86db3-4f4d-41ff-8bbc-e53359c9f1f9",
   "metadata": {},
   "outputs": [
    {
     "name": "stdin",
     "output_type": "stream",
     "text": [
      "Enter radius of cylinder:  3\n",
      "Enter height of cylinder:  7\n"
     ]
    },
    {
     "name": "stdout",
     "output_type": "stream",
     "text": [
      "197.92 188.5\n"
     ]
    }
   ],
   "source": [
    " # Write a Python program to calculate surface volume and area of a cylinder.\n",
    "import math as m\n",
    "rad=float(input('Enter radius of cylinder: '))\n",
    "height=float(input('Enter height of cylinder: '))\n",
    "vol=m.pi*rad**2*height\n",
    "area=2*m.pi*rad*height+2*m.pi*rad**2\n",
    "print(round(vol,2),round(area,2))"
   ]
  },
  {
   "cell_type": "code",
   "execution_count": 35,
   "id": "aad91ac6-e29f-476f-8d3c-adc1c3c2a916",
   "metadata": {},
   "outputs": [
    {
     "name": "stdin",
     "output_type": "stream",
     "text": [
      "Enter temprature:  212\n"
     ]
    },
    {
     "name": "stdout",
     "output_type": "stream",
     "text": [
      "100.0 ℃\n"
     ]
    }
   ],
   "source": [
    " # Write a Python program to convert Fahrenheit to Celsius and vice versa.\n",
    "def CToF(temp:float)->float:\n",
    "    return round(temp*9/5+32,2),'℉'\n",
    "def FToC(temp:float)->float:\n",
    "    return round((temp-32)*5/9,2),'℃'\n",
    "temp=float(input('Enter temprature: '))\n",
    "a,b=FToC(temp)\n",
    "print(a,b)"
   ]
  },
  {
   "cell_type": "code",
   "execution_count": 47,
   "id": "a4b3d9c7-4d90-40c3-8b6b-a7fa8130dff7",
   "metadata": {},
   "outputs": [
    {
     "name": "stdin",
     "output_type": "stream",
     "text": [
      "Enter a number:  3\n",
      "Enter answer:  81\n"
     ]
    },
    {
     "name": "stdout",
     "output_type": "stream",
     "text": [
      "4\n"
     ]
    }
   ],
   "source": [
    " # Write a Python program to find an integer exponent x such that a^x = n\n",
    "import math as m\n",
    "n=int(input('Enter a number: '))\n",
    "ans=int(input('Enter answer: '))\n",
    "exp=int(m.log(ans,n))\n",
    "print(exp)"
   ]
  },
  {
   "cell_type": "code",
   "execution_count": null,
   "id": "82b710d4-aa26-4796-b2f4-3bb9480db0bf",
   "metadata": {},
   "outputs": [],
   "source": []
  }
 ],
 "metadata": {
  "kernelspec": {
   "display_name": "Python 3 (ipykernel)",
   "language": "python",
   "name": "python3"
  },
  "language_info": {
   "codemirror_mode": {
    "name": "ipython",
    "version": 3
   },
   "file_extension": ".py",
   "mimetype": "text/x-python",
   "name": "python",
   "nbconvert_exporter": "python",
   "pygments_lexer": "ipython3",
   "version": "3.12.4"
  }
 },
 "nbformat": 4,
 "nbformat_minor": 5
}
