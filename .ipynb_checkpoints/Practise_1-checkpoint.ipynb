{
 "cells": [
  {
   "cell_type": "code",
   "execution_count": 83,
   "id": "8fa1b3b3-3e58-48e6-8be3-4a4bb4c0976e",
   "metadata": {},
   "outputs": [
    {
     "name": "stdin",
     "output_type": "stream",
     "text": [
      "Enter a number:  7\n"
     ]
    },
    {
     "name": "stdout",
     "output_type": "stream",
     "text": [
      "      * \n",
      "     * * \n",
      "    *   * \n",
      "   * * * * \n",
      "  *       * \n",
      " *         * \n",
      "*           * \n"
     ]
    }
   ],
   "source": [
    "#Pattern A\n",
    "n=int(input('Enter a number: '))\n",
    "for i in range(1,n+1):\n",
    "    for k in range(n,i,-1):print(end=' ')\n",
    "    for j in range(1,i+1):\n",
    "        if (i==(n//2)+1):print('*',end=' ')\n",
    "        elif (i!=(n//2)+1 and (j==1 or j==i)):print('*',end=' ')\n",
    "        else:print(end='  ')\n",
    "    print()"
   ]
  },
  {
   "cell_type": "code",
   "execution_count": 79,
   "id": "c01cbd71-7027-48be-a9b4-9e4ad94e2e49",
   "metadata": {},
   "outputs": [
    {
     "name": "stdin",
     "output_type": "stream",
     "text": [
      "Enter a number:  5\n"
     ]
    },
    {
     "name": "stdout",
     "output_type": "stream",
     "text": [
      "* \n",
      "* * \n",
      "* * * \n",
      "* * * * \n",
      "* * * * * \n"
     ]
    }
   ],
   "source": [
    "n=int(input('Enter a number: '))\n",
    "for i in range(1,n+1):\n",
    "    for j in range(1,i+1):\n",
    "        print('*',end=' ')\n",
    "    print()"
   ]
  },
  {
   "cell_type": "code",
   "execution_count": 131,
   "id": "9706c78e-9172-4401-ae62-743b1020a4f7",
   "metadata": {},
   "outputs": [
    {
     "name": "stdin",
     "output_type": "stream",
     "text": [
      "Enter a number:  100\n",
      "Enter iterations:  100\n"
     ]
    },
    {
     "name": "stdout",
     "output_type": "stream",
     "text": [
      "10.0\n"
     ]
    }
   ],
   "source": [
    "# Write your own python program for computing square roots that implements Newton’s Method. Use of inbuilt function, math library or x**0.5\n",
    "# is not allowed.Newton Method is a category of guess-and-check approach. You first guess what the square root might be and then see how close \n",
    "# your guess is. You can use this information to make another guess and continue guessing until you have found the square root \n",
    "# (or a close approximation to it). Suppose x is the number we want the root of and guess is the current guessed answer. The guess can be improved \n",
    "# by using (guess+ x/guess)/2 as the next guess.The program should - 1.\tPrompt the user for the value to find the square root of (x) and the number\n",
    "# of times to improve the guess. 2. Starting with a guess value of x/2, your program should loop the specified number of times\n",
    "#applying Newton’s method \n",
    "# and report the final value of guess.\n",
    "\n",
    "x=int(input('Enter a number: '))\n",
    "iterations=int(input('Enter iterations: '))\n",
    "def square_num(x:int,iterations:int)->float:\n",
    "    guess=x/2\n",
    "    for i in range(iterations):\n",
    "        guess=(guess+x/guess)/2\n",
    "    return guess\n",
    "print(square_num(x,iterations))"
   ]
  },
  {
   "cell_type": "code",
   "execution_count": 135,
   "id": "a9b56f70-5ccb-4b6b-9849-9743c31288ec",
   "metadata": {},
   "outputs": [
    {
     "name": "stdout",
     "output_type": "stream",
     "text": [
      "(1, 0, 0)\n"
     ]
    }
   ],
   "source": [
    "a=1,00,000\n",
    "print(a)"
   ]
  },
  {
   "cell_type": "code",
   "execution_count": 137,
   "id": "8a6a6e95-7355-45ef-b9cb-75248f6f309c",
   "metadata": {},
   "outputs": [
    {
     "name": "stdout",
     "output_type": "stream",
     "text": [
      "hello-how-are-you\n"
     ]
    }
   ],
   "source": [
    "print('hello-'+'how-are-you')"
   ]
  },
  {
   "cell_type": "code",
   "execution_count": 139,
   "id": "7e3c100d-41ad-4115-af9e-bac795015944",
   "metadata": {},
   "outputs": [
    {
     "name": "stdout",
     "output_type": "stream",
     "text": [
      "hello-how-are-you\n"
     ]
    }
   ],
   "source": [
    "print('hello','how','are','you',sep='-')"
   ]
  },
  {
   "cell_type": "code",
   "execution_count": 267,
   "id": "d0f8a694-e237-4640-9b3a-8a71ba04c388",
   "metadata": {},
   "outputs": [
    {
     "name": "stdout",
     "output_type": "stream",
     "text": [
      "20\n",
      "20\n"
     ]
    }
   ],
   "source": [
    "# global x\n",
    "def fun():\n",
    "    global x\n",
    "    x=20\n",
    "    print(x)\n",
    "x=50\n",
    "fun()\n",
    "print(x)"
   ]
  },
  {
   "cell_type": "code",
   "execution_count": 265,
   "id": "3e55f329-02f1-4d09-891e-ab2349e95d0f",
   "metadata": {},
   "outputs": [
    {
     "name": "stdout",
     "output_type": "stream",
     "text": [
      "20\n",
      "20\n"
     ]
    }
   ],
   "source": []
  },
  {
   "cell_type": "code",
   "execution_count": 169,
   "id": "efb61dfc-2860-4c18-bd3d-bfce6543a735",
   "metadata": {},
   "outputs": [
    {
     "name": "stdout",
     "output_type": "stream",
     "text": [
      "<class 'str'>\n",
      "This statement is False\n",
      "This is False\n"
     ]
    }
   ],
   "source": [
    "new= (1 and \"True\") and ('False' or Train)\n",
    "print(type(new))\n",
    "str= 'This statement is '+ new\n",
    "print(str)\n",
    "print(\"This is False\" if \"False\" in new else \"This is True\")"
   ]
  },
  {
   "cell_type": "code",
   "execution_count": 1,
   "id": "492be986-7b47-4379-ab22-78b7b775c8cc",
   "metadata": {},
   "outputs": [
    {
     "data": {
      "text/plain": [
       "'abc'"
      ]
     },
     "execution_count": 1,
     "metadata": {},
     "output_type": "execute_result"
    }
   ],
   "source": [
    "\"a\"+\"bc\""
   ]
  },
  {
   "cell_type": "code",
   "execution_count": 5,
   "id": "a9b92090-5962-47b0-bafd-15955f6cca6c",
   "metadata": {},
   "outputs": [
    {
     "name": "stdout",
     "output_type": "stream",
     "text": [
      "True <class 'str'>\n"
     ]
    }
   ],
   "source": [
    "a='True'\n",
    "print(a,type(a))"
   ]
  },
  {
   "cell_type": "code",
   "execution_count": 33,
   "id": "7bcf33da-62bc-475c-9a7d-87a5ff15ee40",
   "metadata": {},
   "outputs": [
    {
     "data": {
      "text/plain": [
       "''"
      ]
     },
     "execution_count": 33,
     "metadata": {},
     "output_type": "execute_result"
    }
   ],
   "source": [
    "a=('' and 'False')\n",
    "a\n",
    "# print(a,type(a),bool(a),type(bool(a)))"
   ]
  },
  {
   "cell_type": "code",
   "execution_count": 35,
   "id": "f79572c6-59e7-4fbd-8539-69fdfe569e11",
   "metadata": {},
   "outputs": [
    {
     "data": {
      "text/plain": [
       "'Hello'"
      ]
     },
     "execution_count": 35,
     "metadata": {},
     "output_type": "execute_result"
    }
   ],
   "source": [
    "abc=\"Hello\"\n",
    "abc"
   ]
  },
  {
   "cell_type": "code",
   "execution_count": 37,
   "id": "433f96a9-6282-4280-917c-679f99b81e7e",
   "metadata": {},
   "outputs": [
    {
     "name": "stdout",
     "output_type": "stream",
     "text": [
      "False\n"
     ]
    }
   ],
   "source": [
    "print(False and 1)"
   ]
  },
  {
   "cell_type": "code",
   "execution_count": 43,
   "id": "538f6259-735c-40d0-b76f-1ef27cd4a7c9",
   "metadata": {},
   "outputs": [
    {
     "name": "stdout",
     "output_type": "stream",
     "text": [
      "16\n"
     ]
    }
   ],
   "source": [
    "a=5\n",
    "b=16\n",
    "b>=a\n",
    "print(b)"
   ]
  },
  {
   "cell_type": "code",
   "execution_count": 50,
   "id": "0103a3a9-0771-4873-bbcc-c944d3a2ef7a",
   "metadata": {},
   "outputs": [],
   "source": [
    "while(0):\n",
    "    print(1)"
   ]
  },
  {
   "cell_type": "code",
   "execution_count": 52,
   "id": "f9e65c1d-06a6-4aa4-b8b2-86f2eb4be18b",
   "metadata": {},
   "outputs": [
    {
     "name": "stdout",
     "output_type": "stream",
     "text": [
      "1\n",
      "2\n",
      "3\n",
      "4\n",
      "5\n"
     ]
    }
   ],
   "source": [
    "num=5\n",
    "count=1\n",
    "while(num):\n",
    "    print(count)\n",
    "    count+=1\n",
    "    num-=1"
   ]
  },
  {
   "cell_type": "code",
   "execution_count": 54,
   "id": "d63d0009-1b52-441a-a3cc-106134389e2c",
   "metadata": {},
   "outputs": [
    {
     "name": "stdout",
     "output_type": "stream",
     "text": [
      "21\n"
     ]
    }
   ],
   "source": [
    "var = 10\n",
    "for i in range(10): \n",
    "    for j in range(2, 10, 1): \n",
    "        if var % 2 == 0: \n",
    "            continue \n",
    "            var += 1 \n",
    "    var+=1\n",
    "else: var+=1\n",
    "print(var)"
   ]
  },
  {
   "cell_type": "code",
   "execution_count": 60,
   "id": "59e3b3d8-362c-4a3d-830c-208e44e19161",
   "metadata": {},
   "outputs": [
    {
     "ename": "TypeError",
     "evalue": "'int' object is not iterable",
     "output_type": "error",
     "traceback": [
      "\u001b[1;31m---------------------------------------------------------------------------\u001b[0m",
      "\u001b[1;31mTypeError\u001b[0m                                 Traceback (most recent call last)",
      "Cell \u001b[1;32mIn[60], line 2\u001b[0m\n\u001b[0;32m      1\u001b[0m x\u001b[38;5;241m=\u001b[39m\u001b[38;5;241m12\u001b[39m\n\u001b[1;32m----> 2\u001b[0m \u001b[38;5;28;01mfor\u001b[39;00m i \u001b[38;5;129;01min\u001b[39;00m x:\n\u001b[0;32m      3\u001b[0m     \u001b[38;5;28mprint\u001b[39m(i)\n",
      "\u001b[1;31mTypeError\u001b[0m: 'int' object is not iterable"
     ]
    }
   ],
   "source": [
    "x=12\n",
    "for i in x:\n",
    "    print(i)"
   ]
  },
  {
   "cell_type": "code",
   "execution_count": 62,
   "id": "e5ad0348-2ddd-4ee4-919c-1282b2811f03",
   "metadata": {},
   "outputs": [
    {
     "name": "stdout",
     "output_type": "stream",
     "text": [
      "2, 1, 0, -1, -2, -3, -4, "
     ]
    }
   ],
   "source": [
    "for num in range(2,-5,-1): \n",
    "    print(num, end=\", \")"
   ]
  },
  {
   "cell_type": "code",
   "execution_count": 64,
   "id": "e90784e6-fe3b-4dce-918b-9dff27293284",
   "metadata": {},
   "outputs": [
    {
     "ename": "SyntaxError",
     "evalue": "cannot assign to True (2545087090.py, line 1)",
     "output_type": "error",
     "traceback": [
      "\u001b[1;36m  Cell \u001b[1;32mIn[64], line 1\u001b[1;36m\u001b[0m\n\u001b[1;33m    True = False\u001b[0m\n\u001b[1;37m    ^\u001b[0m\n\u001b[1;31mSyntaxError\u001b[0m\u001b[1;31m:\u001b[0m cannot assign to True\n"
     ]
    }
   ],
   "source": [
    "True = False\n",
    "while True: \n",
    "    print(True) \n",
    "    break"
   ]
  },
  {
   "cell_type": "code",
   "execution_count": 92,
   "id": "20c5fdee-ebac-49e6-94a0-81568d28e80f",
   "metadata": {},
   "outputs": [
    {
     "ename": "TypeError",
     "evalue": "'float' object cannot be interpreted as an integer",
     "output_type": "error",
     "traceback": [
      "\u001b[1;31m---------------------------------------------------------------------------\u001b[0m",
      "\u001b[1;31mTypeError\u001b[0m                                 Traceback (most recent call last)",
      "Cell \u001b[1;32mIn[92], line 1\u001b[0m\n\u001b[1;32m----> 1\u001b[0m \u001b[38;5;28;01mfor\u001b[39;00m i \u001b[38;5;129;01min\u001b[39;00m \u001b[38;5;28mrange\u001b[39m(\u001b[38;5;28mfloat\u001b[39m(\u001b[38;5;124m'\u001b[39m\u001b[38;5;124minf\u001b[39m\u001b[38;5;124m'\u001b[39m)): \u001b[38;5;28mprint\u001b[39m (i)\n",
      "\u001b[1;31mTypeError\u001b[0m: 'float' object cannot be interpreted as an integer"
     ]
    }
   ],
   "source": [
    "for i in range(float('inf')): print (i)"
   ]
  },
  {
   "cell_type": "code",
   "execution_count": 76,
   "id": "724aa894-68a7-4f22-b915-90ffb364bcac",
   "metadata": {},
   "outputs": [
    {
     "name": "stdout",
     "output_type": "stream",
     "text": [
      "0\n",
      "-2\n"
     ]
    }
   ],
   "source": [
    "x = 2\n",
    "for i in range(x): \n",
    "    x -= 2 \n",
    "    print (x)"
   ]
  },
  {
   "cell_type": "code",
   "execution_count": 86,
   "id": "242a3506-da27-41d6-abbd-733a7a0d120d",
   "metadata": {},
   "outputs": [
    {
     "ename": "ValueError",
     "evalue": "invalid literal for int() with base 10: 'Enter value of x:'",
     "output_type": "error",
     "traceback": [
      "\u001b[1;31m---------------------------------------------------------------------------\u001b[0m",
      "\u001b[1;31mValueError\u001b[0m                                Traceback (most recent call last)",
      "Cell \u001b[1;32mIn[86], line 1\u001b[0m\n\u001b[1;32m----> 1\u001b[0m \u001b[38;5;28mint\u001b[39m(\u001b[38;5;124m\"\u001b[39m\u001b[38;5;124mEnter value of x:\u001b[39m\u001b[38;5;124m\"\u001b[39m) \n\u001b[0;32m      2\u001b[0m \u001b[38;5;28;01mfor\u001b[39;00m i \u001b[38;5;129;01min\u001b[39;00m \u001b[38;5;28mrange\u001b[39m(\u001b[38;5;241m0\u001b[39m, \u001b[38;5;241m10\u001b[39m): \n\u001b[0;32m      3\u001b[0m     \u001b[38;5;28mprint\u001b[39m(\u001b[38;5;124m\"\u001b[39m\u001b[38;5;124mThey are equal\u001b[39m\u001b[38;5;124m\"\u001b[39m) \n",
      "\u001b[1;31mValueError\u001b[0m: invalid literal for int() with base 10: 'Enter value of x:'"
     ]
    }
   ],
   "source": [
    "int(\"Enter value of x:\") \n",
    "for i in range(0, 10): \n",
    "    print(\"They are equal\") \n",
    "else: print( \"They are unequal\")"
   ]
  },
  {
   "cell_type": "code",
   "execution_count": 126,
   "id": "221c4934-48f1-4581-8862-008dc1e0f757",
   "metadata": {},
   "outputs": [
    {
     "ename": "OverflowError",
     "evalue": "cannot convert float infinity to integer",
     "output_type": "error",
     "traceback": [
      "\u001b[1;31m---------------------------------------------------------------------------\u001b[0m",
      "\u001b[1;31mOverflowError\u001b[0m                             Traceback (most recent call last)",
      "Cell \u001b[1;32mIn[126], line 1\u001b[0m\n\u001b[1;32m----> 1\u001b[0m \u001b[38;5;28mprint\u001b[39m(\u001b[38;5;28mint\u001b[39m(\u001b[38;5;28mfloat\u001b[39m(\u001b[38;5;28mfloat\u001b[39m(\u001b[38;5;124m'\u001b[39m\u001b[38;5;124minf\u001b[39m\u001b[38;5;124m'\u001b[39m)\u001b[38;5;241m-\u001b[39m\u001b[38;5;28mfloat\u001b[39m(\u001b[38;5;124m'\u001b[39m\u001b[38;5;124m-inf\u001b[39m\u001b[38;5;124m'\u001b[39m))))\n",
      "\u001b[1;31mOverflowError\u001b[0m: cannot convert float infinity to integer"
     ]
    }
   ],
   "source": [
    "print(float(float('inf')-float('-inf')))"
   ]
  },
  {
   "cell_type": "code",
   "execution_count": 128,
   "id": "69f8924c-6a8a-4a20-a686-e2d0430c6190",
   "metadata": {},
   "outputs": [
    {
     "ename": "ValueError",
     "evalue": "invalid literal for int() with base 10: 'yash'",
     "output_type": "error",
     "traceback": [
      "\u001b[1;31m---------------------------------------------------------------------------\u001b[0m",
      "\u001b[1;31mValueError\u001b[0m                                Traceback (most recent call last)",
      "Cell \u001b[1;32mIn[128], line 1\u001b[0m\n\u001b[1;32m----> 1\u001b[0m \u001b[38;5;28mint\u001b[39m(\u001b[38;5;124m'\u001b[39m\u001b[38;5;124myash\u001b[39m\u001b[38;5;124m'\u001b[39m)\n",
      "\u001b[1;31mValueError\u001b[0m: invalid literal for int() with base 10: 'yash'"
     ]
    }
   ],
   "source": []
  },
  {
   "cell_type": "code",
   "execution_count": 132,
   "id": "e2d788b7-e79c-42c2-a41f-0708c9374217",
   "metadata": {},
   "outputs": [
    {
     "ename": "IndentationError",
     "evalue": "expected an indented block after 'else' statement on line 5 (1841809919.py, line 6)",
     "output_type": "error",
     "traceback": [
      "\u001b[1;36m  Cell \u001b[1;32mIn[132], line 6\u001b[1;36m\u001b[0m\n\u001b[1;33m    print(\"bad\")\u001b[0m\n\u001b[1;37m    ^\u001b[0m\n\u001b[1;31mIndentationError\u001b[0m\u001b[1;31m:\u001b[0m expected an indented block after 'else' statement on line 5\n"
     ]
    }
   ],
   "source": [
    "if (9 < 0) and (0 < -9): \n",
    "    print(\"hello\")\n",
    "elif (9 > 0) or False: \n",
    "    print(\"good\")\n",
    "else:\n",
    "print(\"bad\")"
   ]
  },
  {
   "cell_type": "code",
   "execution_count": 134,
   "id": "f442f4d8-6f92-4e67-becd-2b4815d6b947",
   "metadata": {},
   "outputs": [
    {
     "ename": "SyntaxError",
     "evalue": "invalid syntax (1352384776.py, line 1)",
     "output_type": "error",
     "traceback": [
      "\u001b[1;36m  Cell \u001b[1;32mIn[134], line 1\u001b[1;36m\u001b[0m\n\u001b[1;33m    if x < y: if x > 10: print('foo')\u001b[0m\n\u001b[1;37m              ^\u001b[0m\n\u001b[1;31mSyntaxError\u001b[0m\u001b[1;31m:\u001b[0m invalid syntax\n"
     ]
    }
   ],
   "source": [
    "if x < y: if x > 10: print('foo')"
   ]
  },
  {
   "cell_type": "code",
   "execution_count": 142,
   "id": "cdf463db-0c19-4ded-b0f6-1ca677998d74",
   "metadata": {},
   "outputs": [
    {
     "name": "stdout",
     "output_type": "stream",
     "text": [
      "0 0 0\n"
     ]
    }
   ],
   "source": [
    "a=b=0\n",
    "\n",
    "print(a,b,c)"
   ]
  },
  {
   "cell_type": "code",
   "execution_count": 273,
   "id": "98c28b44-a7a6-4e28-8f10-38d051ddcf7e",
   "metadata": {},
   "outputs": [
    {
     "name": "stdout",
     "output_type": "stream",
     "text": [
      "fib of 0 = 1\n",
      "fib called 1 times.\n",
      "fib of 1 = 1\n",
      "fib called 1 times.\n",
      "fib of 2 = 2\n",
      "fib called 3 times.\n",
      "fib of 3 = 3\n",
      "fib called 5 times.\n",
      "fib of 4 = 5\n",
      "fib called 9 times.\n",
      "fib of 5 = 8\n",
      "fib called 15 times.\n",
      "fib of 6 = 13\n",
      "fib called 25 times.\n"
     ]
    }
   ],
   "source": [
    "# global num_fib_calls\n",
    "# num_fib_calls=0\n",
    "def fib(x): \n",
    "    global num_fib_calls \n",
    "    num_fib_calls += 1 \n",
    "    if x == 0 or x == 1: \n",
    "        return 1 \n",
    "    else: \n",
    "        return fib(x-1) + fib(x-2)\n",
    "\n",
    "def test_fib(n): \n",
    "    for i in range(n+1): \n",
    "        global num_fib_calls \n",
    "        num_fib_calls = 0 \n",
    "        print('fib of', i, '=', fib(i)) \n",
    "        print('fib called', num_fib_calls, 'times.')\n",
    "\n",
    "test_fib(6)"
   ]
  },
  {
   "cell_type": "code",
   "execution_count": 152,
   "id": "99557d00-1ff5-4ebc-8440-eaff88aad650",
   "metadata": {},
   "outputs": [
    {
     "name": "stdout",
     "output_type": "stream",
     "text": [
      "1\n"
     ]
    }
   ],
   "source": [
    "def func():\n",
    "    global a\n",
    "    a+=1\n",
    "func()\n",
    "print(a)"
   ]
  },
  {
   "cell_type": "code",
   "execution_count": 165,
   "id": "9f7f4181-ed77-42ac-8c00-2ad5b7c0ba6d",
   "metadata": {},
   "outputs": [
    {
     "ename": "NameError",
     "evalue": "name 'f1' is not defined",
     "output_type": "error",
     "traceback": [
      "\u001b[1;31m---------------------------------------------------------------------------\u001b[0m",
      "\u001b[1;31mNameError\u001b[0m                                 Traceback (most recent call last)",
      "Cell \u001b[1;32mIn[165], line 1\u001b[0m\n\u001b[1;32m----> 1\u001b[0m \u001b[38;5;28mprint\u001b[39m(f1())\n\u001b[0;32m      2\u001b[0m \u001b[38;5;28;01mdef\u001b[39;00m \u001b[38;5;21mf1\u001b[39m():\n\u001b[0;32m      3\u001b[0m     \u001b[38;5;28mprint\u001b[39m(\u001b[38;5;124m'\u001b[39m\u001b[38;5;124mhello\u001b[39m\u001b[38;5;124m'\u001b[39m)\n",
      "\u001b[1;31mNameError\u001b[0m: name 'f1' is not defined"
     ]
    }
   ],
   "source": [
    "print(f1())\n",
    "def f1():\n",
    "    print('hello')"
   ]
  },
  {
   "cell_type": "code",
   "execution_count": 171,
   "id": "ccab3c7f-605f-4b1b-88e9-344a7742e141",
   "metadata": {},
   "outputs": [
    {
     "name": "stdout",
     "output_type": "stream",
     "text": [
      "0\n",
      "1\n",
      "2\n",
      "3\n",
      "4\n",
      "5\n",
      "6\n",
      "7\n",
      "8\n",
      "9\n",
      "11 5\n"
     ]
    }
   ],
   "source": [
    "x=0\n",
    "count=0\n",
    "for x in range(10): \n",
    "    print(x)\n",
    "    while x<15: \n",
    "        if x<0: \n",
    "            pass \n",
    "        elif x%2==0: \n",
    "            x+=1 \n",
    "            continue \n",
    "        elif x%3==0: \n",
    "            x+=1 \n",
    "            continue \n",
    "        elif count==5: \n",
    "            break \n",
    "        count+=1\n",
    "print(x,count)"
   ]
  },
  {
   "cell_type": "code",
   "execution_count": 1,
   "id": "fc27c70a-660b-4445-bebe-493028d917e6",
   "metadata": {},
   "outputs": [
    {
     "name": "stdin",
     "output_type": "stream",
     "text": [
      "Enter number 1:  1\n",
      "Enter number 2:  2\n"
     ]
    },
    {
     "name": "stdout",
     "output_type": "stream",
     "text": [
      "Sum of two numbers is: 3\n"
     ]
    }
   ],
   "source": [
    "# Write a Python program to add 2 Numbers with user input.\n",
    "a=int(input('Enter number 1: '))\n",
    "b=int(input('Enter number 2: '))\n",
    "print('Sum of two numbers is:',a+b)"
   ]
  },
  {
   "cell_type": "code",
   "execution_count": 5,
   "id": "c31e450a-4ab9-4680-90a0-6ce8246709e2",
   "metadata": {},
   "outputs": [
    {
     "name": "stdin",
     "output_type": "stream",
     "text": [
      "Enter radius of circle:  3\n"
     ]
    },
    {
     "name": "stdout",
     "output_type": "stream",
     "text": [
      "Area of circle is: 28.27\n"
     ]
    }
   ],
   "source": [
    " # Write a Python program to find the area of Circle.\n",
    "import math as m\n",
    "radius=float(input('Enter radius of circle: '))\n",
    "area=m.pi*radius**2\n",
    "print(f'Area of circle is: {area:.2f}')"
   ]
  },
  {
   "cell_type": "code",
   "execution_count": 7,
   "id": "dda5680d-4e5d-4e1b-9396-00e976cf07e7",
   "metadata": {},
   "outputs": [
    {
     "name": "stdin",
     "output_type": "stream",
     "text": [
      "Enter base of triangle:  5\n",
      "Enter height of triangle:  10\n"
     ]
    },
    {
     "name": "stdout",
     "output_type": "stream",
     "text": [
      "Area of triangle is: 25.0\n"
     ]
    }
   ],
   "source": [
    " # Write a Python program to find the area of Triangle.\n",
    "base=float(input('Enter base of triangle: '))\n",
    "height=float(input('Enter height of triangle: '))\n",
    "area=0.5*base*height\n",
    "print(f'Area of triangle is: {area}')"
   ]
  },
  {
   "cell_type": "code",
   "execution_count": 9,
   "id": "46212e37-1399-4d57-95ad-994d720d0b41",
   "metadata": {},
   "outputs": [
    {
     "name": "stdin",
     "output_type": "stream",
     "text": [
      "Enter value of base 1:  3\n",
      "Enter value of base 2:  6\n",
      "Enter value of height:  7\n"
     ]
    },
    {
     "name": "stdout",
     "output_type": "stream",
     "text": [
      "Area of trapezoid is: 31.50 units\n"
     ]
    }
   ],
   "source": [
    " # Write a Python program to calculate the area of a trapezoid.\n",
    "b1=float(input('Enter value of base 1: '))\n",
    "b2=float(input('Enter value of base 2: '))\n",
    "height=float(input('Enter value of height: '))\n",
    "area=((b1+b2)/2)*height\n",
    "print(f'Area of trapezoid is: {area:.2f} units')"
   ]
  },
  {
   "cell_type": "code",
   "execution_count": 19,
   "id": "23e86db3-4f4d-41ff-8bbc-e53359c9f1f9",
   "metadata": {},
   "outputs": [
    {
     "name": "stdin",
     "output_type": "stream",
     "text": [
      "Enter radius of cylinder:  3\n",
      "Enter height of cylinder:  7\n"
     ]
    },
    {
     "name": "stdout",
     "output_type": "stream",
     "text": [
      "197.92 188.5\n"
     ]
    }
   ],
   "source": [
    " # Write a Python program to calculate surface volume and area of a cylinder.\n",
    "import math as m\n",
    "rad=float(input('Enter radius of cylinder: '))\n",
    "height=float(input('Enter height of cylinder: '))\n",
    "vol=m.pi*rad**2*height\n",
    "area=2*m.pi*rad*height+2*m.pi*rad**2\n",
    "print(round(vol,2),round(area,2))"
   ]
  },
  {
   "cell_type": "code",
   "execution_count": 35,
   "id": "aad91ac6-e29f-476f-8d3c-adc1c3c2a916",
   "metadata": {},
   "outputs": [
    {
     "name": "stdin",
     "output_type": "stream",
     "text": [
      "Enter temprature:  212\n"
     ]
    },
    {
     "name": "stdout",
     "output_type": "stream",
     "text": [
      "100.0 ℃\n"
     ]
    }
   ],
   "source": [
    " # Write a Python program to convert Fahrenheit to Celsius and vice versa.\n",
    "def CToF(temp:float)->float:\n",
    "    return round(temp*9/5+32,2),'℉'\n",
    "def FToC(temp:float)->float:\n",
    "    return round((temp-32)*5/9,2),'℃'\n",
    "temp=float(input('Enter temprature: '))\n",
    "a,b=FToC(temp)\n",
    "print(a,b)"
   ]
  },
  {
   "cell_type": "code",
   "execution_count": 194,
   "id": "a4b3d9c7-4d90-40c3-8b6b-a7fa8130dff7",
   "metadata": {},
   "outputs": [
    {
     "name": "stdin",
     "output_type": "stream",
     "text": [
      "Enter a number:  2\n",
      "Enter answer:  1.414\n"
     ]
    },
    {
     "name": "stdout",
     "output_type": "stream",
     "text": [
      "0.5\n"
     ]
    }
   ],
   "source": [
    " # Write a Python program to find an integer exponent x such that a^x = n\n",
    "import math as m\n",
    "n=float(input('Enter a number: '))\n",
    "ans=float(input('Enter answer: '))\n",
    "exp=round((m.log(ans,n)),2)\n",
    "print(exp)\n",
    "\n",
    "# i=1\n",
    "# ans1=n\n",
    "# while True:\n",
    "#     if ans1==ans:\n",
    "#         print(i)\n",
    "#         break\n",
    "#     ans1*=n\n",
    "#     i+=1"
   ]
  },
  {
   "cell_type": "code",
   "execution_count": 196,
   "id": "82b710d4-aa26-4796-b2f4-3bb9480db0bf",
   "metadata": {},
   "outputs": [
    {
     "name": "stdout",
     "output_type": "stream",
     "text": [
      "   1 \n",
      "  2 2 \n",
      " 3 3 3 \n",
      "4 4 4 4 \n",
      "   1 \n",
      "  1 2 \n",
      " 1 2 3 \n",
      "1 2 3 4 \n",
      "   * \n",
      "  # # \n",
      " * * * \n",
      "# # # # \n"
     ]
    }
   ],
   "source": [
    "n=4\n",
    "for i in range(1,n+1):\n",
    "    for k in range(n,i,-1):print(end=' ')\n",
    "    for j in range(1,i+1):print(i,end=' ')\n",
    "    print()\n",
    "\n",
    "for i in range(1,n+1):\n",
    "    for k in range(n,i,-1):print(end=' ')\n",
    "    for j in range(1,i+1):print(j,end=' ')\n",
    "    print()\n",
    "\n",
    "for i in range(1,n+1):\n",
    "    for k in range(n,i,-1):print(end=' ')\n",
    "    for j in range(1,i+1):\n",
    "        if i%2==1:print('*',end=' ')\n",
    "        else:print('#',end=' ')\n",
    "    print()"
   ]
  },
  {
   "cell_type": "code",
   "execution_count": 204,
   "id": "534a74be-7dd3-4621-942c-9aad03e63881",
   "metadata": {},
   "outputs": [
    {
     "name": "stdout",
     "output_type": "stream",
     "text": [
      "   * \n",
      "  * * \n",
      " * * * \n",
      "* * * * \n",
      "* * * * \n",
      "* * * \n",
      "* * \n",
      "* \n",
      "* * * * \n",
      "  * * * \n",
      "    * * \n",
      "      * \n"
     ]
    }
   ],
   "source": [
    "for i in range(1,n+1):\n",
    "    for k in range(n,i,-1):print(end=' ')\n",
    "    for j in range(1,i+1):print('*',end=' ')\n",
    "    print()\n",
    "\n",
    "for i in range(n,0,-1):\n",
    "    for j in range(1,i+1):print('*',end=' ')\n",
    "    print()\n",
    "\n",
    "for i in range(1,n+1):\n",
    "    for k in range(1,i):print(end='  ')\n",
    "    for j in range(i,n+1):print('*',end=' ')\n",
    "    print()"
   ]
  },
  {
   "cell_type": "code",
   "execution_count": 206,
   "id": "7da9d959-7df8-43e0-95e0-1e59db974ca0",
   "metadata": {},
   "outputs": [
    {
     "name": "stdout",
     "output_type": "stream",
     "text": [
      "1 2 3 4 5 \n",
      "1 2 3 4 \n",
      "1 2 3 \n",
      "1 2 \n",
      "1 \n"
     ]
    }
   ],
   "source": [
    "#Qb 172\n",
    "n=5\n",
    "for i in range(n,0,-1):\n",
    "    for j in range(1,i+1):print(j,end=' ')\n",
    "    print()"
   ]
  },
  {
   "cell_type": "code",
   "execution_count": 208,
   "id": "5ed7d832-db15-4173-8c20-18a2faff7148",
   "metadata": {},
   "outputs": [
    {
     "name": "stdout",
     "output_type": "stream",
     "text": [
      "1 \n",
      "1 2 \n",
      "1 2 3 \n",
      "1 2 3 4 \n",
      "1 \n",
      "2 2 \n",
      "3 3 3 \n",
      "4 4 4 4 \n"
     ]
    }
   ],
   "source": [
    "n=4\n",
    "for i in range(1,n+1):\n",
    "    for j in range(1,i+1):\n",
    "        print(j,end=' ')\n",
    "    print()\n",
    "\n",
    "for i in range(1,n+1):\n",
    "    for j in range(1,i+1):\n",
    "        print(i,end=' ')\n",
    "    print()"
   ]
  },
  {
   "cell_type": "code",
   "execution_count": 216,
   "id": "f8d69faa-bd41-4472-853f-55ee293a416a",
   "metadata": {},
   "outputs": [
    {
     "name": "stdout",
     "output_type": "stream",
     "text": [
      "* \n",
      "# # \n",
      "* * * \n",
      "# # # # \n",
      "*  \n",
      "# #  \n",
      "* * *  \n",
      "# # # #  \n",
      "1 \n",
      "0 1 \n",
      "1 0 1 \n",
      "0 1 0 1 \n"
     ]
    }
   ],
   "source": [
    "for i in range(1,n+1):\n",
    "    for j in range(1,i+1):\n",
    "        if i%2==1:print('*',end=' ')\n",
    "        else:print('#',end=' ')\n",
    "    print()\n",
    "\n",
    "for i in range(1,n+1):\n",
    "    if i%2==1:print('* '*i,end=' ')\n",
    "    else:print('# '*i,end=' ')\n",
    "    print()\n",
    "\n",
    "for i in range(1,n+1):\n",
    "    for j in range(1,i+1):\n",
    "        if (i+j)%2==0:print(1,end=' ')\n",
    "        else:print(0,end=' ')\n",
    "    print()"
   ]
  },
  {
   "cell_type": "code",
   "execution_count": 218,
   "id": "419b3716-115e-41b5-aa6b-20b3cc1e5492",
   "metadata": {},
   "outputs": [
    {
     "name": "stdout",
     "output_type": "stream",
     "text": [
      "* \n",
      "* * \n",
      "* * * \n",
      "* * * * \n"
     ]
    }
   ],
   "source": [
    "for i in range(1,n+1):\n",
    "    for j in range(1,i+1):print('*',end=' ')\n",
    "    print()"
   ]
  },
  {
   "cell_type": "code",
   "execution_count": 234,
   "id": "6203b496-c7eb-4218-97cf-5bf5580d9a7b",
   "metadata": {},
   "outputs": [
    {
     "name": "stdout",
     "output_type": "stream",
     "text": [
      "Armstrong Number List: \n",
      "1\n",
      "2\n",
      "3\n",
      "4\n",
      "5\n",
      "6\n",
      "7\n",
      "8\n",
      "9\n",
      "153\n",
      "370\n",
      "371\n",
      "407\n",
      "1634\n",
      "8208\n",
      "9474\n",
      "54748\n",
      "92727\n",
      "93084\n"
     ]
    }
   ],
   "source": [
    "#Armstrong Number\n",
    "def count_digits(n:int)->int:\n",
    "    count=0\n",
    "    while n>0:\n",
    "        count+=1\n",
    "        n//=10\n",
    "    return count\n",
    "def check_armstrong_number(n:int)->bool:\n",
    "    count=count_digits(n)\n",
    "    temp=n\n",
    "    ans=0\n",
    "    while temp>0:\n",
    "        ans+=((temp%10)**count)\n",
    "        temp//=10\n",
    "    return ans==n\n",
    "# print(check_armstrong_number(369))\n",
    "def list_armstrong_number(start:int,end:int)->None:\n",
    "    print('Armstrong Number List: ')\n",
    "    for i in range(start,end+1):\n",
    "        if check_armstrong_number(i):print(i)\n",
    "list_armstrong_number(1,100000)"
   ]
  },
  {
   "cell_type": "code",
   "execution_count": 250,
   "id": "464e6872-7b30-49fc-8b70-ea1b167ac728",
   "metadata": {},
   "outputs": [
    {
     "name": "stdout",
     "output_type": "stream",
     "text": [
      "Prime Number list: \n",
      "2\n",
      "3\n",
      "5\n",
      "7\n",
      "11\n",
      "13\n",
      "17\n",
      "19\n"
     ]
    }
   ],
   "source": [
    "#Prime Number\n",
    "def check_prime_number(n:int)->bool:\n",
    "    i=2\n",
    "    if n<=1:return False\n",
    "    while i<n:\n",
    "        if n%i==0:return False\n",
    "        i+=1\n",
    "    return True\n",
    "# print(check_prime_number(12))\n",
    "\n",
    "def list_prime_number(start:int,end:int)->None:\n",
    "    print('Prime Number list: ')\n",
    "    for i in range(start,end+1):\n",
    "        if check_prime_number(i):print(i)\n",
    "list_prime_number(1,20)"
   ]
  },
  {
   "cell_type": "code",
   "execution_count": 272,
   "id": "a3fbd0c1-dff7-4ef2-815e-10768e72cd9d",
   "metadata": {},
   "outputs": [
    {
     "name": "stdout",
     "output_type": "stream",
     "text": [
      "Disarium Number list: \n",
      "1\n",
      "2\n",
      "3\n",
      "4\n",
      "5\n",
      "6\n",
      "7\n",
      "8\n",
      "9\n",
      "89\n",
      "135\n",
      "175\n",
      "518\n",
      "598\n"
     ]
    }
   ],
   "source": [
    "#Disarium Number\n",
    "def check_disarium_number(n:int)->bool:\n",
    "    count=count_digits(n)\n",
    "    temp=n\n",
    "    ans=0\n",
    "    while temp>0:\n",
    "        ans+=(temp%10)**(count)\n",
    "        count-=1\n",
    "        temp//=10\n",
    "    return ans==n\n",
    "# print(check_disarium_number(135))\n",
    "\n",
    "def list_disarium_number(start:int,end:int)->None:\n",
    "    print('Disarium Number list: ')\n",
    "    for i in range(start,end+1):\n",
    "        if check_disarium_number(i):print(i)\n",
    "list_disarium_number(1,1000)"
   ]
  },
  {
   "cell_type": "code",
   "execution_count": 286,
   "id": "1326a818-c38e-496d-b48d-19c7476193ac",
   "metadata": {},
   "outputs": [
    {
     "name": "stdout",
     "output_type": "stream",
     "text": [
      "1\n",
      "2\n",
      "3\n",
      "4\n",
      "5\n",
      "6\n",
      "7\n",
      "8\n",
      "9\n",
      "22\n",
      "123\n",
      "132\n",
      "213\n",
      "231\n",
      "312\n",
      "321\n"
     ]
    }
   ],
   "source": [
    "#Perfect Number\n",
    "def check_perfect_number(n:int)->bool:\n",
    "    sum=0\n",
    "    mul=1\n",
    "    while n>0:\n",
    "        rem=n%10\n",
    "        sum+=rem\n",
    "        mul*=rem\n",
    "        n//=10\n",
    "    return sum==mul\n",
    "# print(check_perfect_number(1234))\n",
    "def list_perfect_number(start:int,end:int)->None:\n",
    "    for i in range(start,end+1):\n",
    "        if check_perfect_number(i):print(i)\n",
    "list_perfect_number(1,1000)"
   ]
  },
  {
   "cell_type": "code",
   "execution_count": 304,
   "id": "9000d24e-a3c7-44ae-8f5c-1408438e3c93",
   "metadata": {},
   "outputs": [
    {
     "name": "stdout",
     "output_type": "stream",
     "text": [
      "True\n"
     ]
    }
   ],
   "source": [
    "def check_odd_even(n:int)->None:\n",
    "    if i%2==0:print('Number is Even')\n",
    "    else:print('Number is ODD')\n",
    "\n",
    "def check_pos_neg_zero()->None:\n",
    "    n=int(input('Enter a number: '))\n",
    "    if n>0:print('Number is positive')\n",
    "    elif n==0:print('Number is zero')\n",
    "    else:print('Number is negetive')\n",
    "\n",
    "def max_num_3(a:int,b:int,c:int)->int:\n",
    "    if a>b and a>c: return a\n",
    "    elif b>c: return b\n",
    "    else: return c\n",
    "\n",
    "def max_num_4(a:int,b:int,c:int,d:int)->int:\n",
    "    if a>b and a>c and a>d: return a\n",
    "    elif b>c and b>d: return b\n",
    "    elif c>d: return c\n",
    "    else: return d\n",
    "\n",
    "def sum_of_num(n:int)->None:\n",
    "    sum=0\n",
    "    for i in range(1,n+1):sum+=i\n",
    "    print('Sum of number is:',sum)\n",
    "\n",
    "def avg_of_num()->None:\n",
    "    n=int(input('Enter a number: '))\n",
    "    avg=0\n",
    "    for i in range(1,n+1):avg+=i\n",
    "    avg/=n\n",
    "    print('Average is:',round(avg,2))\n",
    "\n",
    "def check_leap_year(year:int)->bool:\n",
    "    # if ((year%400==0) or ((year%100!=0) and (year%4==0))):return True\n",
    "    # return False\n",
    "    return ((year%400==0) or ((year%100!=0) and (year%4==0)))\n",
    "\n",
    "def check_leap_year(year:int)->bool:\n",
    "    if year%4==0:\n",
    "        if year%100!=0 or year%400==0:\n",
    "            return True\n",
    "        else:\n",
    "            return False\n",
    "    else:\n",
    "        return False\n",
    "print(check_leap_year(1904))\n",
    "\n",
    "# check_odd_even(1)\n",
    "# check_pos_neg_zero()\n",
    "# print(max_num_3(1,4,2))\n",
    "# print(max_num_4(45,23,76,87))\n",
    "# sum_of_num(10)\n",
    "# avg_of_num()\n",
    "# print(check_leap_year(2024))"
   ]
  },
  {
   "cell_type": "code",
   "execution_count": 306,
   "id": "7bc25f78-b1aa-4c2d-ad91-0f917c6fcf2d",
   "metadata": {},
   "outputs": [
    {
     "name": "stdin",
     "output_type": "stream",
     "text": [
      "Enter starting number:  1\n",
      "Enter ending number:  10\n",
      "Enter number for division:  5\n"
     ]
    },
    {
     "name": "stdout",
     "output_type": "stream",
     "text": [
      "5\n",
      "10\n"
     ]
    }
   ],
   "source": [
    "# Write a python program to read three numbers (a,b,c) and check how many numbers between ‘a’ and ‘b’ are divisible by ‘c’.\n",
    "a=int(input('Enter starting number: '))\n",
    "b=int(input('Enter ending number: '))\n",
    "c=int(input('Enter number for division: '))\n",
    "for i in range(a,b+1):\n",
    "    if i%c==0:print(i)"
   ]
  },
  {
   "cell_type": "code",
   "execution_count": 308,
   "id": "139c3668-1b6c-4660-ac68-c09a90dd379b",
   "metadata": {},
   "outputs": [
    {
     "name": "stdout",
     "output_type": "stream",
     "text": [
      "0\n",
      "1\n",
      "2\n",
      "4\n",
      "5\n"
     ]
    }
   ],
   "source": [
    "for i in range(0,6+1):\n",
    "    if i%3==0 and i!=0:continue\n",
    "    print(i)"
   ]
  },
  {
   "cell_type": "code",
   "execution_count": 338,
   "id": "faa6bcb8-1f16-45cf-b44f-5236f7e447ad",
   "metadata": {},
   "outputs": [],
   "source": [
    "def multiplication_table(n):\n",
    "    for i in range(1,11):print(f'{n} x {i} = {n*i}')\n",
    "\n",
    "def factorial_number():\n",
    "    n=int(input('Enter a number to find it\\'s factorial: '))\n",
    "    fact=1\n",
    "    for i in range(1,n+1):fact*=i\n",
    "    return fact\n",
    "\n",
    "def fibonacci_series(n):\n",
    "    print('Fibonacci Series is: ')\n",
    "    a=0\n",
    "    b=1\n",
    "    sum=0\n",
    "    for i in range(1,n+1):\n",
    "        print(a)\n",
    "        # sum,a,b=a+b,b,sum\n",
    "        sum=a+b\n",
    "        a=b\n",
    "        b=sum"
   ]
  },
  {
   "cell_type": "code",
   "execution_count": 340,
   "id": "fb2072c1-1a58-4515-9c5a-56fca9f25b5c",
   "metadata": {},
   "outputs": [
    {
     "name": "stdout",
     "output_type": "stream",
     "text": [
      "109 x 1 = 109\n",
      "109 x 2 = 218\n",
      "109 x 3 = 327\n",
      "109 x 4 = 436\n",
      "109 x 5 = 545\n",
      "109 x 6 = 654\n",
      "109 x 7 = 763\n",
      "109 x 8 = 872\n",
      "109 x 9 = 981\n",
      "109 x 10 = 1090\n"
     ]
    }
   ],
   "source": [
    "multiplication_table(109)"
   ]
  },
  {
   "cell_type": "code",
   "execution_count": 342,
   "id": "c614911d-19d0-4842-879e-2c2a89062e49",
   "metadata": {},
   "outputs": [
    {
     "name": "stdin",
     "output_type": "stream",
     "text": [
      "Enter a number to find it's factorial:  5\n"
     ]
    },
    {
     "name": "stdout",
     "output_type": "stream",
     "text": [
      "120\n"
     ]
    }
   ],
   "source": [
    "print(factorial_number())"
   ]
  },
  {
   "cell_type": "code",
   "execution_count": 346,
   "id": "14ef1bba-445d-464e-bb73-b4884b778f04",
   "metadata": {},
   "outputs": [
    {
     "name": "stdout",
     "output_type": "stream",
     "text": [
      "Fibonacci Series is: \n",
      "0\n",
      "1\n",
      "1\n",
      "2\n",
      "3\n",
      "5\n",
      "8\n",
      "13\n"
     ]
    }
   ],
   "source": [
    "fibonacci_series(8)"
   ]
  },
  {
   "cell_type": "code",
   "execution_count": 348,
   "id": "66445674-520b-423c-bb69-bac62919bb10",
   "metadata": {},
   "outputs": [
    {
     "name": "stdin",
     "output_type": "stream",
     "text": [
      "Enter number#1:  1\n",
      "Enter number#2:  2\n",
      "Enter number#3:  3\n",
      "Enter number#4:  4\n",
      "Enter number#5:  5\n",
      "Enter number#6:  6\n",
      "Enter number#7:  7\n",
      "Enter number#8:  8\n",
      "Enter number#9:  9\n",
      "Enter number#10:  10\n"
     ]
    },
    {
     "name": "stdout",
     "output_type": "stream",
     "text": [
      "Average Number: 5.5\n"
     ]
    }
   ],
   "source": [
    "# Write a program to take 10 values from keyboard using loop and print their average on the screen\n",
    "sum=0\n",
    "for i in range(10):sum+=int(input(f'Enter number#{i+1}: '))\n",
    "avg=sum/10\n",
    "print(f'Average Number: {avg}')"
   ]
  },
  {
   "cell_type": "code",
   "execution_count": 350,
   "id": "f582a7ac-7c1b-45a8-a905-17ec27239e1e",
   "metadata": {},
   "outputs": [
    {
     "name": "stdin",
     "output_type": "stream",
     "text": [
      "Enter a number:  1234\n"
     ]
    },
    {
     "name": "stdout",
     "output_type": "stream",
     "text": [
      "4321\n"
     ]
    }
   ],
   "source": [
    "#Reverse Number\n",
    "n=int(input('Enter a number: '))\n",
    "temp=n\n",
    "rev=0\n",
    "while temp>0:\n",
    "    rev=rev*10+(temp%10)\n",
    "    temp//=10\n",
    "print(rev)"
   ]
  },
  {
   "cell_type": "code",
   "execution_count": 370,
   "id": "800028e2-ba9f-4d5a-bb63-fd9469249d4a",
   "metadata": {},
   "outputs": [
    {
     "name": "stdin",
     "output_type": "stream",
     "text": [
      "Enter the grade_level(A,B,C,D,E or F):  A\n"
     ]
    },
    {
     "name": "stdout",
     "output_type": "stream",
     "text": [
      "city 1 is a tier 1 (metro), city 2 is tier 2 and city 3 is tier 3\n"
     ]
    },
    {
     "name": "stdin",
     "output_type": "stream",
     "text": [
      "Enter the city(1,2 or 3):  1\n"
     ]
    },
    {
     "name": "stdout",
     "output_type": "stream",
     "text": [
      "\n",
      "Gross Pay of an Employee is: 110100.0\n",
      "Annual income of an employee is: 1321200.0\n",
      "Income Tax to be paid by an employee is: 142800.0 \n",
      "\n"
     ]
    }
   ],
   "source": [
    "# Gross Pay, Annual Income and Income Tax Calculator\n",
    "grade:str=''\n",
    "city:int=0\n",
    "basic_pay=0\n",
    "hra:float=0#House Rent Allowance\n",
    "da:float=0#Dearness Allowance\n",
    "ta:float=900#Transport Allowance\n",
    "oa:float=0#Other Allowance\n",
    "epf:float=0#Employee's Provident Fund\n",
    "pt:float=200#Professional Tax\n",
    "gross_pay:float=0\n",
    "income_tax:float=0\n",
    "annual_pay:float=0\n",
    "\n",
    "grade=input('Enter the grade_level(A,B,C,D,E or F): ')\n",
    "print('city 1 is a tier 1 (metro), city 2 is tier 2 and city 3 is tier 3')\n",
    "city=int(input('Enter the city(1,2 or 3): '))\n",
    "\n",
    "if grade=='A':\n",
    "    basic_pay=60000\n",
    "    oa=8000\n",
    "elif grade=='B':\n",
    "    basic_pay=50000\n",
    "    oa=7000\n",
    "elif grade=='C':\n",
    "    basic_pay=40000\n",
    "    oa=6000\n",
    "elif grade=='D':\n",
    "    basic_pay=30000\n",
    "    oa=5000\n",
    "elif grade=='E':\n",
    "    basic_pay=20000\n",
    "    oa=4000\n",
    "elif grade=='F':\n",
    "    basic_pay=10000\n",
    "    oa=3000\n",
    "else:\n",
    "    # print('Enter valid grade')\n",
    "    raise ValueError('Invalid Grade Value Input')\n",
    "da=basic_pay*0.5\n",
    "epf=basic_pay*0.11\n",
    "\n",
    "if city==1:hra=basic_pay*0.3\n",
    "elif city==2:hra=basic_pay*0.2\n",
    "elif city==3:hra=basic_pay*0.1\n",
    "else:raise ValueError('Invalid City Value Input')\n",
    "\n",
    "gross_pay=basic_pay+hra+da+ta+oa-epf-pt\n",
    "annual_pay=gross_pay*12\n",
    "\n",
    "if annual_pay>=0 and annual_pay<=250000:income_tax=annual_pay*0\n",
    "elif annual_pay>250000 and annual_pay<=500000:income_tax=(annual_pay-250000)*0.05\n",
    "elif annual_pay>500000 and annual_pay<=750000:income_tax=((annual_pay-500000)*0.1)+12500\n",
    "elif annual_pay>750000 and annual_pay<=100000:income_tax=((annual_pay-750000)*0.15)+37500\n",
    "elif annual_pay>1000000 and annual_pay<=1250000:income_tax=((annual_pay-1000000)*0.2)+75000\n",
    "elif annual_pay>1250000 and annual_pay<=1500000:income_tax=((annual_pay-1250000)*0.25)+125000\n",
    "elif annual_pay>1500000:income_tax=((annual_pay-1500000)*0.3)+187500\n",
    "\n",
    "print(f'''\n",
    "Gross Pay of an Employee is: {gross_pay}\n",
    "Annual income of an employee is: {annual_pay}\n",
    "Income Tax to be paid by an employee is: {income_tax} \n",
    "''')"
   ]
  },
  {
   "cell_type": "code",
   "execution_count": 313,
   "id": "1ea938da-b91a-428e-90d2-d2dc1f9f7d8a",
   "metadata": {},
   "outputs": [
    {
     "name": "stdout",
     "output_type": "stream",
     "text": [
      "1               1 \n",
      "1 2           2 1 \n",
      "1 2 3       3 2 1 \n",
      "1 2 3 4   4 3 2 1 \n",
      "1 2 3 4 5 4 3 2 1 \n",
      "1 2 3 4   4 3 2 1 \n",
      "1 2 3       3 2 1 \n",
      "1 2           2 1 \n",
      "1               1 \n"
     ]
    }
   ],
   "source": [
    "n=5\n",
    "for i in range(1,n+1):\n",
    "    for j in range(1,i+1):\n",
    "        print(j,end=' ')\n",
    "    for k in range((n*2-(i*2+1))):\n",
    "        print(' ',end=' ')\n",
    "    for j in range(i,0,-1):\n",
    "        if j==n:continue\n",
    "        print(j,end=' ')\n",
    "    print()\n",
    "for i in range(n-1,0,-1):\n",
    "    for j in range(1,i+1):\n",
    "        print(j,end=' ')\n",
    "    for k in range((n*2)-(i*2+1)):\n",
    "        print(' ',end=' ')\n",
    "    for j in range(i,0,-1):\n",
    "        if j==n:continue\n",
    "        print(j,end=' ')\n",
    "    print()\n",
    "    "
   ]
  },
  {
   "cell_type": "code",
   "execution_count": 404,
   "id": "a20ce498-7846-4a72-9a79-ef89521b0d57",
   "metadata": {},
   "outputs": [
    {
     "name": "stdout",
     "output_type": "stream",
     "text": [
      "         1   \n",
      "       2   2   \n",
      "     3   3   3   \n",
      "   4   4   4   4   \n",
      " 5   5   5   5   5   \n"
     ]
    }
   ],
   "source": [
    "for i in range(1,n+1):\n",
    "    print('  '*(n-i),end=' ')\n",
    "    print(f'{i}   '*i)"
   ]
  },
  {
   "cell_type": "code",
   "execution_count": 420,
   "id": "a56ba3b5-5031-4a09-9f97-be98c631295e",
   "metadata": {},
   "outputs": [
    {
     "name": "stdout",
     "output_type": "stream",
     "text": [
      "True\n"
     ]
    }
   ],
   "source": [
    "def in_range(n:int,end:int,start:int=0)->bool:\n",
    "    return (n in range(start,end+1))\n",
    "print(in_range(1,10))"
   ]
  },
  {
   "cell_type": "code",
   "execution_count": 424,
   "id": "172a7d1d-49b4-452f-b644-00b231f9e3cc",
   "metadata": {},
   "outputs": [
    {
     "name": "stdout",
     "output_type": "stream",
     "text": [
      "Sum of first n numbers is: 55 and Average of first number is: 5.5\n"
     ]
    }
   ],
   "source": [
    "# Write a Python program to demonstrate the function of finding sum and average of first n natural numbers.\n",
    "def sum_avg(n):\n",
    "    sum=0\n",
    "    avg=0\n",
    "    for i in range(1,n+1):sum+=i\n",
    "    else:avg=sum/(n)\n",
    "    print(f'Sum of first n numbers is: {sum} and Average of first number is: {avg}')\n",
    "sum_avg(10)"
   ]
  },
  {
   "cell_type": "code",
   "execution_count": 428,
   "id": "175e73a1-79ff-4d77-a684-93d5a4d37c37",
   "metadata": {},
   "outputs": [
    {
     "name": "stdout",
     "output_type": "stream",
     "text": [
      "    1 \n",
      "   1 2 \n",
      "  1 2 3 \n",
      " 1 2 3 4 \n",
      "1 2 3 4 5 \n",
      " 1 2 3 4 \n",
      "  1 2 3 \n",
      "   1 2 \n",
      "    1 \n"
     ]
    }
   ],
   "source": [
    "n=5\n",
    "for i in range(1,n+1):\n",
    "    for k in range(n,i,-1):print(end=' ')\n",
    "    for j in range(1,i+1):print(j,end=' ')\n",
    "    print()\n",
    "for i in range(n-1,0,-1):\n",
    "    for k in range(i,n):print(end=' ')\n",
    "    for j in range(1,i+1):print(j,end=' ')\n",
    "    print()"
   ]
  },
  {
   "cell_type": "code",
   "execution_count": 432,
   "id": "0f0ace90-7b07-41bb-b03b-cae9643ab62b",
   "metadata": {},
   "outputs": [
    {
     "name": "stdout",
     "output_type": "stream",
     "text": [
      "    1 \n",
      "   2 1 \n",
      "  3 2 1 \n",
      " 4 3 2 1 \n",
      "5 4 3 2 1 \n",
      " 4 3 2 1 \n",
      "  3 2 1 \n",
      "   2 1 \n",
      "    1 \n"
     ]
    }
   ],
   "source": [
    "for i in range(1,n+1):\n",
    "    for k in range(n,i,-1):print(end=' ')\n",
    "    for j in range(i,0,-1):print(j,end=' ')\n",
    "    print()\n",
    "for i in range(n-1,0,-1):\n",
    "    for k in range(i,n):print(end=' ')\n",
    "    for j in range(i,0,-1):print(j,end=' ')\n",
    "    print()"
   ]
  },
  {
   "cell_type": "code",
   "execution_count": 434,
   "id": "05645e73-8b6d-41d4-9c5e-90f9234a56fc",
   "metadata": {},
   "outputs": [
    {
     "name": "stdout",
     "output_type": "stream",
     "text": [
      "4321\n"
     ]
    }
   ],
   "source": [
    "#Reverse Number\n",
    "def reverse_number(n):\n",
    "    temp=n\n",
    "    rev=0\n",
    "    while temp>0:\n",
    "        rev=rev*10+temp%10\n",
    "        temp//=10\n",
    "    return rev\n",
    "print(reverse_number(1234))"
   ]
  },
  {
   "cell_type": "code",
   "execution_count": 508,
   "id": "8dc5b20f-4fda-40ec-b199-a058f272286e",
   "metadata": {},
   "outputs": [
    {
     "name": "stdout",
     "output_type": "stream",
     "text": [
      "623451\n"
     ]
    }
   ],
   "source": [
    "#Change First and Last Digits\n",
    "def change_first_last_digits(n):\n",
    "    ld=n%10\n",
    "    count=count_digits(n)\n",
    "    fd=n//(10**(count-1))\n",
    "    ans=((n//10)*10+fd)%(10**(count-1))+(ld*(10**(count-1)))\n",
    "    return ans\n",
    "print(change_first_last_digits(123456))"
   ]
  },
  {
   "cell_type": "code",
   "execution_count": 93,
   "id": "15cbb3aa-4633-4061-9d85-84adb6762369",
   "metadata": {},
   "outputs": [
    {
     "name": "stdout",
     "output_type": "stream",
     "text": [
      "20\n"
     ]
    }
   ],
   "source": [
    "# Write a Python program to compute the greatest common divisor (GCD) of two positive integers.\n",
    "# The greatest common divisor (GCD) of two nonzero integers a and b is the greatest positive integer d such that d is a divisor of both a and b;\n",
    "# that is, there are integers e and f such that a = de and b = df, and d is the largest such integer. \n",
    "# The GCD of a and b is generally denoted gcd(a, b). \n",
    "# For example, the greatest common factor of 15 and 10 is 5, since both the numbers can be divided by 5.\n",
    "def gcd(n1,n2):\n",
    "    i=1\n",
    "    gcd=0\n",
    "    while i<=n1 and i<=n2:\n",
    "        if n1%i==0 and n2%i==0:\n",
    "            gcd=i\n",
    "        i+=1\n",
    "    else:return gcd\n",
    "print(gcd(120,100))"
   ]
  },
  {
   "cell_type": "code",
   "execution_count": 281,
   "id": "d852288a-0c1e-4d57-85ba-5037962e6240",
   "metadata": {},
   "outputs": [
    {
     "name": "stdin",
     "output_type": "stream",
     "text": [
      "Enter a number(enter stop when you wanna exit):  1\n",
      "Enter a number(enter stop when you wanna exit):  2\n",
      "Enter a number(enter stop when you wanna exit):  3\n",
      "Enter a number(enter stop when you wanna exit):  4\n",
      "Enter a number(enter stop when you wanna exit):  5\n",
      "Enter a number(enter stop when you wanna exit):  6\n",
      "Enter a number(enter stop when you wanna exit):  7\n",
      "Enter a number(enter stop when you wanna exit):  8\n",
      "Enter a number(enter stop when you wanna exit):  9\n",
      "Enter a number(enter stop when you wanna exit):  10\n",
      "Enter a number(enter stop when you wanna exit):  stop\n"
     ]
    },
    {
     "name": "stdout",
     "output_type": "stream",
     "text": [
      "for even(10 2 6.0(max,min,avg))\n",
      "for odd(9 1 5.0(max,min,avg))\n"
     ]
    }
   ],
   "source": [
    "max_even=0\n",
    "min_even=0\n",
    "max_odd=0\n",
    "min_odd=0\n",
    "avg_even=0\n",
    "avg_odd=0\n",
    "count=0\n",
    "count_even=0\n",
    "count_odd=0\n",
    "while True:\n",
    "    count+=1\n",
    "    num=input('Enter a number(enter stop when you wanna exit): ')\n",
    "    if num=='stop' or num=='Stop':break\n",
    "    n=int(num)\n",
    "    if count_odd==0:\n",
    "        if n%2!=0:\n",
    "            max_odd=n\n",
    "            min_odd=n\n",
    "    if  count_even==0:\n",
    "        if n%2==0:\n",
    "            max_even=n\n",
    "            min_even=n\n",
    "    if n%2==0:\n",
    "        avg_even+=n\n",
    "        if n>max_even:max_even=n\n",
    "        if n<min_even:min_even=n\n",
    "        count_even+=1\n",
    "    else:\n",
    "        avg_odd+=n\n",
    "        if n>max_odd:max_odd=n\n",
    "        if n<min_odd:min_odd=n\n",
    "        count_odd+=1\n",
    "print(f'for even({max_even} {min_even} {avg_even/count_even}(max,min,avg))')\n",
    "print(f'for odd({max_odd} {min_odd} {avg_odd/count_odd}(max,min,avg))')"
   ]
  },
  {
   "cell_type": "code",
   "execution_count": 13,
   "id": "3c463632-f152-41bc-996d-0da460cbd235",
   "metadata": {},
   "outputs": [
    {
     "name": "stdout",
     "output_type": "stream",
     "text": [
      "1\n",
      "2\n",
      "3\n",
      "4\n",
      "5\n",
      "6\n",
      "7\n",
      "8\n",
      "9\n"
     ]
    }
   ],
   "source": [
    "def check_disarium_number(n:int)->bool:\n",
    "    count=count_digits(n)\n",
    "    temp=n\n",
    "    ans=0\n",
    "    while temp>0:\n",
    "        ans+=(temp%10)**(count)\n",
    "        count-=1\n",
    "        temp//=10\n",
    "    return ans==n\n",
    "\n",
    "def count_digits(n:int)->int:\n",
    "    count=0\n",
    "    while n>0:\n",
    "        count+=1\n",
    "        n//=10\n",
    "    return count\n",
    "\n",
    "def check_harshed_number(n):\n",
    "    temp=n\n",
    "    sum=0\n",
    "    while temp>0:\n",
    "        sum+=temp%10\n",
    "        temp//=10\n",
    "    return n%sum==0\n",
    "# print(check_harshed_number(18))\n",
    "for i in range(1,101):\n",
    "    if check_harshed_number(i) and check_disarium_number(i):\n",
    "        print(i)"
   ]
  },
  {
   "cell_type": "code",
   "execution_count": 307,
   "id": "8b729716-06fb-45fe-9e32-cafd23d12df9",
   "metadata": {},
   "outputs": [
    {
     "name": "stdin",
     "output_type": "stream",
     "text": [
      "Enter Test Score:  80\n"
     ]
    },
    {
     "name": "stdout",
     "output_type": "stream",
     "text": [
      "80\n"
     ]
    },
    {
     "name": "stdin",
     "output_type": "stream",
     "text": [
      "Enter Test Score:  70\n"
     ]
    },
    {
     "name": "stdout",
     "output_type": "stream",
     "text": [
      "150\n"
     ]
    },
    {
     "name": "stdin",
     "output_type": "stream",
     "text": [
      "Enter Test Score:  60\n"
     ]
    },
    {
     "name": "stdout",
     "output_type": "stream",
     "text": [
      "210\n"
     ]
    },
    {
     "name": "stdin",
     "output_type": "stream",
     "text": [
      "Enter Test Score:  150\n"
     ]
    },
    {
     "name": "stdout",
     "output_type": "stream",
     "text": [
      "Entered score is more than hundred, so enter again\n"
     ]
    },
    {
     "name": "stdin",
     "output_type": "stream",
     "text": [
      "Enter Test Score:  50\n"
     ]
    },
    {
     "name": "stdout",
     "output_type": "stream",
     "text": [
      "260\n"
     ]
    },
    {
     "name": "stdin",
     "output_type": "stream",
     "text": [
      "Enter Test Score:  70\n"
     ]
    },
    {
     "name": "stdout",
     "output_type": "stream",
     "text": [
      "330\n"
     ]
    },
    {
     "name": "stdin",
     "output_type": "stream",
     "text": [
      "Enter Test Score:  20\n"
     ]
    },
    {
     "name": "stdout",
     "output_type": "stream",
     "text": [
      "350\n"
     ]
    },
    {
     "name": "stdin",
     "output_type": "stream",
     "text": [
      "Enter Test Score:  89\n"
     ]
    },
    {
     "name": "stdout",
     "output_type": "stream",
     "text": [
      "439\n"
     ]
    },
    {
     "name": "stdin",
     "output_type": "stream",
     "text": [
      "Enter Test Score:  90\n"
     ]
    },
    {
     "name": "stdout",
     "output_type": "stream",
     "text": [
      "529\n"
     ]
    },
    {
     "name": "stdin",
     "output_type": "stream",
     "text": [
      "Enter Test Score:  45\n"
     ]
    },
    {
     "name": "stdout",
     "output_type": "stream",
     "text": [
      "574\n"
     ]
    },
    {
     "name": "stdin",
     "output_type": "stream",
     "text": [
      "Enter Test Score:  67\n"
     ]
    },
    {
     "name": "stdout",
     "output_type": "stream",
     "text": [
      "641\n",
      "10\n",
      "64.1\n",
      "highest score is 90 and lowest score is 20\n",
      "Average score is 64.1\n",
      "Second largest score is 89\n",
      "Average after dropping two lowest scores is: 72.0\n"
     ]
    }
   ],
   "source": [
    "count=0\n",
    "max1=0\n",
    "min1=100\n",
    "max2=0\n",
    "min2=0\n",
    "avg=0\n",
    "sum=0\n",
    "while True:\n",
    "    if count==10:break\n",
    "    num=int(input('Enter Test Score: '))\n",
    "    if num>100:\n",
    "        print('Entered score is more than hundred, so enter again')\n",
    "        continue\n",
    "    count+=1\n",
    "    sum+=num\n",
    "    print(sum)\n",
    "    if count==1:\n",
    "        max1=num\n",
    "        max2=num\n",
    "        min1=num\n",
    "        min2=num\n",
    "\n",
    "    if num>max1:\n",
    "        max2=max1\n",
    "        max1=num\n",
    "    elif num>max2 and max2!=max1:\n",
    "        max2=num\n",
    "\n",
    "    if num<min1:\n",
    "        min2=min1\n",
    "        min1=num\n",
    "    elif num<min2 and min2!=min1:\n",
    "        min2=num\n",
    "print(count)\n",
    "avg=sum/(count)\n",
    "print(avg)\n",
    "print(f'highest score is {max1} and lowest score is {min1}')\n",
    "print(f'Average score is {avg}')\n",
    "print(f'Second largest score is {max2}')\n",
    "print(f'Average after dropping two lowest scores is: {(sum-min1-min2)/(count-2)}')"
   ]
  },
  {
   "cell_type": "code",
   "execution_count": 37,
   "id": "a74c06bc-d491-4b34-871f-f2d50e151203",
   "metadata": {},
   "outputs": [
    {
     "name": "stdin",
     "output_type": "stream",
     "text": [
      "Enter a number:  9259\n"
     ]
    },
    {
     "name": "stdout",
     "output_type": "stream",
     "text": [
      "630\n",
      "The number after encoding is 36\n"
     ]
    }
   ],
   "source": [
    "num=int(input('Enter a number: '))\n",
    "temp=num\n",
    "ans=0\n",
    "while temp>0:\n",
    "    rem=temp%10\n",
    "    en=0\n",
    "    if rem>=0 and rem<=8:en=rem+1\n",
    "    else:en=0\n",
    "    ans=ans*10+en\n",
    "    temp//=10\n",
    "temp=ans\n",
    "print(ans)\n",
    "ans=0\n",
    "while temp>0:\n",
    "    ans=ans*10+temp%10\n",
    "    temp//=10\n",
    "print('The number after encoding is',ans)"
   ]
  },
  {
   "cell_type": "code",
   "execution_count": 309,
   "id": "c0b0a1ae-6a5e-40cd-b772-15ffc60f688e",
   "metadata": {},
   "outputs": [
    {
     "name": "stdin",
     "output_type": "stream",
     "text": [
      "Enter a number:  9259\n"
     ]
    },
    {
     "name": "stdout",
     "output_type": "stream",
     "text": [
      "The number after encoding is: 360\n"
     ]
    }
   ],
   "source": [
    "num=int(input('Enter a number: '))\n",
    "temp=num\n",
    "count=0\n",
    "while temp>0:\n",
    "    count+=1\n",
    "    temp//=10\n",
    "temp=num\n",
    "ans=0\n",
    "while temp>0:\n",
    "    rem=temp//10**(count-1)\n",
    "    temp%=10**(count-1)\n",
    "    count-=1\n",
    "    en=0\n",
    "    if rem>=0 and rem<=8:en=rem+1\n",
    "    else:en=0\n",
    "    ans=ans*10+en\n",
    "print('The number after encoding is:',ans)"
   ]
  },
  {
   "cell_type": "code",
   "execution_count": 71,
   "id": "b014cc4a-3d89-47e8-b1e6-08953ef2edb2",
   "metadata": {},
   "outputs": [
    {
     "name": "stdout",
     "output_type": "stream",
     "text": [
      "111112\n",
      "111121\n",
      "111211\n",
      "112111\n",
      "121111\n",
      "211111\n"
     ]
    }
   ],
   "source": [
    "num=2\n",
    "for i in range(111111,1000000):\n",
    "    temp=i\n",
    "    mul=1\n",
    "    while temp>0:\n",
    "        mul*=temp%10\n",
    "        temp//=10\n",
    "    if mul==num:print(i)"
   ]
  },
  {
   "cell_type": "code",
   "execution_count": 79,
   "id": "1087a7f2-8895-44ac-8cbe-f44347af2a27",
   "metadata": {},
   "outputs": [
    {
     "name": "stdin",
     "output_type": "stream",
     "text": [
      "Enter number(enter quit when you want to exit):  4\n",
      "Enter number(enter quit when you want to exit):  1\n",
      "Enter number(enter quit when you want to exit):  5\n",
      "Enter number(enter quit when you want to exit):  quit\n"
     ]
    },
    {
     "name": "stdout",
     "output_type": "stream",
     "text": [
      "\n",
      "Sum=10\n",
      "Average=3.333\n",
      "Minimum Number=1\n",
      "Maximum Number=5\n",
      "\n"
     ]
    }
   ],
   "source": [
    "sum=0\n",
    "count=0\n",
    "avg=0\n",
    "max=0\n",
    "min=0\n",
    "while True:\n",
    "    num=(input('Enter number(enter quit when you want to exit): '))\n",
    "    if num=='quit' or num=='Quit':break\n",
    "    count+=1\n",
    "    n=int(num)\n",
    "    if count==1:\n",
    "        max=n\n",
    "        min=n\n",
    "    sum+=n\n",
    "    if n>max:max=n\n",
    "    if n<min:min=n\n",
    "avg=sum/count\n",
    "print(f'''\n",
    "Sum={sum}\n",
    "Average={avg:.3f}\n",
    "Minimum Number={min}\n",
    "Maximum Number={max}\n",
    "''')"
   ]
  },
  {
   "cell_type": "code",
   "execution_count": 85,
   "id": "aae3c855-1e32-48d9-a4ab-b96c00c6f4ea",
   "metadata": {},
   "outputs": [
    {
     "name": "stdout",
     "output_type": "stream",
     "text": [
      "*               * \n",
      "* *           * * \n",
      "* * *       * * * \n",
      "* * * *   * * * * \n",
      "* * * * * * * * * \n",
      "* * * *   * * * * \n",
      "* * *       * * * \n",
      "* *           * * \n",
      "*               * \n"
     ]
    }
   ],
   "source": [
    "n=5\n",
    "for i in range(1,n+1):\n",
    "    for j in range(1,i+1):print('*',end=' ')\n",
    "    for k in range(1,2*(n-i)):print(' ',end=' ')\n",
    "    for j in range(i,0,-1):\n",
    "        if j==n:continue\n",
    "        print('*',end=' ')\n",
    "    print()\n",
    "for i in range(n-1,0,-1):\n",
    "    for j in range(1,i+1):print('*',end=' ')\n",
    "    for k in range(1,2*(n-i)):print(' ',end=' ')\n",
    "    for j in range(i,0,-1):\n",
    "        if j==n:continue\n",
    "        print('*',end=' ')\n",
    "    print()"
   ]
  },
  {
   "cell_type": "code",
   "execution_count": 91,
   "id": "8c86dc09-790f-4cc1-9970-44f82c99e705",
   "metadata": {},
   "outputs": [
    {
     "name": "stdin",
     "output_type": "stream",
     "text": [
      "Enter Month:  May\n",
      "Enter Nights:  5\n"
     ]
    },
    {
     "name": "stdout",
     "output_type": "stream",
     "text": [
      "Studio Rent for 5 Nights is $ 315\n",
      "Apartment Rent for 5 Nights is $ 400\n"
     ]
    }
   ],
   "source": [
    "month=input('Enter Month: ')\n",
    "night=int(input('Enter Nights: '))\n",
    "\n",
    "cost_studio:float=0\n",
    "cost_apart:float=0\n",
    "discount_studio:float=0\n",
    "discount_apart:float=0\n",
    "\n",
    "if month=='January' or month=='February' or month=='March' or month=='April':\n",
    "    cost_studio=50*night\n",
    "    cost_apart=60*night\n",
    "    if night>3 and night<=7:\n",
    "        discount_studio=cost_studio*0.2\n",
    "    if night>7:\n",
    "        discount_studio=cost_studio*0.3\n",
    "elif month=='May' or month=='June' or month=='July' or month=='August':\n",
    "    cost_studio=70*night\n",
    "    cost_apart=80*night\n",
    "    if night>3 and night<=7:\n",
    "        discount_studio=cost_studio*0.1\n",
    "    if night>7:\n",
    "        discount_studio=cost_studio*0.2\n",
    "else:\n",
    "    cost_studio=80*night\n",
    "    cost_apart=90*night\n",
    "    if night>3 and night<=7:\n",
    "        discount_studio=cost_studio*0.05\n",
    "    if night>7:\n",
    "        discount_studio=cost_studio*0.1\n",
    "\n",
    "if night>7:\n",
    "    discount_apart=cost_apart*0.1\n",
    "cost_studio-=discount_studio\n",
    "cost_apart-=discount_apart\n",
    "print(f'Studio Rent for {night} Nights is $ {int(cost_studio)}')\n",
    "print(f'Apartment Rent for {night} Nights is $ {int(cost_apart)}')"
   ]
  },
  {
   "cell_type": "code",
   "execution_count": 123,
   "id": "aa25a166-a161-42b8-962d-3d9f99076c80",
   "metadata": {},
   "outputs": [
    {
     "name": "stdin",
     "output_type": "stream",
     "text": [
      "Enter a year:  2076\n"
     ]
    },
    {
     "name": "stdout",
     "output_type": "stream",
     "text": [
      "Expected Outcome: 2076-04-19\n"
     ]
    }
   ],
   "source": [
    "year=int(input('Enter a year: '))\n",
    "month=0\n",
    "a=year%19\n",
    "b=year%4\n",
    "c=year%7\n",
    "d=(19*a+24)%30\n",
    "e=(2*b+4*c+6*d+5)%7\n",
    "dateofeaster=22+d+e\n",
    "if year==1954 or year==1981 or year==2049 or year==2076:\n",
    "    dateofeaster-=7\n",
    "if dateofeaster>31:\n",
    "    dateofeaster%=31\n",
    "    month=4\n",
    "else:month=3\n",
    "print(f'Expected Outcome: {year}-{month:02d}-{dateofeaster:02d}')"
   ]
  },
  {
   "cell_type": "code",
   "execution_count": 121,
   "id": "026d5196-de36-4000-8eb8-ecef556e8415",
   "metadata": {},
   "outputs": [
    {
     "name": "stdin",
     "output_type": "stream",
     "text": [
      "Enter a year between 1900 to 2099:  2076\n"
     ]
    },
    {
     "name": "stdout",
     "output_type": "stream",
     "text": [
      "The date of Easter Sunday in 2076 is:2076-04-19\n"
     ]
    }
   ],
   "source": [
    "year = int(input(\"Enter a year between 1900 to 2099: \"))\n",
    "# Calculate the values using the given algorithm\n",
    "a = year % 19\n",
    "b = year % 4\n",
    "c = year % 7\n",
    "d = (19 * a + 24) % 30\n",
    "e = (2 * b + 4 * c + 6 * d + 5) % 7\n",
    "date_of_easter = 22 + d + e\n",
    "# Check if the calculated date is in April\n",
    "if date_of_easter > 31:\n",
    "# Adjust the date to be in April\n",
    "    date_of_easter -= 31\n",
    "    month = 4 # April\n",
    "else:month = 3 # March\n",
    "# Check if the year is one of the special years\n",
    "if year==1954 or year==1981 or year==2049 or year== 2076:\n",
    "    date_of_easter -= 7\n",
    "# Display the date of Easter Sunday\n",
    "print(f\"The date of Easter Sunday in {year} is:{year}-{month:02d}-{date_of_easter:02d}\")"
   ]
  },
  {
   "cell_type": "code",
   "execution_count": 131,
   "id": "56ee3edb-0552-4f28-8265-144bba6343e3",
   "metadata": {},
   "outputs": [
    {
     "name": "stdout",
     "output_type": "stream",
     "text": [
      "* * * * * \n",
      "  * * * * \n",
      "    * * * \n",
      "      * * \n",
      "        * \n"
     ]
    }
   ],
   "source": [
    "n=5\n",
    "for i in range(n,0,-1):\n",
    "    for k in range(n,i,-1):print(end='  ')\n",
    "    for j in range(1,i+1):print('*',end=' ')\n",
    "    print()"
   ]
  },
  {
   "cell_type": "code",
   "execution_count": 185,
   "id": "ba9eae2f-4615-4358-bd76-eb1bd2031396",
   "metadata": {},
   "outputs": [],
   "source": [
    "#Simple Python Calculator\n",
    "    # print(power(args))\n",
    "    # print('invalid choice')\n",
    "def addition(*args):\n",
    "    sum1=args[0]\n",
    "    for x in args[1:]:sum1+=x\n",
    "    return sum1\n",
    "def subtraction(*args):\n",
    "    sub=args[0]\n",
    "    for x in args[1:]:sub-=x\n",
    "    return sub\n",
    "def multiplication(*args):\n",
    "    mul=1\n",
    "    for x in args:mul*=x\n",
    "    return mul\n",
    "def division(*args):\n",
    "    div=args[0]\n",
    "    for x in args[1:]:div/=x\n",
    "    return div\n",
    "def power(*args):\n",
    "    pass\n",
    "\n",
    "def calculator(*args):\n",
    "    print(addition(args))\n",
    "    print(subtraction(args))\n",
    "    print(multiplication(args))\n",
    "    print(division(args))"
   ]
  },
  {
   "cell_type": "code",
   "execution_count": 187,
   "id": "6fdd6942-e5ee-4bed-8762-6943772e6b2b",
   "metadata": {},
   "outputs": [
    {
     "name": "stdout",
     "output_type": "stream",
     "text": [
      "(1, 2, 3, 4, 5)\n",
      "(1, 2, 3, 4, 5)\n",
      "(1, 2, 3, 4, 5)\n",
      "(1, 2, 3, 4, 5)\n"
     ]
    }
   ],
   "source": [
    "calculator(1,2,3,4,5)"
   ]
  },
  {
   "cell_type": "code",
   "execution_count": 227,
   "id": "681b8545-a9f5-4917-8b26-e1c92bb656ba",
   "metadata": {},
   "outputs": [
    {
     "name": "stdin",
     "output_type": "stream",
     "text": [
      "Enter days:  398\n"
     ]
    },
    {
     "name": "stdout",
     "output_type": "stream",
     "text": [
      "years=1, months=1 and days = 3\n"
     ]
    }
   ],
   "source": [
    "# Write a python program to convert Days into Years, Months and Days.\n",
    "# (Ex: if input of Days = 370 then output will be, years=1, months=0 and days = 5).\n",
    "days=int(input('Enter days: '))\n",
    "year=days//365\n",
    "month=(days%365)//30\n",
    "rem_days=(days%365)%30\n",
    "print(f'years={year}, months={month} and days = {rem_days}')"
   ]
  },
  {
   "cell_type": "code",
   "execution_count": 193,
   "id": "31719912-7be6-4d85-ad8f-4ff3add9c48a",
   "metadata": {},
   "outputs": [
    {
     "name": "stdin",
     "output_type": "stream",
     "text": [
      "Enter hours:  6\n"
     ]
    },
    {
     "name": "stdout",
     "output_type": "stream",
     "text": [
      "minutes = 360 and seconds = 21600\n"
     ]
    }
   ],
   "source": [
    "# Write a Python program to convert hours into minutes and seconds \n",
    "# (Ex : input of hours = 6 then output will be, minutes = 360 and seconds = 21600 ).\n",
    "hours=int(input('Enter hours: '))\n",
    "minutes=hours*60\n",
    "seconds=hours*3600\n",
    "print(f'minutes = {minutes} and seconds = {seconds}')"
   ]
  },
  {
   "cell_type": "code",
   "execution_count": 197,
   "id": "b78322cf-8f43-4962-99f5-c1c86a896783",
   "metadata": {},
   "outputs": [
    {
     "name": "stdin",
     "output_type": "stream",
     "text": [
      "Enter number 1:  3\n",
      "Enter number 2:  4\n",
      "Enter Operand(+ - Addition, - - Subtraction, * - Multiplication, / - Division, // - Floor Division, % - Modulation, ** - Power):  **\n"
     ]
    },
    {
     "name": "stdout",
     "output_type": "stream",
     "text": [
      "Power is: 81\n"
     ]
    }
   ],
   "source": [
    "def addition(a,b):\n",
    "    return a+b\n",
    "def subtraction(a,b):\n",
    "    return a-b\n",
    "def multiplication(a,b):\n",
    "    return a*b\n",
    "def division(a,b):\n",
    "    return a/b\n",
    "def modulation(a,b):\n",
    "    return a%b\n",
    "def power(a,b):\n",
    "    return a**b\n",
    "def floor_division(a,b):\n",
    "    return a//b\n",
    "\n",
    "a=int(input('Enter number 1: '))\n",
    "b=int(input('Enter number 2: '))\n",
    "op=input('Enter Operand(+ - Addition, - - Subtraction, * - Multiplication, / - Division, // - Floor Division, % - Modulation, ** - Power): ')\n",
    "if op=='+':print('Addition is:',addition(a,b))\n",
    "elif op=='-':print('Subtraction is:',subtraction(a,b))\n",
    "elif op=='*':print('Multiplication is:',multiplication(a,b))\n",
    "elif op=='/':print('Division is:',division(a,b))\n",
    "elif op=='//':print('Floor Division is:',floor_division(a,b))\n",
    "elif op=='%':print('Modulation is:',modulation(a,b))\n",
    "elif op=='**':print('Power is:',power(a,b))\n",
    "else:print('Invalid Option')"
   ]
  },
  {
   "cell_type": "code",
   "execution_count": 223,
   "id": "2a07c8ab-f395-49e8-9420-f6b9d020a603",
   "metadata": {},
   "outputs": [
    {
     "name": "stdin",
     "output_type": "stream",
     "text": [
      "Enter a number:  25\n",
      "Enter number of guesses:  100\n"
     ]
    },
    {
     "name": "stdout",
     "output_type": "stream",
     "text": [
      "Ans is: 5.0\n"
     ]
    }
   ],
   "source": [
    "x=int(input('Enter a number: '))\n",
    "guess=int(input('Enter number of guesses: '))\n",
    "ans=x/2\n",
    "for i in range(guess):\n",
    "    ans=guess\n",
    "    guess=(guess+x/guess)/2\n",
    "print('Ans is:',ans)"
   ]
  },
  {
   "cell_type": "code",
   "execution_count": 231,
   "id": "1a8bd3a2-94aa-4285-a282-34c342aab1df",
   "metadata": {},
   "outputs": [],
   "source": [
    "a_=1"
   ]
  },
  {
   "cell_type": "code",
   "execution_count": 233,
   "id": "fd97e55f-296a-44c3-96c1-4b64adace549",
   "metadata": {},
   "outputs": [
    {
     "ename": "ZeroDivisionError",
     "evalue": "division by zero",
     "output_type": "error",
     "traceback": [
      "\u001b[1;31m---------------------------------------------------------------------------\u001b[0m",
      "\u001b[1;31mZeroDivisionError\u001b[0m                         Traceback (most recent call last)",
      "Cell \u001b[1;32mIn[233], line 1\u001b[0m\n\u001b[1;32m----> 1\u001b[0m \u001b[38;5;28mprint\u001b[39m(\u001b[38;5;28;01mTrue\u001b[39;00m\u001b[38;5;241m/\u001b[39m\u001b[38;5;28;01mFalse\u001b[39;00m)\n",
      "\u001b[1;31mZeroDivisionError\u001b[0m: division by zero"
     ]
    }
   ],
   "source": [
    "print(True/False)"
   ]
  },
  {
   "cell_type": "code",
   "execution_count": 247,
   "id": "8b663035-2763-47d2-b2b6-dd5a7d0ad9db",
   "metadata": {},
   "outputs": [
    {
     "name": "stdout",
     "output_type": "stream",
     "text": [
      "900 0 20\n"
     ]
    }
   ],
   "source": [
    "def fun(c,a=5,b=10): \n",
    "    print(a**2,b//a,c**1)\n",
    "fun(20,30)"
   ]
  },
  {
   "cell_type": "code",
   "execution_count": 283,
   "id": "308dbcd7-83a2-49b3-99bd-022f981e93c1",
   "metadata": {},
   "outputs": [
    {
     "ename": "TypeError",
     "evalue": "can only concatenate str (not \"bool\") to str",
     "output_type": "error",
     "traceback": [
      "\u001b[1;31m---------------------------------------------------------------------------\u001b[0m",
      "\u001b[1;31mTypeError\u001b[0m                                 Traceback (most recent call last)",
      "Cell \u001b[1;32mIn[283], line 1\u001b[0m\n\u001b[1;32m----> 1\u001b[0m \u001b[38;5;124m'\u001b[39m\u001b[38;5;124mHello\u001b[39m\u001b[38;5;124m'\u001b[39m\u001b[38;5;241m+\u001b[39m\u001b[38;5;28;01mTrue\u001b[39;00m\n",
      "\u001b[1;31mTypeError\u001b[0m: can only concatenate str (not \"bool\") to str"
     ]
    }
   ],
   "source": [
    "'Hello'+True"
   ]
  }
 ],
 "metadata": {
  "kernelspec": {
   "display_name": "Python 3 (ipykernel)",
   "language": "python",
   "name": "python3"
  },
  "language_info": {
   "codemirror_mode": {
    "name": "ipython",
    "version": 3
   },
   "file_extension": ".py",
   "mimetype": "text/x-python",
   "name": "python",
   "nbconvert_exporter": "python",
   "pygments_lexer": "ipython3",
   "version": "3.12.4"
  }
 },
 "nbformat": 4,
 "nbformat_minor": 5
}
