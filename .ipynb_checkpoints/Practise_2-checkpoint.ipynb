{
 "cells": [
  {
   "cell_type": "code",
   "execution_count": 9,
   "id": "91c6379a-dd93-46d4-8f43-94f2dace79bd",
   "metadata": {},
   "outputs": [
    {
     "name": "stdin",
     "output_type": "stream",
     "text": [
      "Enter days:  743\n"
     ]
    },
    {
     "name": "stdout",
     "output_type": "stream",
     "text": [
      "2 0 13\n"
     ]
    }
   ],
   "source": [
    "days=int(input('Enter days: '))\n",
    "year=days//365\n",
    "month=(days%365)//30\n",
    "rem_days=(days%365%30)\n",
    "print(year,month,rem_days)"
   ]
  },
  {
   "cell_type": "code",
   "execution_count": 13,
   "id": "cb20feb7-0e5d-4d17-a118-b992e7af099d",
   "metadata": {},
   "outputs": [
    {
     "name": "stdin",
     "output_type": "stream",
     "text": [
      "Enter seconds:  13658\n"
     ]
    },
    {
     "name": "stdout",
     "output_type": "stream",
     "text": [
      "0 3 47 38\n"
     ]
    }
   ],
   "source": [
    "seconds=int(input('Enter seconds: '))\n",
    "days=seconds//86400\n",
    "hours=seconds%86400//3660\n",
    "minutes=(seconds%86400%3600)//60\n",
    "rem_seconds=seconds%84600%3600%60\n",
    "print(days,hours,minutes,rem_seconds)"
   ]
  },
  {
   "cell_type": "code",
   "execution_count": 25,
   "id": "12fd088d-24f8-4c15-bb4d-f1a6d39399f1",
   "metadata": {},
   "outputs": [
    {
     "name": "stdin",
     "output_type": "stream",
     "text": [
      "Enter a positive integer:  9259\n"
     ]
    },
    {
     "name": "stdout",
     "output_type": "stream",
     "text": [
      "The number after encoding is: 360\n"
     ]
    }
   ],
   "source": [
    "number = int(input(\"Enter a positive integer: \"))\n",
    "# Initialize variables\n",
    "encoded_number = 0\n",
    "multiplier = 1\n",
    "# Encode the number based on the given rules\n",
    "while number > 0:\n",
    "    remainder = number % 10\n",
    "    if remainder == 9:\n",
    "        encoded_digit = 0\n",
    "    else:\n",
    "        encoded_digit = remainder + 1\n",
    "    encoded_number += encoded_digit * multiplier\n",
    "    multiplier *= 10\n",
    "    number //= 10\n",
    "# Display the encoded number\n",
    "print(f\"The number after encoding is: {encoded_number}\")"
   ]
  },
  {
   "cell_type": "code",
   "execution_count": 47,
   "id": "5ec519f6-9917-49c4-a8f5-6f25a002eb89",
   "metadata": {},
   "outputs": [
    {
     "name": "stdout",
     "output_type": "stream",
     "text": [
      "21\n"
     ]
    }
   ],
   "source": [
    "def count_digits(n):\n",
    "    count=0\n",
    "    while n>0:\n",
    "        count+=1\n",
    "        n//=10\n",
    "    return count\n",
    "def change_first_last_digits(n):\n",
    "    ld=n%10\n",
    "    count=count_digits(n)\n",
    "    fd=n//(10**(count-1))\n",
    "    ans=(n//10)*10+fd\n",
    "    ans=ans%(10**(count-1))+(ld*(10**(count-1)))\n",
    "    return ans\n",
    "print(change_first_last_digits(12))"
   ]
  },
  {
   "cell_type": "code",
   "execution_count": 71,
   "id": "f8d04ce1-8385-427c-8fec-163001537c2c",
   "metadata": {},
   "outputs": [
    {
     "name": "stdout",
     "output_type": "stream",
     "text": [
      "4.0\n"
     ]
    }
   ],
   "source": [
    "def square_num_guess(n,iter):\n",
    "    guess=n/2\n",
    "    for i in range(iter):\n",
    "        guess=(guess+n/guess)/2\n",
    "    return guess\n",
    "print(f'{square_num_guess(16,10)}')"
   ]
  },
  {
   "cell_type": "code",
   "execution_count": 158,
   "id": "a038e442-387b-46d1-8b45-139531811857",
   "metadata": {},
   "outputs": [],
   "source": [
    "def func(a,b,c=5,*d,e=5,**kwargs):\n",
    "    return a,b,c,d,e,kwargs"
   ]
  },
  {
   "cell_type": "code",
   "execution_count": 161,
   "id": "a009e3f1-4f42-467b-8c85-520b14e819bd",
   "metadata": {},
   "outputs": [
    {
     "ename": "SyntaxError",
     "evalue": "positional argument follows keyword argument (933970849.py, line 1)",
     "output_type": "error",
     "traceback": [
      "\u001b[1;36m  Cell \u001b[1;32mIn[161], line 1\u001b[1;36m\u001b[0m\n\u001b[1;33m    print(func(1,2,c=5,1,2,3,4,5,e=5,f=5))\u001b[0m\n\u001b[1;37m                                        ^\u001b[0m\n\u001b[1;31mSyntaxError\u001b[0m\u001b[1;31m:\u001b[0m positional argument follows keyword argument\n"
     ]
    }
   ],
   "source": [
    "print(func(1,2,1,2,3,4,5,c=5,e=5,f=5))"
   ]
  },
  {
   "cell_type": "code",
   "execution_count": null,
   "id": "854d9114-2dc0-4439-a7f3-264eca077c01",
   "metadata": {},
   "outputs": [],
   "source": []
  }
 ],
 "metadata": {
  "kernelspec": {
   "display_name": "Python 3 (ipykernel)",
   "language": "python",
   "name": "python3"
  },
  "language_info": {
   "codemirror_mode": {
    "name": "ipython",
    "version": 3
   },
   "file_extension": ".py",
   "mimetype": "text/x-python",
   "name": "python",
   "nbconvert_exporter": "python",
   "pygments_lexer": "ipython3",
   "version": "3.12.4"
  }
 },
 "nbformat": 4,
 "nbformat_minor": 5
}
