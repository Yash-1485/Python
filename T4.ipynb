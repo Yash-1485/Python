{
 "cells": [
  {
   "cell_type": "code",
   "execution_count": 1,
   "id": "841d52a0-653a-4018-b6e7-ae6caaa98e71",
   "metadata": {},
   "outputs": [
    {
     "data": {
      "text/plain": [
       "<BarContainer object of 4 artists>"
      ]
     },
     "execution_count": 1,
     "metadata": {},
     "output_type": "execute_result"
    },
    {
     "data": {
      "image/png": "[encoded data removed]",
      "text/plain": [
       "<Figure size 640x480 with 1 Axes>"
      ]
     },
     "metadata": {},
     "output_type": "display_data"
    }
   ],
   "source": [
    "import matplotlib.pyplot as mt\n",
    "a=mt.bar([1,2,3,4],[2,4,6,8])\n",
    "a"
   ]
  },
  {
   "cell_type": "code",
   "execution_count": null,
   "id": "32c15f58-ed32-4bdf-8d5f-c11e38fcf5b8",
   "metadata": {},
   "outputs": [],
   "source": []
  },
  {
   "cell_type": "code",
   "execution_count": 4,
   "id": "cb0ea77e-37fd-4c02-b22e-de6ce5a03b2e",
   "metadata": {},
   "outputs": [
    {
     "name": "stdout",
     "output_type": "stream",
     "text": [
      "Overwriting C:/Users/Yash A Parekh/.jupyter/nbconfig/notebook.json\n"
     ]
    }
   ],
   "source": [
    "%%writefile \"C:/Users/Yash A Parekh/.jupyter/nbconfig/notebook.json\"\n",
    "{\n",
    "  \"MarkdownCell\": {\n",
    "    \"cm_config\": {\n",
    "      \"lineWrapping\": true\n",
    "    }\n",
    "  },\n",
    "  \"CodeCell\": {\n",
    "    \"cm_config\": {\n",
    "      \"lineWrapping\": true\n",
    "    }\n",
    "  }\n",
    "}"
   ]
  },
  {
   "cell_type": "code",
   "execution_count": null,
   "id": "db3419ad-1d06-4f0f-bb3e-1b57b2a3ab02",
   "metadata": {},
   "outputs": [],
   "source": [
    "zzzzzzzzzzzzzzzzzzzzzzzzzzzzzzzzzzzzzzzzzzzzzzzzzzzzzzzzzzzzzzzzzzzzzzzzzzzzzzzzzzzzzzzzzzzzzzzzzzzzzzzzzzzzzzzzzzzzzzzzzzzzzzzzzzzzzzzzzzzzzzzzzzzzzzzzzzz"
   ]
  },
  {
   "cell_type": "code",
   "execution_count": null,
   "id": "06af8008-6359-4092-8c83-5b4ab46420af",
   "metadata": {},
   "outputs": [],
   "source": []
  }
 ],
 "metadata": {
  "kernelspec": {
   "display_name": "Python 3 (ipykernel)",
   "language": "python",
   "name": "python3"
  },
  "language_info": {
   "codemirror_mode": {
    "name": "ipython",
    "version": 3
   },
   "file_extension": ".py",
   "mimetype": "text/x-python",
   "name": "python",
   "nbconvert_exporter": "python",
   "pygments_lexer": "ipython3",
   "version": "3.12.4"
  }
 },
 "nbformat": 4,
 "nbformat_minor": 5
}
